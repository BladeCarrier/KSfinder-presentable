{
 "cells": [
  {
   "cell_type": "code",
   "execution_count": 3,
   "metadata": {
    "collapsed": true
   },
   "outputs": [],
   "source": [
    "from matplotlib import pyplot as plt\n",
    "%matplotlib inline"
   ]
  },
  {
   "cell_type": "code",
   "execution_count": 4,
   "metadata": {
    "collapsed": true
   },
   "outputs": [],
   "source": [
    "import os\n",
    "import pandas as pd\n",
    "from sklearn.externals import joblib\n",
    "import random\n",
    "from retina.retina_theanized import Retina\n",
    "import numpy as np"
   ]
  },
  {
   "cell_type": "code",
   "execution_count": 5,
   "metadata": {
    "collapsed": false
   },
   "outputs": [],
   "source": [
    "fd1 = \"../eventtracer/mc_sig_hits/03695701_0000422027.hits.csv\"\n",
    "xyz1 = pd.DataFrame.from_csv(fd1,)[[\"X\",\"Y\",\"Z\"]].values\n",
    "fd2 = \"../eventtracer/mc_bg_hits/00111190_0000000004.hits.csv\"\n",
    "xyz2 = pd.DataFrame.from_csv(fd2,)[[\"X\",\"Y\",\"Z\"]].values\n",
    "\n",
    "def _response(t):\n",
    "\n",
    "    ks = np.zeros(3)\n",
    "    #ks[2]+=1\n",
    "    ks[0] = 3\n",
    "    ks[1] = 3\n",
    "    ks[2] = -100+100*t\n",
    "    alpha_c=0\n",
    "    beta_c =0\n",
    "    #ks = KS[evtids_ks[i]][2]\n",
    "\n",
    "    xdim=ydim=32\n",
    "    dalpha = np.pi/3\n",
    "    dbeta = np.pi/3\n",
    "    alphas = np.linspace(-dalpha+alpha_c, alpha_c+dalpha,num=xdim)\n",
    "    bethas = np.linspace(-dbeta+beta_c, beta_c+dbeta,num=ydim)\n",
    "    retina = Retina(ks,alphas,bethas,variance=50,power=2)\n",
    "\n",
    "    n_pts = 1000\n",
    "    xyz1_hits = xyz1[xyz1[:,2]>=ks[2]]\n",
    "    xyz1_hits = xyz1_hits[np.argsort(xyz1_hits[:,2])[:n_pts]]\n",
    "\n",
    "    xyz2_hits = xyz2[xyz2[:,2]>=ks[2]]\n",
    "    xyz2_hits = xyz2_hits[np.argsort(xyz2_hits[:,2])[:n_pts]]\n",
    "    \n",
    "    \n",
    "    \n",
    "    nthreads = 1\n",
    "    \n",
    "    img1 = retina.response(xyz1_hits,block_size = (len(xyz1)-1)/nthreads+1,n_jobs=nthreads)\n",
    "    img2 = retina.response(xyz2_hits,block_size = (len(xyz2)-1)/nthreads+1,n_jobs=nthreads)\n",
    "    return ks[2],img1,img2\n",
    "\n",
    "tasks = map(joblib.delayed(_response),range(150))\n",
    "frames = joblib.Parallel(n_jobs=-1)(tasks)"
   ]
  },
  {
   "cell_type": "code",
   "execution_count": 6,
   "metadata": {
    "collapsed": false
   },
   "outputs": [
    {
     "data": {
      "image/png": "[encoded data removed]",
      "text/plain": [
       "<matplotlib.figure.Figure at 0x7f5da6383910>"
      ]
     },
     "metadata": {},
     "output_type": "display_data"
    }
   ],
   "source": [
    "from IPython import display\n",
    "for z,img1,img2 in frames:\n",
    "    xdim=ydim=32\n",
    "    \n",
    "    \n",
    "    plt.figure(figsize=[14,8])\n",
    "    _p0 = plt.subplot(1,2,0)\n",
    "    _im0 = _p0.imshow(img1.reshape(xdim,ydim),vmin=0,vmax=7,interpolation='nearest',cmap=\"hot\")\n",
    "    _p1 = plt.subplot(1,2,1)\n",
    "    _im1 = _p1.imshow(img2.reshape(xdim,ydim),vmin=0,vmax=7,interpolation='nearest',cmap=\"hot\")\n",
    "    \n",
    "\n",
    "    plt.colorbar(_im0,ax=_p0)\n",
    "    plt.colorbar(_im1,ax=_p1)\n",
    "    plt.show()\n",
    "    #print z\n",
    "    display.clear_output(wait=True)\n"
   ]
  },
  {
   "cell_type": "code",
   "execution_count": null,
   "metadata": {
    "collapsed": true
   },
   "outputs": [],
   "source": []
  },
  {
   "cell_type": "code",
   "execution_count": null,
   "metadata": {
    "collapsed": true
   },
   "outputs": [],
   "source": []
  },
  {
   "cell_type": "code",
   "execution_count": null,
   "metadata": {
    "collapsed": true
   },
   "outputs": [],
   "source": []
  },
  {
   "cell_type": "code",
   "execution_count": null,
   "metadata": {
    "collapsed": true
   },
   "outputs": [],
   "source": []
  },
  {
   "cell_type": "code",
   "execution_count": null,
   "metadata": {
    "collapsed": true
   },
   "outputs": [],
   "source": []
  },
  {
   "cell_type": "code",
   "execution_count": null,
   "metadata": {
    "collapsed": true
   },
   "outputs": [],
   "source": []
  },
  {
   "cell_type": "code",
   "execution_count": null,
   "metadata": {
    "collapsed": true
   },
   "outputs": [],
   "source": []
  },
  {
   "cell_type": "code",
   "execution_count": null,
   "metadata": {
    "collapsed": true
   },
   "outputs": [],
   "source": []
  },
  {
   "cell_type": "code",
   "execution_count": null,
   "metadata": {
    "collapsed": true
   },
   "outputs": [],
   "source": []
  },
  {
   "cell_type": "code",
   "execution_count": null,
   "metadata": {
    "collapsed": true
   },
   "outputs": [],
   "source": []
  },
  {
   "cell_type": "code",
   "execution_count": null,
   "metadata": {
    "collapsed": true
   },
   "outputs": [],
   "source": []
  },
  {
   "cell_type": "code",
   "execution_count": null,
   "metadata": {
    "collapsed": true
   },
   "outputs": [],
   "source": []
  }
 ],
 "metadata": {
  "kernelspec": {
   "display_name": "Python 2",
   "language": "python",
   "name": "python2"
  },
  "language_info": {
   "codemirror_mode": {
    "name": "ipython",
    "version": 2
   },
   "file_extension": ".py",
   "mimetype": "text/x-python",
   "name": "python",
   "nbconvert_exporter": "python",
   "pygments_lexer": "ipython2",
   "version": "2.7.6"
  }
 },
 "nbformat": 4,
 "nbformat_minor": 0
}
