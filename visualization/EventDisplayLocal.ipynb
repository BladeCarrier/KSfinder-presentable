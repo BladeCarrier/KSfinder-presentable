{
 "cells": [
  {
   "cell_type": "code",
   "execution_count": 1,
   "metadata": {
    "collapsed": true
   },
   "outputs": [],
   "source": [
    "import os\n",
    "import json\n",
    "from IPython.display import IFrame\n",
    "import numpy as np"
   ]
  },
  {
   "cell_type": "markdown",
   "metadata": {},
   "source": [
    "##launch server"
   ]
  },
  {
   "cell_type": "code",
   "execution_count": 2,
   "metadata": {
    "collapsed": false
   },
   "outputs": [
    {
     "data": {
      "text/plain": [
       "0"
      ]
     },
     "execution_count": 2,
     "metadata": {},
     "output_type": "execute_result"
    }
   ],
   "source": [
    "port=8000\n",
    "os.system(\"cd web/ && python -m SimpleHTTPServer {} &\".format(port))"
   ]
  },
  {
   "cell_type": "code",
   "execution_count": 3,
   "metadata": {
    "collapsed": true
   },
   "outputs": [],
   "source": [
    "def show_event_from_path(json_path,\n",
    "                         path_to_display_events = \"web/events/\",\n",
    "                         _in_display_name=\"event.json\",\n",
    "                         eventDisplay_addr=\"http://localhost:8000\",\n",
    "                         iframe_width=1024,\n",
    "                         iframe_height=768):\n",
    "\n",
    "    display_path_name = os.path.join(path_to_display_events,_in_display_name)\n",
    "\n",
    "    os.system(\"cp {evt_path_name} {display_path_name}\".format(evt_path_name = json_path,\n",
    "                                                      display_path_name = display_path_name))\n",
    "    \n",
    "    with open('web/events/events.json','w') as evj_file:\n",
    "        evj_file.write('[\"events/{}\"]'.format(_in_display_name))\n",
    "        \n",
    "    return IFrame(eventDisplay_addr,iframe_width,iframe_height)"
   ]
  },
  {
   "cell_type": "code",
   "execution_count": 7,
   "metadata": {
    "collapsed": false
   },
   "outputs": [
    {
     "data": {
      "text/html": [
       "\n",
       "        <iframe\n",
       "            width=\"1024\"\n",
       "            height=\"768\"\n",
       "            src=\"http://localhost:8000\"\n",
       "            frameborder=\"0\"\n",
       "            allowfullscreen\n",
       "        ></iframe>\n",
       "        "
      ],
      "text/plain": [
       "<IPython.lib.display.IFrame at 0x7fa1b00750d0>"
      ]
     },
     "execution_count": 7,
     "metadata": {},
     "output_type": "execute_result"
    }
   ],
   "source": [
    "json_folder=\"./farthest_events_bhce/\"\n",
    "paths = filter(lambda fname: fname.endswith(\".json\"),os.listdir(json_folder))\n",
    "paths = map(lambda fname: os.path.join(json_folder,fname),paths)\n",
    "#YOUR FILTER GOES HERE!!\n",
    "paths = np.array(paths)\n",
    "import random\n",
    "json_path = random.choice(paths)\n",
    "show_event_from_path(json_path)\n"
   ]
  },
  {
   "cell_type": "code",
   "execution_count": null,
   "metadata": {
    "collapsed": true
   },
   "outputs": [],
   "source": []
  }
 ],
 "metadata": {
  "kernelspec": {
   "display_name": "Python 2",
   "language": "python",
   "name": "python2"
  },
  "language_info": {
   "codemirror_mode": {
    "name": "ipython",
    "version": 2
   },
   "file_extension": ".py",
   "mimetype": "text/x-python",
   "name": "python",
   "nbconvert_exporter": "python",
   "pygments_lexer": "ipython2",
   "version": "2.7.6"
  }
 },
 "nbformat": 4,
 "nbformat_minor": 0
}
