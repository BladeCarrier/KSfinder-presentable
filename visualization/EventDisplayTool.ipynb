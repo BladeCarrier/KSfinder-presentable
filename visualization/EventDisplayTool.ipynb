{
 "cells": [
  {
   "cell_type": "code",
   "execution_count": 1,
   "metadata": {
    "collapsed": false
   },
   "outputs": [],
   "source": [
    "import time; \n",
    "\n",
    "#io\n",
    "import os\n",
    "import json\n",
    "\n",
    "#data\n",
    "import numpy as np\n",
    "import pandas as pd\n",
    "\n",
    "#plotly\n",
    "import plotly.plotly as py\n",
    "from plotly.graph_objs import *\n",
    "py.sign_in(\"justHeuristic\",\"pyqm0lrrrw\")\n"
   ]
  },
  {
   "cell_type": "markdown",
   "metadata": {},
   "source": [
    "##Hit level"
   ]
  },
  {
   "cell_type": "code",
   "execution_count": 2,
   "metadata": {
    "collapsed": false
   },
   "outputs": [],
   "source": [
    "def collect_hits(evt):\n",
    "    \"\"\"collect hits (np.array) from a json event dictionary\n",
    "    output: np.array([x,y,z,type_code]) of hits\"\"\"\n",
    "\n",
    "    arrays = []\n",
    "    \n",
    "    #calorimeters:0\n",
    "    for cal in \"ECAL\",\"HCAL\":\n",
    "        XYZ = [hit[1:4]+[0] for hit in evt[cal]]\n",
    "        arrays.append(np.array(XYZ))\n",
    "    #triggers: 1\n",
    "    for trigger in \"TT\",\"OT\",\"IT\":\n",
    "        XYZ1 = [hit[0:3]+[1] for hit in evt[trigger]]\n",
    "        arrays.append(np.array(XYZ1))\n",
    "    #muon detector (x:2,x+dx:3)\n",
    "    if \"MUON\" in evt:\n",
    "        XYZmu = np.array([hit[::2]+[2] for hit in evt[\"MUON\"]])\n",
    "        arrays.append(XYZmu)\n",
    "\n",
    "        deltaXYZmu = np.array([hit[1::2]+[1] for hit in evt[\"MUON\"]])\n",
    "        arrays.append(XYZmu+deltaXYZmu)\n",
    "    #velo detector (velor:4, velophi:5)\n",
    "    for velo in \"VELOR\",\"VELOPHI\":\n",
    "        XYZ1 = [hit[:3]+[4] for hit in evt[velo]]\n",
    "        arrays.append(np.array(XYZ1))\n",
    "\n",
    "        XYZ2 = [hit[:3]+[5] for hit in evt[velo]]\n",
    "        arrays.append(np.array(XYZ2))\n",
    "    #compose a single array\n",
    "    arrays = filter(lambda a:len(a)!=0,arrays)\n",
    "    points = np.vstack(arrays)\n",
    "    return points"
   ]
  },
  {
   "cell_type": "code",
   "execution_count": 3,
   "metadata": {
    "collapsed": true
   },
   "outputs": [],
   "source": [
    "def get_event_figure(evt):\n",
    "    \"\"\"builds plotly figure for an event from .json parsed dictionary\"\"\"\n",
    "\n",
    "    particles = filter(lambda particle: particle[\"name\"][:2] == \"pi\",evt[\"PARTICLES\"])\n",
    "    tracks = [particle[\"track\"] for particle in particles]\n",
    "    tracks = map(np.array,tracks)\n",
    "    names = [particle[\"name\"] for particle in particles]\n",
    "    \n",
    "    \n",
    "    #plot track lines\n",
    "    track_traces = []\n",
    "    for i, (name,track) in enumerate(zip(names,tracks)):\n",
    "        track_traces.append(Scatter3d(\n",
    "                                name = name,\n",
    "                                x=track[:,0],\n",
    "                                y=track[:,1],\n",
    "                                z=track[:,2],\n",
    "                                mode = \"lines\",\n",
    "                                marker = Line(\n",
    "                                        #color=name\n",
    "                                    )\n",
    "                                ))\n",
    "        \n",
    "    #plot hits\n",
    "    pts = collect_hits(evt)\n",
    "    pts_trace = Scatter3d(\n",
    "                    x=pts[:,0],\n",
    "                    y=pts[:,1],\n",
    "                    z=pts[:,2],\n",
    "                    mode='markers',\n",
    "                    marker = Marker(\n",
    "                            size = '1',\n",
    "                            color = pts[:,3]\n",
    "                        ))\n",
    "    \n",
    "    #plot reconstructed Kshort decay\n",
    "    ks_x,ks_y,ks_z = evt[\"Kdecay\"]\n",
    "    ks_trace = Scatter3d(\n",
    "                    x=[ks_x],\n",
    "                    y=[ks_y],\n",
    "                    z=[ks_z],\n",
    "                    mode='markers',\n",
    "                    marker = Marker(\n",
    "                            size = '3',\n",
    "                            color = 'green'\n",
    "                        ))\n",
    "    \n",
    "    #plot predicted Kshort dekay\n",
    "    ksp_x,ksp_y,ksp_z = evt[\"Kdecay_predicted\"]\n",
    "    ksp_trace = Scatter3d(\n",
    "                    x=[ksp_x],\n",
    "                    y=[ksp_y],\n",
    "                    z=[ksp_z],\n",
    "                    mode='markers',\n",
    "                    marker = Marker(\n",
    "                            size = '3',\n",
    "                            color='blue'\n",
    "                        ))\n",
    "    \n",
    "    #assemble figure\n",
    "    data = Data(track_traces+[pts_trace,ks_trace,ksp_trace])\n",
    "    fig = Figure(data=data)\n",
    "    return fig\n",
    "    \n"
   ]
  },
  {
   "cell_type": "markdown",
   "metadata": {},
   "source": [
    "#Usage example"
   ]
  },
  {
   "cell_type": "code",
   "execution_count": 6,
   "metadata": {
    "collapsed": false,
    "scrolled": false
   },
   "outputs": [
    {
     "name": "stdout",
     "output_type": "stream",
     "text": [
      "bad event\n"
     ]
    },
    {
     "data": {
      "text/html": [
       "<iframe id=\"igraph\" scrolling=\"no\" style=\"border:none;\"seamless=\"seamless\" src=\"https://plot.ly/~justHeuristic/158.embed\" height=\"525px\" width=\"100%\"></iframe>"
      ],
      "text/plain": [
       "<plotly.tools.PlotlyDisplay object>"
      ]
     },
     "execution_count": 6,
     "metadata": {},
     "output_type": "execute_result"
    }
   ],
   "source": [
    "json_folder=\"./farthest_events_bhce/\"\n",
    "paths = filter(lambda fname: fname.endswith(\".json\"),os.listdir(json_folder))\n",
    "paths = np.array(map(lambda fname: os.path.join(json_folder,fname),paths))\n",
    "#shuffle\n",
    "paths = paths[np.argsort(np.random.random(size = len(paths)))]\n",
    "\n",
    "#fing first non-empty event\n",
    "for path in paths:\n",
    "    evt = json.load(open(path))    \n",
    "    if len(evt[\"ECAL\"]) ==0:\n",
    "        print \"bad event\"\n",
    "        continue\n",
    "        \n",
    "    fig = get_event_figure(evt)\n",
    "    break\n",
    "    \n",
    "time.sleep(5.)#wait for plotly to index plot\n",
    "py.iplot(fig)#draw the thing!\n",
    "\n"
   ]
  },
  {
   "cell_type": "code",
   "execution_count": null,
   "metadata": {
    "collapsed": true
   },
   "outputs": [],
   "source": []
  }
 ],
 "metadata": {
  "kernelspec": {
   "display_name": "Python 2",
   "language": "python",
   "name": "python2"
  },
  "language_info": {
   "codemirror_mode": {
    "name": "ipython",
    "version": 2
   },
   "file_extension": ".py",
   "mimetype": "text/x-python",
   "name": "python",
   "nbconvert_exporter": "python",
   "pygments_lexer": "ipython2",
   "version": "2.7.6"
  }
 },
 "nbformat": 4,
 "nbformat_minor": 0
}
