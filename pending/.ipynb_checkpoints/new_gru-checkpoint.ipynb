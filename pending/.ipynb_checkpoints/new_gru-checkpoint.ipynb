{
 "cells": [
  {
   "cell_type": "code",
   "execution_count": 4,
   "metadata": {
    "collapsed": true
   },
   "outputs": [],
   "source": [
    "theano.config.floatX = 'float32'\n",
    "theano.config.openmp = True\n",
    "\n",
    "%load_ext autoreload\n",
    "%autoreload 2\n"
   ]
  },
  {
   "cell_type": "code",
   "execution_count": 5,
   "metadata": {
    "collapsed": false
   },
   "outputs": [],
   "source": [
    "#coding: utf-8 -*-\n",
    "__doc__=\"\"\"several more-or-less successfull layer designs used in the lasagne NN architecture\"\"\"\n",
    "\n",
    "\n",
    "import numpy as np\n",
    "import theano\n",
    "import theano.tensor as T\n",
    "import lasagne\n",
    "\n",
    "_shared = lambda name,val,dtype: theano.shared(val.astype(dtype),name,\n",
    "                                               strict = True,allow_downcast=True)"
   ]
  },
  {
   "cell_type": "code",
   "execution_count": 12,
   "metadata": {
    "collapsed": true
   },
   "outputs": [],
   "source": [
    "def get_simple_updater(input_shape,n_hidden,name=\"updater\"):\n",
    "    \n",
    "    _updater_nn = lasagne.layers.InputLayer(input_shape, name= name+\".input\")\n",
    "    _updater_nn = lasagne.layers.DenseLayer(_updater_nn,num_units = n_hidden,\n",
    "                                            name = name+\".main\")\n",
    "    return _updater_nn"
   ]
  },
  {
   "cell_type": "code",
   "execution_count": 18,
   "metadata": {
    "collapsed": false
   },
   "outputs": [],
   "source": [
    "upd = get_simple_updater([1,8,8],n_hidden=32,name=\"upd\")"
   ]
  },
  {
   "cell_type": "code",
   "execution_count": null,
   "metadata": {
    "collapsed": true
   },
   "outputs": [],
   "source": []
  },
  {
   "cell_type": "code",
   "execution_count": null,
   "metadata": {
    "collapsed": true
   },
   "outputs": [],
   "source": [
    "\n",
    "\n",
    "class MDPLayer(lasagne.layers.Layer):\n",
    "    def __init__(self,incoming,\n",
    "                 name=\"yet_another_mdp\",\n",
    "                 n_units=32,\n",
    "                 history_length = 10,\n",
    "                 **kwargs):\n",
    "        \n",
    "        super(MDPLayer,self).__init__(incoming,**kwargs)\n",
    "        \n",
    "        self.name = name\n",
    "        self.n_units = n_units\n",
    "        self.history_length = history_length\n",
    "        \n",
    "        inp_shape = incoming.output_shape()\n",
    "        #assumes [single_batch,channels,rows,cols]\n",
    "        \n",
    "        self.hidden_update_layer = get_simple_updater()\n",
    "        \n",
    "        self.add_param(W, (num_inputs, num_units), name=\"W\")\n",
    "        \n",
    "    def get_output_shape_for(self, input_shape):\n",
    "        return input_shape\n",
    "    def get_output_for(self, input, **kwargs):\n",
    "        return input"
   ]
  }
 ],
 "metadata": {
  "kernelspec": {
   "display_name": "Python 2",
   "language": "python",
   "name": "python2"
  },
  "language_info": {
   "codemirror_mode": {
    "name": "ipython",
    "version": 2
   },
   "file_extension": ".py",
   "mimetype": "text/x-python",
   "name": "python",
   "nbconvert_exporter": "python",
   "pygments_lexer": "ipython2",
   "version": "2.7.6"
  }
 },
 "nbformat": 4,
 "nbformat_minor": 0
}
