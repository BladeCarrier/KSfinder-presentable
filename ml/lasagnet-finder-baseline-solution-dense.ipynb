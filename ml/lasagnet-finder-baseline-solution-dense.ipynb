{
 "cells": [
  {
   "cell_type": "code",
   "execution_count": 1,
   "metadata": {
    "collapsed": false
   },
   "outputs": [
    {
     "name": "stdout",
     "output_type": "stream",
     "text": [
      "Couldn't import dot_parser, loading of dot files will not be possible.\n"
     ]
    }
   ],
   "source": [
    "import numpy as np\n",
    "import theano\n",
    "import theano.tensor as T\n",
    "import lasagne\n",
    "theano.config.floatX = 'float32'\n",
    "theano.config.openmp = True\n",
    "\n",
    "from matplotlib import pyplot as plt\n",
    "%matplotlib inline\n",
    "\n"
   ]
  },
  {
   "cell_type": "markdown",
   "metadata": {},
   "source": [
    "# configure network\n",
    "* the network architecture can be read from the architecture tab\n",
    " * just one-way successive dense layers, intertwining with dropout layers\n",
    "   * a dropout layer zeroes-out random neurons each run to avoid overfitting\n",
    " * one additional dropout layer is added at the very beginning (right after input)\n",
    "  \n",
    "* no proper experiments were done with convolutional layers (CNN)\n",
    " * and none will be until we get our GPUs\n",
    " * otherwise it takes months to fully train such NN\n",
    " \n",
    "* the network is built using mainly Lasagne and Theano\n",
    " * Theano is a mathematical framework for fast resourse-optimized computation\n",
    "   * A theano algorithm is essentially a computational graph that is automatically optimized and compiled for the available hardware (single-CPU,multi-CPU,GPU, multi-GPU)\n",
    "   * https://github.com/Theano/Theano\n",
    " * Lasagne is a low-level neural network framework, compatible with Theano\n",
    "   * http://lasagne.readthedocs.org/en/latest/index.html"
   ]
  },
  {
   "cell_type": "code",
   "execution_count": 2,
   "metadata": {
    "collapsed": false
   },
   "outputs": [],
   "source": [
    "input_shape = [None,32,32,32]\n",
    "output_shape = [None,3,1,50]\n",
    "_input_image_pair = T.tensor4('image_pair',dtype='floatX')\n",
    "_decay_map = T.tensor4('decay_prediction',dtype='floatX')"
   ]
  },
  {
   "cell_type": "markdown",
   "metadata": {},
   "source": [
    "## network body"
   ]
  },
  {
   "cell_type": "code",
   "execution_count": 3,
   "metadata": {
    "collapsed": false
   },
   "outputs": [],
   "source": [
    "from retina.layers import ChannelwiseDenseLayer, _tanh_leaky,_tanh_zero_one,LocalInhibitionLayer1D"
   ]
  },
  {
   "cell_type": "code",
   "execution_count": 4,
   "metadata": {
    "collapsed": false
   },
   "outputs": [
    {
     "data": {
      "image/png": "[encoded data removed]",
      "text/plain": [
       "<matplotlib.figure.Figure at 0x7f33df480190>"
      ]
     },
     "metadata": {},
     "output_type": "display_data"
    }
   ],
   "source": [
    "#nonlinearities\n",
    "x_pts = np.linspace(-5,5,100)\n",
    "plt.plot(x_pts, _tanh_zero_one(x_pts   ).eval())\n",
    "plt.plot(x_pts, _tanh_leaky(x_pts).eval())\n",
    "plt.grid()"
   ]
  },
  {
   "cell_type": "code",
   "execution_count": 5,
   "metadata": {
    "collapsed": false
   },
   "outputs": [],
   "source": [
    "#architecture\n",
    "\n",
    "_nn = lasagne.layers.InputLayer(shape = input_shape,name='input_images',\n",
    "                                input_var=_input_image_pair)\n",
    "\n",
    "_nn = lasagne.layers.DropoutLayer(_nn,name=\"drop_inputs\",p=0.25)\n",
    "\n",
    "_nn = ChannelwiseDenseLayer(_nn,name_prefix = \"retina.channel\",\n",
    "                     units_per_channel=256, nonlinearity = _tanh_leaky)\n",
    "\n",
    "_nn = lasagne.layers.DropoutLayer(_nn,name=\"drop_concatenated_channels\",p=0.5)\n",
    "\n",
    "\n",
    "_nn = lasagne.layers.DenseLayer(_nn,name=\"dense.common.0\",\n",
    "                                num_units = 1024,\n",
    "                                nonlinearity=lasagne.nonlinearities.sigmoid)\n",
    "\n",
    "_nn = lasagne.layers.DropoutLayer(_nn,name=\"drop_from_dense0\",p=0.5)\n",
    "\n",
    "#_nn = lasagne.layers.DenseLayer(_nn,num_units = 1024,name=\"dense1\",\n",
    "#                             nonlinearity=lasagne.nonlinearities.sigmoid)\n",
    "\n",
    "#_nn = lasagne.layers.DropoutLayer(_nn,name=\"drop_from_dense1\",p=0.25)\n",
    "\n",
    "\n",
    "\n",
    "\n",
    "#_nn = ChanelwiseSoftmaxLayer( _nn, output_shape[-1])\n",
    "\n",
    "_nn = lasagne.layers.DenseLayer(_nn,name=\"dense_output\",\n",
    "                                num_units = 150,\n",
    "                                nonlinearity=lasagne.nonlinearities.linear)\n",
    "\n",
    "_nn = lasagne.layers.ReshapeLayer(_nn,shape = [-1]+output_shape[1:])\n",
    "\n",
    "_nn = LocalInhibitionLayer1D(_nn,name=\"local_softmax\",n=5,k=10.,)\n"
   ]
  },
  {
   "cell_type": "code",
   "execution_count": 6,
   "metadata": {
    "collapsed": false
   },
   "outputs": [],
   "source": [
    "# network output function WITH random dropout\n",
    "#raw shape: [ None,prod(output_shape) ]\n",
    "\n",
    "_prediction = lasagne.layers.get_output(_nn,inputs=_input_image_pair)\n"
   ]
  },
  {
   "cell_type": "markdown",
   "metadata": {
    "collapsed": false
   },
   "source": [
    "## optimization objectives"
   ]
  },
  {
   "cell_type": "code",
   "execution_count": 7,
   "metadata": {
    "collapsed": false
   },
   "outputs": [
    {
     "name": "stdout",
     "output_type": "stream",
     "text": [
      "[retina.channel.0.dense.W, retina.channel.0.dense.b, retina.channel.1.dense.W, retina.channel.1.dense.b, retina.channel.2.dense.W, retina.channel.2.dense.b, retina.channel.3.dense.W, retina.channel.3.dense.b, retina.channel.4.dense.W, retina.channel.4.dense.b, retina.channel.5.dense.W, retina.channel.5.dense.b, retina.channel.6.dense.W, retina.channel.6.dense.b, retina.channel.7.dense.W, retina.channel.7.dense.b, retina.channel.8.dense.W, retina.channel.8.dense.b, retina.channel.9.dense.W, retina.channel.9.dense.b, retina.channel.10.dense.W, retina.channel.10.dense.b, retina.channel.11.dense.W, retina.channel.11.dense.b, retina.channel.12.dense.W, retina.channel.12.dense.b, retina.channel.13.dense.W, retina.channel.13.dense.b, retina.channel.14.dense.W, retina.channel.14.dense.b, retina.channel.15.dense.W, retina.channel.15.dense.b, retina.channel.16.dense.W, retina.channel.16.dense.b, retina.channel.17.dense.W, retina.channel.17.dense.b, retina.channel.18.dense.W, retina.channel.18.dense.b, retina.channel.19.dense.W, retina.channel.19.dense.b, retina.channel.20.dense.W, retina.channel.20.dense.b, retina.channel.21.dense.W, retina.channel.21.dense.b, retina.channel.22.dense.W, retina.channel.22.dense.b, retina.channel.23.dense.W, retina.channel.23.dense.b, retina.channel.24.dense.W, retina.channel.24.dense.b, retina.channel.25.dense.W, retina.channel.25.dense.b, retina.channel.26.dense.W, retina.channel.26.dense.b, retina.channel.27.dense.W, retina.channel.27.dense.b, retina.channel.28.dense.W, retina.channel.28.dense.b, retina.channel.29.dense.W, retina.channel.29.dense.b, retina.channel.30.dense.W, retina.channel.30.dense.b, retina.channel.31.dense.W, retina.channel.31.dense.b, dense.common.0.W, dense.common.0.b, dense_output.W, dense_output.b]\n"
     ]
    }
   ],
   "source": [
    "# obtaining optimizable network parameters\n",
    "_nn_weights = lasagne.layers.get_all_params(_nn,trainable=True)\n",
    "print _nn_weights"
   ]
  },
  {
   "cell_type": "code",
   "execution_count": 8,
   "metadata": {
    "collapsed": false
   },
   "outputs": [],
   "source": [
    "#constants for tweaking\n",
    "\n",
    "\n",
    "_shared = lambda name,val: theano.shared(np.float32(val),name,strict = True)\n",
    "\n",
    "_entropy_weight =_shared(\"entropy_weight\",0)\n",
    "_l2_weight = _shared(\"l2_weight\",0)\n"
   ]
  },
  {
   "cell_type": "code",
   "execution_count": 9,
   "metadata": {
    "collapsed": false
   },
   "outputs": [],
   "source": [
    "# prediction crossentropy\n",
    "_crossentropy = lasagne.objectives.binary_crossentropy(_prediction,_decay_map).mean()\n",
    "#_crossentropy = lasagne.objectives.categorical_crossentropy(_prediction,_decay_map).mean()\n",
    "\n",
    "\n",
    "#[unused]\n",
    "# cosine similarity with normalization applied to prediction only (since target Y is constant)\n",
    "from retina.compiled import normalize\n",
    "_prediction_normalized = normalize(_prediction).reshape([-1]+list(output_shape[1:]))\n",
    "_cosine_similarity = (_prediction_normalized*_decay_map).sum()\n",
    "\n",
    "\n",
    "# all non-regularization terms\n",
    "_unregularized_loss = _crossentropy\n"
   ]
  },
  {
   "cell_type": "code",
   "execution_count": 10,
   "metadata": {
    "collapsed": false
   },
   "outputs": [],
   "source": [
    "# regularizers\n",
    "\n",
    "###entropy-based regularizer\n",
    "#prediction entropy\n",
    "_prediction_channels_entropy = lasagne.objectives.categorical_crossentropy(_prediction,_prediction)\n",
    "\n",
    "#target entropy\n",
    "_decay_map_soft = (_decay_map + 0.0001) #avoiding hard zeroes\n",
    "_decay_map_soft = _decay_map_soft / T.sum(_decay_map_soft,axis=-1,keepdims=True) #normalizing\n",
    "\n",
    "_decay_channels_entropy = lasagne.objectives.categorical_crossentropy(_decay_map_soft,_decay_map_soft)\n",
    "\n",
    "\n",
    "_entropy_mse_over_channels = (_prediction_channels_entropy-_decay_channels_entropy)**2\n",
    "\n",
    "_entropy_penalty = _entropy_mse_over_channels.mean()\n",
    "\n",
    "_reg_entropy = _entropy_penalty * _entropy_weight\n",
    "\n",
    "\n",
    "# L2 (Tikhonov) regularizer\n",
    "_weight_l2 = lasagne.regularization.regularize_network_params(_nn,\n",
    "                            penalty = lasagne.regularization.l2)\n",
    "_reg_l2 = _weight_l2 * _l2_weight\n",
    "\n",
    "\n",
    "\n",
    "\n",
    "\n",
    "\n",
    "_loss = _unregularized_loss\n",
    "\n",
    "if _l2_weight.get_value()!= 0:\n",
    "    _loss += _reg_l2\n",
    "if _entropy_weight.get_value() !=0:\n",
    "    _loss += _reg_entropy\n",
    "    "
   ]
  },
  {
   "cell_type": "code",
   "execution_count": 11,
   "metadata": {
    "collapsed": false
   },
   "outputs": [],
   "source": [
    "# optimization algorithm\n",
    "_nn_update = lasagne.updates.nesterov_momentum(_loss,\n",
    "                                               params = _nn_weights,\n",
    "                                               learning_rate = .01\n",
    "                                              )"
   ]
  },
  {
   "cell_type": "code",
   "execution_count": 12,
   "metadata": {
    "collapsed": false
   },
   "outputs": [],
   "source": [
    "# compiled optimization algorithm\n",
    "train_fun = theano.function([_input_image_pair,_decay_map],\n",
    "                            _loss,\n",
    "                            updates=_nn_update,\n",
    "                           #mode=theano.compile.mode.FAST_COMPILE\n",
    "                           )"
   ]
  },
  {
   "cell_type": "code",
   "execution_count": 13,
   "metadata": {
    "collapsed": false
   },
   "outputs": [],
   "source": [
    "# network output function WITHOUT dropout \n",
    "# dropout gets replaced with reweighting all outputs by (1 - P(drop) )\n",
    "# thus, the output becomes DETERMINISTIC and uses whole network\n",
    "_det_prediction = lasagne.layers.get_output(_nn,inputs=_input_image_pair,deterministic=True)\n",
    "\n",
    "# compiled deterministic output function (for evaluation and prediction)\n",
    "predict = theano.function([_input_image_pair],_det_prediction)"
   ]
  },
  {
   "cell_type": "markdown",
   "metadata": {},
   "source": [
    "## evaluation functions"
   ]
  },
  {
   "cell_type": "code",
   "execution_count": 14,
   "metadata": {
    "collapsed": false
   },
   "outputs": [],
   "source": [
    "from sklearn.metrics import roc_auc_score,accuracy_score\n",
    "\n",
    "_prediction_entropy = _prediction_channels_entropy.mean()\n",
    "\n",
    "metrics = [_loss,_unregularized_loss,\n",
    "           _reg_entropy,\n",
    "           _reg_l2,\n",
    "           _det_prediction]\n",
    "\n",
    "score_fun = theano.function([_input_image_pair,_decay_map],\n",
    "                             metrics,\n",
    "                           #mode=theano.compile.mode.FAST_COMPILE\n",
    "                           )\n",
    "\n",
    "from sklearn.metrics import roc_auc_score\n",
    "def pseudo_auc_score_simple(y,y_pred,threshold = 0.8):\n",
    "    \"\"\"just a probability that a random target \"1\" will be rated by nn above a random background\n",
    "    \"\"\"\n",
    "    true_selector = y>threshold\n",
    "    \n",
    "    return roc_auc_score(true_selector.ravel(),y_pred.ravel())\n",
    "\n",
    "from retina.extremum import get_maxima\n",
    "\n",
    "def pseudo_auc_score_extremal(y,y_pred):\n",
    "    \"\"\"just a probability that a random maxima will be rated by nn above a random non-maximum\n",
    "    NOTE - in this case, the nn output is scaled to the norm of true output because\n",
    "    predictions are normalized. \n",
    "    THAT DOES INTRODUCE A BIAS IN EVALUATION\"\"\"\n",
    "    y_norms = np.linalg.norm(y,axis=-1,ord=1)[...,np.newaxis]\n",
    "    y_pred *= y_norms\n",
    "\n",
    "    true_maxima = get_maxima(y)#alarm - it's padded, last coord is true_coord-2\n",
    "    true_maxima[-1] +=1 #account for padding\n",
    "\n",
    "    true_selector = np.zeros_like(y,dtype=bool)\n",
    "    true_selector[true_maxima]=1\n",
    "    \n",
    "    return roc_auc_score(true_selector.ravel(),y_pred.ravel())\n",
    "\n",
    "\n",
    "def evaluate(X,y_targ):\n",
    "    \n",
    "    score,unreg_score,reg_entropy,reg_l2,y_pred = score_fun(X,y_targ)\n",
    "    print 'full loss:',score\n",
    "    print 'detection loss:',unreg_score\n",
    "    print 'entropy penalty:',reg_entropy\n",
    "    print 'l2 penalty:',reg_l2\n",
    "    print 'pseudo-auc',pseudo_auc_score_simple(y_targ,y_pred)\n",
    "    \n",
    "    return unreg_score\n",
    "    "
   ]
  },
  {
   "cell_type": "markdown",
   "metadata": {},
   "source": [
    "# fetch data\n",
    "* load several retina images, concatenate them into pairs\n",
    " * a pair consists of two retina images of the SAME event\n",
    " * the difference is the position and orientation of the retina grid\n",
    "* the retina images are 32x32 pixels each"
   ]
  },
  {
   "cell_type": "code",
   "execution_count": 15,
   "metadata": {
    "collapsed": false
   },
   "outputs": [
    {
     "name": "stdout",
     "output_type": "stream",
     "text": [
      "(5635, 32, 32, 32) (5635, 3, 50)\n"
     ]
    }
   ],
   "source": [
    "img_folder = \"/mnt/KSfinder/finder/retinas_randomized/\"\n",
    "import os\n",
    "X = np.load(os.path.join(img_folder,\"ksfinder_images.npy\"))\n",
    "y = np.load(os.path.join(img_folder,\"ksfinder_targets.npy\"))\n",
    "print X.shape,y.shape"
   ]
  },
  {
   "cell_type": "code",
   "execution_count": 16,
   "metadata": {
    "collapsed": false
   },
   "outputs": [
    {
     "data": {
      "image/png": "[encoded data removed]",
      "text/plain": [
       "<matplotlib.figure.Figure at 0x7f3347822e10>"
      ]
     },
     "metadata": {},
     "output_type": "display_data"
    },
    {
     "data": {
      "image/png": "[encoded data removed]",
      "text/plain": [
       "<matplotlib.figure.Figure at 0x7f334378fa50>"
      ]
     },
     "metadata": {},
     "output_type": "display_data"
    }
   ],
   "source": [
    "i = 0\n",
    "plt.figure(figsize=[10,3])\n",
    "plt.imshow(np.hstack(X[i]))\n",
    "plt.show()\n",
    "plt.figure(figsize=[10,3])\n",
    "plt.imshow(np.vstack(y[i]))\n",
    "plt.show()"
   ]
  },
  {
   "cell_type": "code",
   "execution_count": 17,
   "metadata": {
    "collapsed": false
   },
   "outputs": [
    {
     "name": "stdout",
     "output_type": "stream",
     "text": [
      "(5635, 32, 32, 32) (5635, 3, 1, 50)\n"
     ]
    }
   ],
   "source": [
    "#setup data format\n",
    "X= X.reshape(-1,*input_shape[1:]).astype('float32')\n",
    "y = y.reshape(-1,*output_shape[1:]).astype('float32')\n",
    "print X.shape,y.shape"
   ]
  },
  {
   "cell_type": "code",
   "execution_count": 18,
   "metadata": {
    "collapsed": false
   },
   "outputs": [],
   "source": [
    "from sklearn.cross_validation import train_test_split\n",
    "Xtr,Xts,Ytr,Yts = train_test_split(X,y,test_size=0.2,random_state=42)"
   ]
  },
  {
   "cell_type": "code",
   "execution_count": null,
   "metadata": {
    "collapsed": true
   },
   "outputs": [],
   "source": []
  },
  {
   "cell_type": "markdown",
   "metadata": {},
   "source": [
    "# train it\n",
    "* by iteratively picking minibatches and training on them\n",
    "* the method used for iterations is\n",
    " * Stochastic Gradient Descent (SGD) updates with Nesterov momentum\n",
    " * used it just because i heard it's good, no actual analysis done\n",
    "* Uniform additive l2 regularization is applied to the network to prevent overfitting as well\n",
    " * regularization constant was briefly tweaked via crossvalidation for ROC AUC\n",
    " * more sophisticated regularizers were not analyzed"
   ]
  },
  {
   "cell_type": "code",
   "execution_count": 19,
   "metadata": {
    "collapsed": true
   },
   "outputs": [],
   "source": [
    "def iterate_minibatches(inputs, targets, batchsize, shuffle=False):\n",
    "    assert len(inputs) == len(targets)\n",
    "    if shuffle:\n",
    "        indices = np.arange(len(inputs))\n",
    "        np.random.shuffle(indices)\n",
    "    for start_idx in range(0, len(inputs) - batchsize + 1, batchsize):\n",
    "        if shuffle:\n",
    "            excerpt = indices[start_idx:start_idx + batchsize]\n",
    "        else:\n",
    "            excerpt = slice(start_idx, start_idx + batchsize)\n",
    "        yield inputs[excerpt], targets[excerpt]"
   ]
  },
  {
   "cell_type": "code",
   "execution_count": 20,
   "metadata": {
    "collapsed": true
   },
   "outputs": [],
   "source": [
    "import random\n",
    "def show_sample_predictions(X,y,count=10,cmap='GnBu',normalize = False):\n",
    "    \n",
    "    #select samples to show\n",
    "    sample_indices = np.random.randint(0,len(y)-1,count)\n",
    "\n",
    "    y_pred = predict(X[sample_indices])\n",
    "    \n",
    "    y = y[sample_indices]\n",
    "    \n",
    "    if normalize:\n",
    "        y/=np.linalg.norm(y,axis=-1,keepdims=True)\n",
    "    \n",
    "    \n",
    "    for i in range(count):\n",
    "\n",
    "        plt.figure(figsize=[15,2])\n",
    "        plt.imshow(y[i].reshape(-1,50),interpolation='none')#,cmap=cmap)\n",
    "        plt.title('sample %i reference'%sample_indices[i])\n",
    "        plt.colorbar()\n",
    "        plt.show()\n",
    "\n",
    "        plt.figure(figsize=[15,2])\n",
    "        plt.imshow(y_pred[i].reshape(-1,50),interpolation='none')#,cmap=cmap)\n",
    "        plt.title('sample %i prediction'%sample_indices[i])\n",
    "        plt.colorbar()\n",
    "        plt.show()"
   ]
  },
  {
   "cell_type": "code",
   "execution_count": 21,
   "metadata": {
    "collapsed": true
   },
   "outputs": [],
   "source": [
    "#global epoch counter (useful if several train loops were started in succession)\n",
    "epochCounter = 0\n",
    "train_scores = {}\n",
    "test_scores = {}"
   ]
  },
  {
   "cell_type": "code",
   "execution_count": null,
   "metadata": {
    "collapsed": false,
    "scrolled": false
   },
   "outputs": [],
   "source": [
    "n_epochs= 1000\n",
    "batch_size = 100\n",
    "for i in range(n_epochs):\n",
    "    err=[]\n",
    "    for (batch_X,batch_y) in iterate_minibatches(Xtr,Ytr,batch_size,shuffle=True):\n",
    "        err.append(train_fun(batch_X,batch_y))\n",
    "    \n",
    "    \n",
    "    print 'train loss during epoch %i : %f'%(epochCounter,np.mean(err))\n",
    "    if epochCounter%10==0:\n",
    "        print '-'*25\n",
    "        print 'epoch {}/{}, {} total'.format(i,n_epochs,epochCounter)\n",
    "        print\n",
    "\n",
    "        #print \"layer RMS:\"\n",
    "        #for param in _nn_weights:\n",
    "        #    RMS_weights = (param.get_value()**2).mean()**.5\n",
    "        #    print '\\t',param,':',RMS_weights\n",
    "        print\n",
    "\n",
    "\n",
    "\n",
    "        print 'train score:'\n",
    "        train_scores[epochCounter] = evaluate(Xtr,Ytr)\n",
    "        print\n",
    "\n",
    "        show_sample_predictions(Xtr,Ytr,count=3)\n",
    "\n",
    "        print 'test score:'\n",
    "        test_scores[epochCounter] = evaluate(Xts,Yts)\n",
    "        print\n",
    "        show_sample_predictions(Xts,Yts,count=3)\n",
    "        print '.'*25\n",
    "\n",
    "    epochCounter+=1\n",
    "\n"
   ]
  },
  {
   "cell_type": "code",
   "execution_count": null,
   "metadata": {
    "collapsed": true
   },
   "outputs": [],
   "source": []
  },
  {
   "cell_type": "code",
   "execution_count": null,
   "metadata": {
    "collapsed": false
   },
   "outputs": [],
   "source": [
    "keys,values = zip(*sorted(train_scores.items()))\n",
    "values = np.hstack(values)\n",
    "plt.plot(keys,values,label=\"train\")\n",
    "keys,values = zip(*sorted(test_scores.items()))\n",
    "values = np.hstack(values)\n",
    "plt.plot(keys,values,label=\"test\")\n",
    "plt.legend()\n",
    "plt.grid()\n",
    "plt.title(\"100-batch case\")\n",
    "#plt.xlim(0,200)\n",
    "\n",
    "plt.show()\n",
    "\n"
   ]
  },
  {
   "cell_type": "code",
   "execution_count": null,
   "metadata": {
    "collapsed": true
   },
   "outputs": [],
   "source": []
  },
  {
   "cell_type": "code",
   "execution_count": null,
   "metadata": {
    "collapsed": true
   },
   "outputs": [],
   "source": []
  },
  {
   "cell_type": "code",
   "execution_count": null,
   "metadata": {
    "collapsed": true
   },
   "outputs": [],
   "source": []
  },
  {
   "cell_type": "code",
   "execution_count": 35,
   "metadata": {
    "collapsed": false
   },
   "outputs": [
    {
     "ename": "NameError",
     "evalue": "name '_domain_update' is not defined",
     "output_type": "error",
     "traceback": [
      "\u001b[1;31m---------------------------------------------------------------------------\u001b[0m",
      "\u001b[1;31mNameError\u001b[0m                                 Traceback (most recent call last)",
      "\u001b[1;32m<ipython-input-35-b62ce24805b0>\u001b[0m in \u001b[0;36m<module>\u001b[1;34m()\u001b[0m\n\u001b[0;32m      5\u001b[0m \u001b[1;33m\u001b[0m\u001b[0m\n\u001b[0;32m      6\u001b[0m \u001b[1;31m#also try to find out whether gradient updates are indeed opposite in case reversal layer is there\u001b[0m\u001b[1;33m\u001b[0m\u001b[1;33m\u001b[0m\u001b[0m\n\u001b[1;32m----> 7\u001b[1;33m _domain_update.eval({\n\u001b[0m\u001b[0;32m      8\u001b[0m         \u001b[0m_input_image_pair\u001b[0m\u001b[1;33m:\u001b[0m\u001b[0mXtr\u001b[0m\u001b[1;33m,\u001b[0m\u001b[1;33m\u001b[0m\u001b[0m\n\u001b[0;32m      9\u001b[0m         \u001b[0m_target\u001b[0m\u001b[1;33m:\u001b[0m\u001b[0mYtr\u001b[0m\u001b[1;33m,\u001b[0m\u001b[1;33m\u001b[0m\u001b[0m\n",
      "\u001b[1;31mNameError\u001b[0m: name '_domain_update' is not defined"
     ]
    }
   ],
   "source": [
    "#2try: two separate training algos (updates) for network and discriminator, \n",
    "#each of them updating only a part of network weights. \n",
    "#The generator updates from discriminator function can have negative learning rate OR just a minus somewhere along the path\n",
    "\n",
    "\n",
    "#also try to find out whether gradient updates are indeed opposite in case reversal layer is there\n",
    "_domain_update.eval({\n",
    "        _input_image_pair:Xtr,\n",
    "        _decay_map:Ytr,\n",
    "    })"
   ]
  },
  {
   "cell_type": "markdown",
   "metadata": {},
   "source": [
    "# Final evaluation"
   ]
  },
  {
   "cell_type": "code",
   "execution_count": 25,
   "metadata": {
    "collapsed": false
   },
   "outputs": [
    {
     "name": "stdout",
     "output_type": "stream",
     "text": [
      "Final scores on the training set:\n",
      "full loss: 0.430429577827\n",
      "detection loss: 0.430429577827\n",
      "entropy penalty: 0.0\n",
      "l2 penalty: 0.0\n",
      "pseudo-auc 0.73517623974\n"
     ]
    },
    {
     "data": {
      "image/png": "[encoded data removed]",
      "text/plain": [
       "<matplotlib.figure.Figure at 0x7faee33b6250>"
      ]
     },
     "metadata": {},
     "output_type": "display_data"
    },
    {
     "data": {
      "image/png": "[encoded data removed]",
      "text/plain": [
       "<matplotlib.figure.Figure at 0x7faf2697b150>"
      ]
     },
     "metadata": {},
     "output_type": "display_data"
    },
    {
     "data": {
      "image/png": "[encoded data removed]",
      "text/plain": [
       "<matplotlib.figure.Figure at 0x7faf10fb8f10>"
      ]
     },
     "metadata": {},
     "output_type": "display_data"
    },
    {
     "data": {
      "image/png": "[encoded data removed]",
      "text/plain": [
       "<matplotlib.figure.Figure at 0x7faf227e8ad0>"
      ]
     },
     "metadata": {},
     "output_type": "display_data"
    },
    {
     "data": {
      "image/png": "[encoded data removed]",
      "text/plain": [
       "<matplotlib.figure.Figure at 0x7faf12e7b550>"
      ]
     },
     "metadata": {},
     "output_type": "display_data"
    },
    {
     "data": {
      "image/png": "[encoded data removed]",
      "text/plain": [
       "<matplotlib.figure.Figure at 0x7faee4cdc710>"
      ]
     },
     "metadata": {},
     "output_type": "display_data"
    },
    {
     "name": "stdout",
     "output_type": "stream",
     "text": [
      "Final scores on the test set:\n",
      "full loss: 0.447698026896\n",
      "detection loss: 0.447698026896\n",
      "entropy penalty: 0.0\n",
      "l2 penalty: 0.0\n",
      "pseudo-auc 0.72636419723\n"
     ]
    },
    {
     "data": {
      "image/png": "[encoded data removed]",
      "text/plain": [
       "<matplotlib.figure.Figure at 0x7faf10f5f850>"
      ]
     },
     "metadata": {},
     "output_type": "display_data"
    },
    {
     "data": {
      "image/png": "[encoded data removed]",
      "text/plain": [
       "<matplotlib.figure.Figure at 0x7faf269a4350>"
      ]
     },
     "metadata": {},
     "output_type": "display_data"
    },
    {
     "data": {
      "image/png": "[encoded data removed]",
      "text/plain": [
       "<matplotlib.figure.Figure at 0x7faf16d38410>"
      ]
     },
     "metadata": {},
     "output_type": "display_data"
    },
    {
     "data": {
      "image/png": "[encoded data removed]",
      "text/plain": [
       "<matplotlib.figure.Figure at 0x7faf26986590>"
      ]
     },
     "metadata": {},
     "output_type": "display_data"
    },
    {
     "data": {
      "image/png": "[encoded data removed]",
      "text/plain": [
       "<matplotlib.figure.Figure at 0x7faf269ad9d0>"
      ]
     },
     "metadata": {},
     "output_type": "display_data"
    },
    {
     "data": {
      "image/png": "[encoded data removed]",
      "text/plain": [
       "<matplotlib.figure.Figure at 0x7faf2217a890>"
      ]
     },
     "metadata": {},
     "output_type": "display_data"
    }
   ],
   "source": [
    "print \"Final scores on the training set:\"\n",
    "evaluate(Xtr,Ytr)\n",
    "\n",
    "show_sample_predictions(Xtr,Ytr,3)\n",
    "\n",
    "print \"Final scores on the test set:\"\n",
    "evaluate(Xts,Yts)\n",
    "\n",
    "show_sample_predictions(Xts,Yts,3)"
   ]
  },
  {
   "cell_type": "markdown",
   "metadata": {},
   "source": [
    "# brief conclusion\n",
    "TODO"
   ]
  },
  {
   "cell_type": "code",
   "execution_count": null,
   "metadata": {
    "collapsed": true
   },
   "outputs": [],
   "source": [
    "# here the notebook ends"
   ]
  },
  {
   "cell_type": "code",
   "execution_count": null,
   "metadata": {
    "collapsed": false
   },
   "outputs": [],
   "source": [
    "ww = _nn_weights[0].get_value().T.reshape(-1,64,32)"
   ]
  },
  {
   "cell_type": "code",
   "execution_count": null,
   "metadata": {
    "collapsed": false
   },
   "outputs": [],
   "source": [
    "from random import choice\n",
    "i = choice(range(100))\n",
    "plt.figure(figsize=[7,14])\n",
    "plt.imshow(ww[i],cmap='bone')\n",
    "plt.colorbar()\n",
    "print i\n"
   ]
  },
  {
   "cell_type": "code",
   "execution_count": null,
   "metadata": {
    "collapsed": true
   },
   "outputs": [],
   "source": []
  },
  {
   "cell_type": "code",
   "execution_count": null,
   "metadata": {
    "collapsed": true
   },
   "outputs": [],
   "source": []
  },
  {
   "cell_type": "markdown",
   "metadata": {
    "collapsed": true
   },
   "source": [
    "# gradient reversal trick\n",
    "used here to make network output more like the actual activation map"
   ]
  },
  {
   "cell_type": "code",
   "execution_count": 31,
   "metadata": {
    "collapsed": false
   },
   "outputs": [],
   "source": [
    "prefix = \"discriminator.\"\n",
    "\n",
    "_reference_input_layer = lasagne.layers.InputLayer(shape = output_shape,name='reference',\n",
    "                                input_var=_decay_map)\n",
    "\n",
    "#add reverse grad layer on top of the main nn\n",
    "_disc_nn = ReverseGradientLayer(_nn,1.,\n",
    "                                      name=prefix+'reversal_layer')\n",
    "\n",
    "\n",
    "#mix predicted and reference activations\n",
    "_disc_nn = lasagne.layers.concat([_disc_nn,_reference_input_layer],axis=1)\n",
    "_disc_nn = lasagne.layers.reshape(_disc_nn,[-1]+output_shape[1:])\n",
    "#now the predicted and reference activation pics are intertwined (pred,ref,pred,ref,...)\n",
    "\n",
    "\n",
    "\n",
    "\n",
    "#maybe a convnet here?\n",
    "_disc_nn = lasagne.layers.DenseLayer(_disc_nn,128,\n",
    "                                           name=prefix+\"dense0\",\n",
    "                                           nonlinearity=lasagne.nonlinearities.tanh)\n",
    "_disc_nn = lasagne.layers.DenseLayer(_disc_nn,1,\n",
    "                                           name = prefix+\"output\",\n",
    "                                           nonlinearity=lasagne.nonlinearities.sigmoid)\n",
    "\n",
    "\n",
    "\n"
   ]
  },
  {
   "cell_type": "code",
   "execution_count": 32,
   "metadata": {
    "collapsed": true
   },
   "outputs": [],
   "source": [
    "_domain_prediction  = lasagne.layers.get_output(_disc_nn)\n"
   ]
  },
  {
   "cell_type": "code",
   "execution_count": 33,
   "metadata": {
    "collapsed": true
   },
   "outputs": [],
   "source": [
    "_domain_reference = T.repeat(T.constant(np.array([[1,0]])),_decay_map.shape[0],axis=0)\n",
    "_domain_reference = _domain_reference.reshape([-1,1])\n",
    "\n",
    "\n",
    "_domain_loss = lasagne.objectives.categorical_crossentropy(_domain_prediction,_domain_reference).mean()\n",
    "\n"
   ]
  },
  {
   "cell_type": "code",
   "execution_count": 34,
   "metadata": {
    "collapsed": false
   },
   "outputs": [
    {
     "data": {
      "text/plain": [
       "[discriminator.dense0.W,\n",
       " discriminator.dense0.b,\n",
       " discriminator.output.W,\n",
       " discriminator.output.b]"
      ]
     },
     "execution_count": 34,
     "metadata": {},
     "output_type": "execute_result"
    }
   ],
   "source": [
    "_all_weights = lasagne.layers.get_all_params(_disc_nn, trainable = True)\n",
    "_disc_weights = [param for param in _all_weights if param not in _nn_weights]\n",
    "\n",
    "_disc_weights\n"
   ]
  },
  {
   "cell_type": "code",
   "execution_count": null,
   "metadata": {
    "collapsed": true
   },
   "outputs": [],
   "source": [
    "#try out binary crossentropy for mail NN? - after finding out how exactly it is computed\n",
    "_domain_update = lasagne.updates.nesterov_momentum(_domain_loss,\n",
    "                                               params = _all_weights,\n",
    "                                               learning_rate = .01\n",
    "                                              )\n",
    "\n"
   ]
  },
  {
   "cell_type": "code",
   "execution_count": null,
   "metadata": {
    "collapsed": true
   },
   "outputs": [],
   "source": [
    "# compiled optimization algorithm\n",
    "domain_train_fun = theano.function([_input_image_pair,_decay_map],\n",
    "                            _domain_loss,\n",
    "                            updates=_domain_update,\n",
    "                           #mode=theano.compile.mode.FAST_COMPILE\n",
    "                           )\n",
    "\n"
   ]
  },
  {
   "cell_type": "code",
   "execution_count": null,
   "metadata": {
    "collapsed": true
   },
   "outputs": [],
   "source": [
    "n_epochs= 500\n",
    "batch_size = 500\n",
    "for i in range(n_epochs):\n",
    "    err=[]\n",
    "    for (batch_X,batch_y) in iterate_minibatches(Xtr,Ytr,batch_size,shuffle=True):\n",
    "        err.append(domain_train_fun(batch_X,batch_y))\n",
    "    \n",
    "    \n",
    "    print 'train loss: ',np.mean(err)\n",
    "    if epochCounter%25==0:\n",
    "        print '-'*25\n",
    "        print 'epoch {}/{}, {} total'.format(i,n_epochs,epochCounter)\n",
    "        print\n",
    "        \n",
    "        print \"layer RMS:\"\n",
    "        for param in _nn_weights:\n",
    "            RMS_weights = (param.get_value()**2).mean()**.5\n",
    "            print '\\t',param,':',RMS_weights\n",
    "        print\n",
    "        \n",
    "        \n",
    "        \n",
    "        show_sample_predictions(Xtr,Ytr,count=3)\n",
    "    \n",
    "    epochCounter+=1\n",
    "\n"
   ]
  },
  {
   "cell_type": "code",
   "execution_count": null,
   "metadata": {
    "collapsed": true
   },
   "outputs": [],
   "source": []
  },
  {
   "cell_type": "code",
   "execution_count": null,
   "metadata": {
    "collapsed": true
   },
   "outputs": [],
   "source": []
  },
  {
   "cell_type": "code",
   "execution_count": null,
   "metadata": {
    "collapsed": true
   },
   "outputs": [],
   "source": []
  }
 ],
 "metadata": {
  "kernelspec": {
   "display_name": "Python 2",
   "language": "python",
   "name": "python2"
  },
  "language_info": {
   "codemirror_mode": {
    "name": "ipython",
    "version": 2
   },
   "file_extension": ".py",
   "mimetype": "text/x-python",
   "name": "python",
   "nbconvert_exporter": "python",
   "pygments_lexer": "ipython2",
   "version": "2.7.6"
  }
 },
 "nbformat": 4,
 "nbformat_minor": 0
}
