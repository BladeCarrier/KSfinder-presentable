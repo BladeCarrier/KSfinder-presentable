{
 "cells": [
  {
   "cell_type": "code",
   "execution_count": 2,
   "metadata": {
    "collapsed": true
   },
   "outputs": [],
   "source": [
    "import grab"
   ]
  },
  {
   "cell_type": "code",
   "execution_count": 3,
   "metadata": {
    "collapsed": true
   },
   "outputs": [],
   "source": [
    "catalog_url = \"https://en.wikipedia.org/wiki/Lists_of_musicians\""
   ]
  },
  {
   "cell_type": "code",
   "execution_count": 4,
   "metadata": {
    "collapsed": true
   },
   "outputs": [],
   "source": [
    "from grab import Grab\n",
    "g = Grab(log_file='grab.html')\n"
   ]
  },
  {
   "cell_type": "code",
   "execution_count": 5,
   "metadata": {
    "collapsed": false
   },
   "outputs": [],
   "source": [
    "doc = g.go(catalog_url)\n",
    "\n",
    "lists = doc.select(\"//a[starts-with(text(),'List of')]\")\n",
    "links = map( lambda ls: \"https://en.wikipedia.org\"+ ls.node().attrib[\"href\"], lists)\n"
   ]
  },
  {
   "cell_type": "code",
   "execution_count": 6,
   "metadata": {
    "collapsed": false
   },
   "outputs": [
    {
     "name": "stdout",
     "output_type": "stream",
     "text": [
      "0 / 460\n",
      "10 / 460\n",
      "20 / 460\n",
      "30 / 460\n",
      "40 / 460\n",
      "50 / 460\n",
      "60 / 460\n",
      "70 / 460\n",
      "80 / 460\n",
      "90 / 460\n",
      "100 / 460\n",
      "110 / 460\n",
      "120 / 460\n",
      "130 / 460\n",
      "140 / 460\n",
      "150 / 460\n",
      "160 / 460\n",
      "170 / 460\n",
      "180 / 460\n",
      "190 / 460\n",
      "200 / 460\n",
      "210 / 460\n",
      "220 / 460\n",
      "230 / 460\n",
      "240 / 460\n",
      "250 / 460\n",
      "260 / 460\n",
      "270 / 460\n",
      "280 / 460\n",
      "290 / 460\n",
      "300 / 460\n",
      "310 / 460\n",
      "320 / 460\n",
      "330 / 460\n",
      "340 / 460\n",
      "350 / 460\n",
      "360 / 460\n",
      "370 / 460\n",
      "380 / 460\n",
      "390 / 460\n",
      "400 / 460\n",
      "410 / 460\n",
      "420 / 460\n",
      "430 / 460\n",
      "440 / 460\n",
      "450 / 460\n"
     ]
    }
   ],
   "source": [
    "person_links = []\n",
    "person_categories = []\n",
    "for i, link in enumerate(links):\n",
    "    doc_list = g.go(link)\n",
    "    hrefs = doc_list.select(\"//a\")\n",
    "\n",
    "    for href in hrefs:\n",
    "        attrs = href.node().attrib\n",
    "        if 'href' not in attrs:\n",
    "            continue\n",
    "        if not attrs['href'].startswith(\"/wiki/\"):\n",
    "            continue\n",
    "        person_links.append(\"https://en.wikipedia.org\"+attrs['href'])\n",
    "        person_categories.append(link)\n",
    "    if i%10 ==0:\n",
    "        print i, '/',len(links)"
   ]
  },
  {
   "cell_type": "code",
   "execution_count": 10,
   "metadata": {
    "collapsed": false
   },
   "outputs": [],
   "source": [
    "from selenium import webdriver as wd\n",
    "import time\n",
    "\n",
    "def get_infobox_attrs(wd,url,table_name = \"infobox\"):\n",
    "    wd.get(url)\n",
    "    time.sleep(0.5)\n",
    "    table = wd.find_element_by_xpath(\"//table[starts-with(@class, '\"+table_name+\"')]\")\n",
    "    rows = table.find_elements_by_xpath(\"//tr\")\n",
    "    attrs = {}\n",
    "    for row in rows:\n",
    "        try:\n",
    "            key = row.find_element_by_tag_name(\"th\").text.lower()\n",
    "            val = row.find_element_by_tag_name(\"td\").text.lower()\n",
    "            if \"v t e\" in key or \"[show]\" in key:\n",
    "                continue\n",
    "            if len(key) > 30:\n",
    "                continue\n",
    "            attrs[key]= val\n",
    "        except:\n",
    "            pass\n",
    "    return attrs"
   ]
  },
  {
   "cell_type": "code",
   "execution_count": 11,
   "metadata": {
    "collapsed": false
   },
   "outputs": [],
   "source": [
    "from sklearn.externals import joblib\n",
    "\n",
    "\n",
    "import json\n",
    "\n",
    "\n",
    "def _scrape_batch(urls,list_labels,output_fname = \"./musicians0.json\"):\n",
    "    \n",
    "    fox = wd.Firefox()\n",
    "\n",
    "    url_attrs = {}\n",
    "\n",
    "    for i,(page_url,list_label) in enumerate(zip(urls,list_labels)):\n",
    "\n",
    "        try:\n",
    "            attrs = get_infobox_attrs(fox,page_url)\n",
    "            attrs[\"_page_url\"] = page_url\n",
    "            attrs[\"_list\"] = list_label\n",
    "            \n",
    "            url_attrs[page_url] = attrs\n",
    "            \n",
    "            #print \"succeeded for\",page_url\n",
    "        except:\n",
    "            #print \"failed for\", page_url\n",
    "            pass\n",
    "        if i%500==0:\n",
    "            print i,'/',len(urls)\n",
    "        \n",
    "        \n",
    "    fox.close()\n",
    "    with open(output_fname,'w') as fout:\n",
    "        json.dump(url_attrs,fout)\n",
    "    \n",
    "    \n",
    "    return True\n"
   ]
  },
  {
   "cell_type": "code",
   "execution_count": null,
   "metadata": {
    "collapsed": false
   },
   "outputs": [],
   "source": [
    "n_batches = 16\n",
    "\n",
    "tasks = [ \n",
    "    joblib.delayed(_scrape_batch)(person_links[batch_i::n_batches],\n",
    "                person_categories[batch_i::n_batches],\n",
    "                \"large_musicians%i.json\"%batch_i)\n",
    " for batch_i in range(n_batches)]\n",
    "\n",
    "res = joblib.Parallel(n_jobs=4)(tasks)"
   ]
  },
  {
   "cell_type": "code",
   "execution_count": null,
   "metadata": {
    "collapsed": true
   },
   "outputs": [],
   "source": []
  },
  {
   "cell_type": "code",
   "execution_count": null,
   "metadata": {
    "collapsed": true
   },
   "outputs": [],
   "source": []
  },
  {
   "cell_type": "code",
   "execution_count": 52,
   "metadata": {
    "collapsed": true
   },
   "outputs": [],
   "source": [
    "with open(\"./musicians0.json\") as fin:\n",
    "    js = json.load(fin)"
   ]
  },
  {
   "cell_type": "code",
   "execution_count": null,
   "metadata": {
    "collapsed": true
   },
   "outputs": [],
   "source": []
  },
  {
   "cell_type": "code",
   "execution_count": 2,
   "metadata": {
    "collapsed": false
   },
   "outputs": [],
   "source": [
    "import os\n",
    "import json\n",
    "shards_names  =filter(lambda x: x.endswith(\".json\"), os.listdir(\".\"))"
   ]
  },
  {
   "cell_type": "code",
   "execution_count": 10,
   "metadata": {
    "collapsed": false
   },
   "outputs": [],
   "source": [
    "from collections import Counter\n",
    "attr_freq = Counter()\n",
    "list_freq = Counter()\n",
    "\n",
    "\n",
    "for fname in shards_names:\n",
    "    with open(fname) as fin:\n",
    "        jsdict = json.load(fin)\n",
    "        for person_url, attrs in jsdict.items():\n",
    "            for attr,val in attrs.items():\n",
    "                attr_freq[attr[:15].lower()]+=1\n",
    "            list_freq[attrs[\"_list\"].split('/')[-1]]+=1\n",
    "            "
   ]
  },
  {
   "cell_type": "code",
   "execution_count": 11,
   "metadata": {
    "collapsed": false
   },
   "outputs": [],
   "source": [
    "#list_freq.most_common()\n",
    "columns_freqs = attr_freq.most_common(1000)\n",
    "columns = [tpl[0] for tpl in columns_freqs]\n",
    "import numpy as np\n",
    "import pandas as pd"
   ]
  },
  {
   "cell_type": "code",
   "execution_count": 13,
   "metadata": {
    "collapsed": false
   },
   "outputs": [],
   "source": [
    "rows = []\n",
    "targets = []\n",
    "for fname in shards_names:\n",
    "    with open(fname) as fin:\n",
    "        jsdict = json.load(fin)\n",
    "        for person_url, attrs in jsdict.items():\n",
    "            attr_names = map(lambda x:x[:15].lower(), attrs.keys())\n",
    "            row = map( lambda col: col in attr_names,columns)\n",
    "            row = np.array(row,dtype=bool)\n",
    "            rows.append(row)\n",
    "            targets.append(attrs['_list'].split(\"/\")[-1])"
   ]
  },
  {
   "cell_type": "code",
   "execution_count": null,
   "metadata": {
    "collapsed": true
   },
   "outputs": [],
   "source": []
  },
  {
   "cell_type": "code",
   "execution_count": 14,
   "metadata": {
    "collapsed": false
   },
   "outputs": [
    {
     "data": {
      "image/png": "[encoded data removed]",
      "text/plain": [
       "<matplotlib.figure.Figure at 0x7efd9b756590>"
      ]
     },
     "metadata": {},
     "output_type": "display_data"
    }
   ],
   "source": [
    "%matplotlib inline\n",
    "import matplotlib.pyplot as plt\n",
    "\n",
    "_= plt.hist(map(np.mean,rows),bins=25)\n"
   ]
  },
  {
   "cell_type": "code",
   "execution_count": 16,
   "metadata": {
    "collapsed": false
   },
   "outputs": [
    {
     "ename": "NameError",
     "evalue": "name 'rows' is not defined",
     "output_type": "error",
     "traceback": [
      "\u001b[1;31m---------------------------------------------------------------------------\u001b[0m",
      "\u001b[1;31mNameError\u001b[0m                                 Traceback (most recent call last)",
      "\u001b[1;32m<ipython-input-16-7561aadec4f7>\u001b[0m in \u001b[0;36m<module>\u001b[1;34m()\u001b[0m\n\u001b[1;32m----> 1\u001b[1;33m \u001b[0mdf\u001b[0m \u001b[1;33m=\u001b[0m \u001b[0mpd\u001b[0m\u001b[1;33m.\u001b[0m\u001b[0mDataFrame\u001b[0m\u001b[1;33m(\u001b[0m\u001b[0mrows\u001b[0m\u001b[1;33m,\u001b[0m\u001b[0mcolumns\u001b[0m\u001b[1;33m=\u001b[0m\u001b[0mcolumns\u001b[0m\u001b[1;33m)\u001b[0m\u001b[1;33m\u001b[0m\u001b[0m\n\u001b[0m\u001b[0;32m      2\u001b[0m \u001b[1;32mdel\u001b[0m \u001b[0mrows\u001b[0m\u001b[1;33m\u001b[0m\u001b[0m\n\u001b[0;32m      3\u001b[0m \u001b[0mis_leadvoc\u001b[0m \u001b[1;33m=\u001b[0m \u001b[0mnp\u001b[0m\u001b[1;33m.\u001b[0m\u001b[0marray\u001b[0m\u001b[1;33m(\u001b[0m\u001b[0mtargets\u001b[0m\u001b[1;33m)\u001b[0m \u001b[1;33m==\u001b[0m \u001b[1;34m'List_of_lead_vocalists'\u001b[0m\u001b[1;33m\u001b[0m\u001b[0m\n\u001b[0;32m      4\u001b[0m \u001b[0mCounter\u001b[0m\u001b[1;33m(\u001b[0m\u001b[0my\u001b[0m\u001b[1;33m)\u001b[0m\u001b[1;33m.\u001b[0m\u001b[0mmost_common\u001b[0m\u001b[1;33m(\u001b[0m\u001b[1;36m10\u001b[0m\u001b[1;33m)\u001b[0m\u001b[1;33m\u001b[0m\u001b[0m\n",
      "\u001b[1;31mNameError\u001b[0m: name 'rows' is not defined"
     ]
    }
   ],
   "source": [
    "df = pd.DataFrame(rows,columns=columns)\n",
    "del rows\n",
    "is_leadvoc = np.array(targets) == 'List_of_lead_vocalists'\n",
    "Counter(y).most_common(10)"
   ]
  },
  {
   "cell_type": "code",
   "execution_count": 19,
   "metadata": {
    "collapsed": true
   },
   "outputs": [],
   "source": [
    "y = np.array(targets)"
   ]
  },
  {
   "cell_type": "code",
   "execution_count": 17,
   "metadata": {
    "collapsed": false
   },
   "outputs": [
    {
     "data": {
      "text/plain": [
       "36147"
      ]
     },
     "execution_count": 17,
     "metadata": {},
     "output_type": "execute_result"
    }
   ],
   "source": [
    "(np.mean(df.values,axis=1) >0.005).sum()"
   ]
  },
  {
   "cell_type": "code",
   "execution_count": 20,
   "metadata": {
    "collapsed": false
   },
   "outputs": [],
   "source": [
    "from sklearn.linear_model import LogisticRegression\n",
    "from sklearn.ensemble import RandomForestClassifier\n",
    "from sklearn.cross_validation import train_test_split\n",
    "Xtr,Xts,Ytr,Yts = train_test_split(df.values,y)"
   ]
  },
  {
   "cell_type": "code",
   "execution_count": null,
   "metadata": {
    "collapsed": false
   },
   "outputs": [],
   "source": [
    "model = RandomForestClassifier(n_estimators=1000,n_jobs=-1).fit(Xtr,Ytr)"
   ]
  },
  {
   "cell_type": "code",
   "execution_count": null,
   "metadata": {
    "collapsed": true
   },
   "outputs": [],
   "source": [
    "from sklearn.metrics import roc_auc_score"
   ]
  },
  {
   "cell_type": "code",
   "execution_count": null,
   "metadata": {
    "collapsed": false
   },
   "outputs": [],
   "source": [
    "print roc_auc_score(Ytr,model.predict_proba(Xtr)[:,1])\n",
    "print roc_auc_score(Yts,model.predict_proba(Xts)[:,1])"
   ]
  },
  {
   "cell_type": "code",
   "execution_count": null,
   "metadata": {
    "collapsed": true
   },
   "outputs": [],
   "source": []
  },
  {
   "cell_type": "code",
   "execution_count": null,
   "metadata": {
    "collapsed": false
   },
   "outputs": [],
   "source": [
    "import json\n",
    "with open(\"musicians.json\",'w') as fout:\n",
    "    json.dump(url_attrs,fout)"
   ]
  },
  {
   "cell_type": "code",
   "execution_count": 5,
   "metadata": {
    "collapsed": false
   },
   "outputs": [],
   "source": [
    "\n",
    "list_of_states = doc.select(\"//ol\")[0].select(\"//a\")\n",
    "\n",
    "pageurls = []\n",
    "for h in list_of_states:\n",
    "    n = h.node()\n",
    "    if not 'href' in n.attrib:\n",
    "        continue\n",
    "    href = n.attrib['href']\n",
    "    if not href.startswith(\"/wiki\"):\n",
    "        continue\n",
    "    pageurls.append(\"https://ru.wikipedia.org\"+href)"
   ]
  },
  {
   "cell_type": "code",
   "execution_count": 61,
   "metadata": {
    "collapsed": false
   },
   "outputs": [],
   "source": []
  },
  {
   "cell_type": "code",
   "execution_count": 73,
   "metadata": {
    "collapsed": false
   },
   "outputs": [
    {
     "name": "stdout",
     "output_type": "stream",
     "text": [
      "https://en.wikipedia.org/wiki/Mike_Doughty\n",
      "//table[contains(@class, 'infobox vcard plainlist')]\n"
     ]
    },
    {
     "data": {
      "text/plain": [
       "{u'2002 Smofe + Smang': u\" Live in Minneapolis \\u2212 \\u2212 self-released Live album recorded at the Woman's Club Theater in Minneapolis on February 27, 2002. Release in a limited edition of 2500.\",\n",
       " 'Live albums Smofe + Smang': ' Live in Mpls. Busking The Question Jar Show',\n",
       " 'v t e Mike Doughty Studio albums Skittish Haughty Melodic Golden Delicious Sad Man Happy Man Yes and Also Yes The Flip Is Another Honey EPs Rockity Roll The Gambler EP Half Smofe Busking EP Fort Hood E.P. Live albums Smofe + Smang': ' Live in Mpls. Busking The Question Jar Show Singles \"Looking at the World from the Bottom of a Well\" \"27 Jennifers\" \"(You Should Be) Doubly (Gratified)\" Compilations Skittish / Rockity Roll Written Works Slanky The Book of Drugs Related Topics Soul Coughing New York Press'}"
      ]
     },
     "execution_count": 73,
     "metadata": {},
     "output_type": "execute_result"
    }
   ],
   "source": [
    "print person_links[300]\n",
    "get_infobox_attrs(person_links[300])"
   ]
  },
  {
   "cell_type": "code",
   "execution_count": 13,
   "metadata": {
    "collapsed": false
   },
   "outputs": [],
   "source": [
    "url_attrs = {}\n",
    "for page_url in pageurls:\n",
    "        \n",
    "    try:\n",
    "        attrs = get_infobox_attrs(page_url)\n",
    "        url_attrs[page_url] = attrs\n",
    "        #print \"succeeded for\",page_url\n",
    "    except:\n",
    "        #print \"failed for\", page_url\n",
    "        pass"
   ]
  },
  {
   "cell_type": "code",
   "execution_count": 25,
   "metadata": {
    "collapsed": false
   },
   "outputs": [
    {
     "name": "stdout",
     "output_type": "stream",
     "text": [
      "См. также <-  Датская колонизация Америки • Датская работорговля[da] • Скандинавский колониализм • Королевство Дании\n",
      "Гимн <-  Nunarput utoqqarsuanngoravit\n",
      "Антигуа и Барбуда | Багамские Острова | Барбадос | Белиз | Гаити | Гватемала | Гондурас | Гренада | Доминика | Доминиканская Республика | Канада | Коста-Рика | Куба | Мексика | Никарагуа | Панама | Сальвадор | Сент-Люсия | Сент-Винсент и Гренадины | Сент-Китс и Невис | США | Тринидад и Тобаго | Ямайка Зависимые территории <-  Американские Виргинские острова | Ангилья | Аруба | Бермудские Острова | Бонэйр, Синт-Эстатиус и Саба | Британские Виргинские острова | Гваделупа | Гренландия | Острова Кайман | Клиппертон | Кюрасао | Мартиника | Монтсеррат | Навасса | Пуэрто-Рико | Сан-Андрес-и-Провиденсия | Сен-Бартелеми | Сен-Мартен | Сен-Пьер и Микелон | Синт-Мартен | Теркс и Кайкос | Федеральные владения Венесуэлы\n",
      "Координаты <-  72°27′00″ с. ш. 40°30′00″ з. д.﻿ / ﻿72.45000° с. ш. 40.50000° з. д.﻿ / 72.45000; -40.50000 (G) (O)\n"
     ]
    }
   ],
   "source": [
    "for k,v in url_attrs.values()[10].items():\n",
    "    print k,'<-',v"
   ]
  },
  {
   "cell_type": "code",
   "execution_count": 121,
   "metadata": {
    "collapsed": false
   },
   "outputs": [
    {
     "name": "stdout",
     "output_type": "stream",
     "text": [
      "Дата рождения  14 марта 1879(1879-03-14)[1][2][3]\n",
      "Место рождения  Ульм, Королевство Вюртемберг, Германская империя\n",
      "Дата смерти  18 апреля 1955(1955-04-18)[4][3] (76 лет)\n",
      "Место смерти  Принстон, Нью-Джерси, США\n",
      "Страна  Германия Германия (1879—1896, 1914—1933) апатрид (1896—1901) Швейцария Швейцария (с 1901) США США (1940—1955)\n",
      "Научная сфера  теоретическая физика\n",
      "Место работы  Патентное бюро в Берне, Цюрихский университет, Карлов университет, Институт Кайзера Вильгельма, Лейденский университет, Институт фундаментальных исследований\n",
      "Альма-матер  Высшая техническая школа Цюриха\n",
      "Научный руководитель  Альфред Кляйнер\n",
      "Известен как  создатель общей и специальной теорий относительности\n",
      "Награды и премии  Нобелевская премия по физике (1921) Медаль Барнарда (1921) Медаль Маттеуччи (1921) Медаль Копли (1925) Золотая медаль Королевского астрономического общества (1926) Медаль Планка (1929) Премия Жюля Жансена (1931) Гиббсовская лекция (1934) Медаль Франклина (1935)\n",
      "Подпись \n"
     ]
    }
   ],
   "source": []
  },
  {
   "cell_type": "code",
   "execution_count": 18,
   "metadata": {
    "collapsed": false
   },
   "outputs": [],
   "source": [
    "class ScraperParser(HTMLParser.HTMLParser):\n",
    "    def __init__(self):\n",
    "        HTMLParser.HTMLParser.__init__(self)\n",
    "        self.recording = 0\n",
    "        self.data = []\n",
    "\n",
    "    def handle_starttag(self, tag, attributes):\n",
    "        if tag != 'table':\n",
    "            return\n",
    "        if self.recording:\n",
    "            self.recording += 1\n",
    "            return\n",
    "        for name, value in attributes:\n",
    "            if name == 'class' and value == 'infobox vcard':\n",
    "                break\n",
    "        else:\n",
    "            return\n",
    "        self.recording = 1\n",
    "\n",
    "    def handle_endtag(self, tag):\n",
    "        if tag == 'div' and self.recording:\n",
    "            self.recording -= 1\n",
    "\n",
    "    def handle_data(self, data):\n",
    "        if self.recording:\n",
    "            self.data.append(data)"
   ]
  },
  {
   "cell_type": "code",
   "execution_count": 24,
   "metadata": {
    "collapsed": false
   },
   "outputs": [],
   "source": [
    "page_html  = urllib.urlopen(url).read().decode('utf8')\n",
    "sp = ScraperParser()\n",
    "sp.feed(page_html)"
   ]
  },
  {
   "cell_type": "code",
   "execution_count": 26,
   "metadata": {
    "collapsed": false
   },
   "outputs": [],
   "source": [
    "sp.close()"
   ]
  },
  {
   "cell_type": "code",
   "execution_count": null,
   "metadata": {
    "collapsed": true
   },
   "outputs": [],
   "source": []
  }
 ],
 "metadata": {
  "kernelspec": {
   "display_name": "Python 2",
   "language": "python",
   "name": "python2"
  },
  "language_info": {
   "codemirror_mode": {
    "name": "ipython",
    "version": 2
   },
   "file_extension": ".py",
   "mimetype": "text/x-python",
   "name": "python",
   "nbconvert_exporter": "python",
   "pygments_lexer": "ipython2",
   "version": "2.7.6"
  }
 },
 "nbformat": 4,
 "nbformat_minor": 0
}
