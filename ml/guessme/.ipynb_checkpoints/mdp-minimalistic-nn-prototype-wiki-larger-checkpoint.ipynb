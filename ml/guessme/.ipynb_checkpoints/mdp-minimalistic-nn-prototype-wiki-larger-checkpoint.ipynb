{
 "cells": [
  {
   "cell_type": "code",
   "execution_count": 1,
   "metadata": {
    "collapsed": false
   },
   "outputs": [],
   "source": [
    "import sys\n",
    "sys.path.append(\"../KSfinder/ml/\")"
   ]
  },
  {
   "cell_type": "code",
   "execution_count": 2,
   "metadata": {
    "collapsed": false
   },
   "outputs": [
    {
     "name": "stdout",
     "output_type": "stream",
     "text": [
      "Couldn't import dot_parser, loading of dot files will not be possible.\n"
     ]
    }
   ],
   "source": [
    "from matplotlib import pyplot as plt\n",
    "%matplotlib inline\n",
    "import numpy as np\n",
    "import theano\n",
    "theano.config.floatX = 'float32'\n",
    "theano.config.openmp = True\n",
    "import theano.tensor as T\n",
    "import lasagne\n",
    "%load_ext autoreload\n",
    "%autoreload 2"
   ]
  },
  {
   "cell_type": "code",
   "execution_count": 3,
   "metadata": {
    "collapsed": true
   },
   "outputs": [],
   "source": [
    "_shared = lambda name,val,dtype: theano.shared(val.astype(dtype),name,\n",
    "                                               strict = True,allow_downcast=True)\n",
    "floatX = theano.config.floatX"
   ]
  },
  {
   "cell_type": "markdown",
   "metadata": {},
   "source": [
    "# problem statement"
   ]
  },
  {
   "cell_type": "code",
   "execution_count": 4,
   "metadata": {
    "collapsed": false
   },
   "outputs": [],
   "source": [
    "import json\n",
    "import os\n",
    "\n",
    "from collections import Counter\n",
    "keys = Counter()\n",
    "\n",
    "\n",
    "jsns = filter(lambda s: s.startswith(\"musicians\"),os.listdir(\".\"))\n",
    "for fname in jsns:\n",
    "    with open(fname) as fin:\n",
    "        js = json.load(fin)\n",
    "        for entity in js.values():\n",
    "            for key in entity.keys():\n",
    "                keys[key]+=1\n"
   ]
  },
  {
   "cell_type": "code",
   "execution_count": 5,
   "metadata": {
    "collapsed": false
   },
   "outputs": [],
   "source": [
    "factorizable_features = [u'Genres',u'Born',u\"Occupation(s)\",u'Instruments',u'Origin']\n",
    "\n",
    "from collections import defaultdict,Counter\n",
    "feature_factor_freqs = defaultdict(Counter)\n",
    "\n",
    "for fname in jsns:\n",
    "    with open(fname) as fin:\n",
    "        js = json.load(fin)\n",
    "        for entity in js.values():\n",
    "            for key in factorizable_features:\n",
    "                vals = entity.get(key,'_empty').lower().replace(',',' ')\n",
    "                vals = filter(len,vals.split())\n",
    "                for val in vals:\n",
    "                    feature_factor_freqs[key][val] +=1\n"
   ]
  },
  {
   "cell_type": "code",
   "execution_count": 6,
   "metadata": {
    "collapsed": false
   },
   "outputs": [],
   "source": [
    "feature_factors = [ (key,value) for key in factorizable_features \n",
    "                   for value in dict(feature_factor_freqs[key].most_common(50)).keys() ]"
   ]
  },
  {
   "cell_type": "code",
   "execution_count": 7,
   "metadata": {
    "collapsed": false
   },
   "outputs": [],
   "source": [
    "key_features = keys.most_common(253)[3:] #remove url and list\n",
    "\n",
    "unary_features = [ feature for (feature,count) in key_features]\n",
    "factor_features =  [ (key+\".\"+val) for (key,val) in feature_factors]\n",
    "factor_feature_to_id = {f:i for i,f in enumerate(factor_features)}\n",
    "\n",
    "feature_names = unary_features + factor_features"
   ]
  },
  {
   "cell_type": "code",
   "execution_count": 8,
   "metadata": {
    "collapsed": false
   },
   "outputs": [],
   "source": [
    "rows=[]\n",
    "for fname in jsns:\n",
    "    with open(fname) as fin:\n",
    "        js = json.load(fin)\n",
    "        for entity in js.values():\n",
    "            row = [key in entity for key in unary_features]\n",
    "            \n",
    "            factors = np.zeros(len(factor_features))\n",
    "            for key in factor_features:\n",
    "                \n",
    "                vals = entity.get(key,'_empty').lower().replace(',',' ')\n",
    "                vals = filter(len,vals.split())\n",
    "                vals = [key+\".\"+val for val in vals]\n",
    "                vals = filter(lambda v: v in factor_feature_to_id,vals)\n",
    "                \n",
    "                val_ids = map(factor_feature_to_id.get, vals)\n",
    "                \n",
    "                factors[val_ids] = 1\n",
    "            \n",
    "                \n",
    "                \n",
    "                \n",
    "\n",
    "            \n",
    "            rows.append(np.concatenate([row,factors]))\n",
    "\n",
    "import pandas as pd\n",
    "df = pd.DataFrame(rows,columns = feature_names)\n",
    "del rows"
   ]
  },
  {
   "cell_type": "code",
   "execution_count": 9,
   "metadata": {
    "collapsed": false
   },
   "outputs": [
    {
     "name": "stdout",
     "output_type": "stream",
     "text": [
      "0.0175727809392\n"
     ]
    },
    {
     "data": {
      "image/png": "[encoded data removed]",
      "text/plain": [
       "<matplotlib.figure.Figure at 0x7f5509753310>"
      ]
     },
     "metadata": {},
     "output_type": "display_data"
    }
   ],
   "source": [
    "plt.hist((df.values).sum(axis=1),bins=50)\n",
    "print (df.values).mean()"
   ]
  },
  {
   "cell_type": "code",
   "execution_count": 12,
   "metadata": {
    "collapsed": false
   },
   "outputs": [
    {
     "data": {
      "text/plain": [
       "(10792, 500)"
      ]
     },
     "execution_count": 12,
     "metadata": {},
     "output_type": "execute_result"
    }
   ],
   "source": [
    "df.values[df.values.sum(axis=1)>10].shape"
   ]
  },
  {
   "cell_type": "code",
   "execution_count": 14,
   "metadata": {
    "collapsed": false
   },
   "outputs": [
    {
     "data": {
      "text/plain": [
       "(118, 30081)"
      ]
     },
     "execution_count": 14,
     "metadata": {},
     "output_type": "execute_result"
    }
   ],
   "source": [
    "thr=0.01\n",
    "df_values_intermediate = df.values[df.values.sum(axis=1)>5]\n",
    "\n",
    "df_values = df_values_intermediate[:,(df_values_intermediate).mean(axis=0)>thr]\n",
    "\n",
    "features_final = np.array(feature_names)[(df_values_intermediate).mean(axis=0)>thr]\n",
    "\n",
    "len(features_final),len(df_values)"
   ]
  },
  {
   "cell_type": "code",
   "execution_count": 15,
   "metadata": {
    "collapsed": true
   },
   "outputs": [],
   "source": [
    "from sklearn.cross_validation import train_test_split\n",
    "train,test = train_test_split(df_values,test_size=0.9)"
   ]
  },
  {
   "cell_type": "markdown",
   "metadata": {},
   "source": [
    "# naive q-learning"
   ]
  },
  {
   "cell_type": "code",
   "execution_count": 16,
   "metadata": {
    "collapsed": false
   },
   "outputs": [],
   "source": [
    "class PracticeEnvironment:\n",
    "    def __init__(self,n_outputs,n_inputs,\n",
    "                 data_train,data_test=None,\n",
    "                 end_code=None,\n",
    "                 batch_size=10,seq_len=10): \n",
    "        \"\"\"an environment class that defines what does MDP interact with\"\"\"\n",
    "        self._event = _shared(\"event_bool_arr\",np.zeros([batch_size,n_outputs]),floatX)\n",
    "        \n",
    "        \n",
    "        self.data_train = data_train\n",
    "        self.data_test = data_test\n",
    "        \n",
    "        self.seq_len = seq_len\n",
    "        self.batch_size = batch_size\n",
    "        self.n_outputs = n_outputs\n",
    "        self.n_inputs = n_inputs\n",
    "        if end_code is None:\n",
    "            end_code = self.n_outputs -1\n",
    "        self.end_code = end_code\n",
    "        self.generic_input_shape = fake_input_shape = [None,None,1,self.n_inputs]\n",
    "\n",
    "\n",
    "        \n",
    "        self._bag_of_randomness = _shared(\"randomness\",\n",
    "                                          np.random.random([self.seq_len,self.batch_size]),floatX)\n",
    "        \n",
    "        self._shape_input = _shared(\"fake_inp_var_for_shape\",\n",
    "                                    np.zeros([self.batch_size,self.seq_len,1,self.n_outputs]),floatX)\n",
    "\n",
    "\n",
    "        self._greediness = _shared(\"greediness\",np.float32(3.),floatX)\n",
    "\n",
    "        \n",
    "        self.dependencies = [\n",
    "            self._event,\n",
    "            self._bag_of_randomness,\n",
    "            self._greediness\n",
    "        ]\n",
    "        \n",
    "        \n",
    "        self.reset_agent = lambda bs,sl: None\n",
    "    \n",
    "    def change_shape(self,batch_size,seq_len):\n",
    "        self.batch_size = batch_size\n",
    "        self.seq_len = seq_len\n",
    "        new_inp_shape = np.zeros([self.batch_size,self.seq_len,1,self.n_inputs],dtype=floatX) \n",
    "        self._shape_input.set_value( new_inp_shape)\n",
    "        \n",
    "        self.prepare_sessions()\n",
    "        \n",
    "    def prepare_sessions(self,test=False):\n",
    "        self.reset_agent(self.batch_size,self.seq_len)\n",
    "        self.load_next_events(self.data_test if test else self.data_train)\n",
    "        self.get_some_randomness()\n",
    "        \n",
    "        \n",
    "    def load_next_events(self,data):\n",
    "        \n",
    "        sample_ids = np.random.randint(0,data.shape[0],size=self.batch_size)\n",
    "        \n",
    "        \n",
    "        evts = data[sample_ids,:].astype(floatX)\n",
    "        \n",
    "        self._event.set_value(evts)\n",
    "        \n",
    "        \n",
    "    def get_some_randomness(self):\n",
    "        \"\"\"reloads the shared random variable sequences used instead of real-time RNG to avoid problems with\n",
    "        T.scan updates.\"\"\"\n",
    "        randomness_shape = (self.seq_len,self.batch_size)\n",
    "        self._bag_of_randomness.set_value(\n",
    "            np.random.random(randomness_shape).astype(floatX))\n",
    "    \n",
    "    def get_action_probas(self,hidden_activation):\n",
    "        exp_h = T.exp(self._greediness*hidden_activation)\n",
    "\n",
    "        return exp_h / exp_h.sum(axis=1,keepdims=True)\n",
    "    \n",
    "    def decision_by_hidden(self,itr,hidden_activation): #has to be deterministic function\n",
    "        \"\"\"take 1D float32 array and return action code.\n",
    "        Action code must be stackable with hidden_activation\n",
    "        Do not use random INSIDE. It's okay to pre-generate randomness\"\"\"\n",
    "        \n",
    "        probas = self.get_action_probas(hidden_activation) #[batch_size,n-actions]\n",
    "        \n",
    "        #softmax sampling\n",
    "        cum_probas = probas.cumsum(axis=1) #[batch_size,n-actions]\n",
    "        \n",
    "        batch_of_random = self._bag_of_randomness[itr,:] #batch_size of floatX\n",
    "        batch_of_random = batch_of_random.reshape([-1,1]) \n",
    "        \n",
    "        #cum_probas are `guaranteed` to sum to zero but there can a problem with float32 inaccuracy,\n",
    "        #so to avoid choice_id being > number of choices, we cut that last `1` out\n",
    "\n",
    "        choices = (batch_of_random > cum_probas[:,:-1]).sum(axis=1).astype('int32')\n",
    "        \n",
    "\n",
    "        \n",
    "        return T.extra_ops.to_one_hot(choices,nb_class = self.n_outputs)\n",
    "        \n",
    "    def input_by_decision(self,itr,decision): #has to be deterministic function\n",
    "        \"\"\"take action code and return the next input observation.\n",
    "        Do not use random INSIDE. It's okay to pre-generate randomness\"\"\"\n",
    "        \n",
    "        dec_ids = T.argmax(decision,axis=1)\n",
    "        \n",
    "        _regular_response =  self._event[T.arange(dec_ids.shape[0]),dec_ids]\n",
    "\n",
    "        \n",
    "        return T.switch( T.eq(dec_ids ,self.end_code), 0, _regular_response\n",
    "                       ).reshape([-1,self.n_inputs])#last 1 is the input shape\n",
    "        \n",
    "    def decision_init_factory(self):\n",
    "        \"\"\"returns a value for '-1st' action, that is than aligned to the zero-tick\n",
    "        hidden state\"\"\"\n",
    "        dec0 = np.zeros( self.n_outputs ,dtype=floatX)\n",
    "        dec0[0] =1\n",
    "        return dec0\n",
    "    def on_new_session(self,function):\n",
    "        \"\"\"takes a function of (batch_size, input_size) and\n",
    "        calls it before each new session start\"\"\"\n",
    "        self.reset_agent = function\n",
    "        \n",
    "    def get_feedback(self,response_history,decision_history,strict = True):\n",
    "        \"\"\"\n",
    "        response_history - mdp network responses for each time and batch [floatX(batch,sequence,units)]\n",
    "        decision_history - mdp decisions that were chosen during training iteration [floatX(batch,sequence,units)]\n",
    "        Assumes response and decision shapes to be [batch_id,seq_length,unit]\n",
    "        returns:\n",
    "        rewards[batch,time], reward in given batch at given time\n",
    "        is_alive[batch,time], whether the batch's session has ended by the BEGINNING of time'th iteration\n",
    "        committed_action_id[batch,time], index [int] of the action committed in given batch at given time\n",
    "        response[batch,time,n_units], nn output at given batch/time\n",
    "        \"\"\"\n",
    "\n",
    "\n",
    "        #reshape inputs\n",
    "        _predicted_Qvalues = response_history.dimshuffle(1,0,2)\n",
    "        _commited_actions =  decision_history.dimshuffle(1,0,2)\n",
    "        _commited_action_ids = T.argmax(_commited_actions,-1)\n",
    "\n",
    "\n",
    "        #init a variable in which ones indicate inputs that were tried \n",
    "        # already within a session (used in T.scan later)\n",
    "        _attempted_init =T.zeros_like(_commited_actions[0,:,:],dtype=floatX) #[batch,units]\n",
    "\n",
    "\n",
    "        _batch_shaped = _commited_actions[0,:,0]\n",
    "        outputs_info = [_attempted_init,\n",
    "                        T.zeros_like(_batch_shaped,dtype=floatX),\n",
    "                        T.ones_like(_batch_shaped,dtype='int8')\n",
    "                       ]\n",
    "        non_sequences = [self._event]\n",
    "\n",
    "\n",
    "\n",
    "        sequences = [_commited_action_ids]\n",
    "\n",
    "        def reward_computation_step(decision_code,\n",
    "\n",
    "                                    fields_attempted_ext,\n",
    "                                    last_reward,\n",
    "                                    session_active,\n",
    "\n",
    "                                    event_arr_ext,*args):\n",
    "            \"\"\"i am used to compute the stepwise reward function via scan\n",
    "            decision_code - int32 vector (batch_i) - what decision was taken during THIS STEP\n",
    "            fields_attempted - int8 matrix (batch_i, array field id) - what fields were checked already\n",
    "            last_reward - float32 vector (batch_i) - reward on previous step\n",
    "            session_active - int8 vector (batch_i) - whether session is still not finished AFTER PREVIOUS_STEP\n",
    "            event_arr - an array (int8) of game stage\"\"\"\n",
    "\n",
    "\n",
    "\n",
    "            batch_i = T.arange(decision_code.shape[0],dtype='int32')\n",
    "            ones_batch = T.ones_like(decision_code,dtype=floatX,)\n",
    "            zeros_batch = T.zeros_like(decision_code,dtype=floatX,)\n",
    "\n",
    "\n",
    "            #step\n",
    "\n",
    "            has_finished_now = T.eq(decision_code,self.end_code)\n",
    "\n",
    "            session_still_active = session_active*(1-has_finished_now) # array [batch_i] of bool\n",
    "\n",
    "            is_first_time = T.eq(fields_attempted_ext[batch_i,decision_code],0)\n",
    "\n",
    "            first_time_reward = (2*event_arr_ext[batch_i,decision_code] -1.).astype(floatX)\n",
    "\n",
    "            current_reward = T.switch(session_still_active,                                \n",
    "                                            T.switch(is_first_time,\n",
    "                                                        first_time_reward,\n",
    "                                                        -5*ones_batch\n",
    "                                                    ),\n",
    "                                            0.*zeros_batch\n",
    "                                    )\n",
    "\n",
    "\n",
    "            fields_attempted_now_ext = T.set_subtensor(\n",
    "                fields_attempted_ext[batch_i,decision_code], ones_batch)\n",
    "\n",
    "            #current_reward\n",
    "            return fields_attempted_now_ext,current_reward,session_still_active\n",
    "\n",
    "        attempted_ext,rewards,session_is_alive = theano.scan(\n",
    "                                                reward_computation_step,\n",
    "                                                sequences,\n",
    "                                                outputs_info,\n",
    "                                                non_sequences,\n",
    "                                                strict=True)[0]\n",
    "        attempted_ext = attempted_ext[-1]\n",
    "\n",
    "        #take account for that rewards indicate whether session lasts for the NEXT step (and we wand current step)\n",
    "        #shape so far: seq_len, batch_i (will be transposed later in this function)\n",
    "\n",
    "        session_is_alive = T.vertical_stack(\n",
    "            T.ones_like(_batch_shaped,dtype='int8').reshape([1,-1]),# padding\n",
    "            session_is_alive[:-1,:], #actual session status for current step\n",
    "\n",
    "        )\n",
    "\n",
    "        _commited_actions = _commited_actions.dimshuffle([1,0,2])\n",
    "        _predicted_Qvalues = _predicted_Qvalues.dimshuffle([1,0,2])\n",
    "\n",
    "        return rewards.T,session_is_alive.T,_commited_action_ids.T,_predicted_Qvalues"
   ]
  },
  {
   "cell_type": "code",
   "execution_count": 17,
   "metadata": {
    "collapsed": false
   },
   "outputs": [],
   "source": [
    "\n",
    "from retina.MDPlayer import GRULayer\n",
    "env = PracticeEnvironment(len(features_final),1,\n",
    "                          train,\n",
    "                          test,\n",
    "                          )\n",
    "\n",
    "env.change_shape(10,100) #10 sessions, 50 hits each\n",
    "#gotta run this each time you start a new batch.\n",
    "\n",
    "mdp_hidden_size = 256\n",
    "\n",
    "##auxilary nn that transforms mdp_nn hidden units into predictions\n",
    "#shape batch_i,mdp_units\n",
    "\n",
    "_mdp_inner = lasagne.layers.InputLayer(shape=[None,mdp_hidden_size],name=\"mdp_hidden_to_output_inp\") \n",
    "\n",
    "\n",
    "_mdp_inner = lasagne.layers.DenseLayer(_mdp_inner,name=\"mdp_hidden_to_output_dense0\",\n",
    "                                       num_units=env.n_outputs,\n",
    "                                       nonlinearity = lasagne.nonlinearities.linear)\n",
    "\n",
    "##mdp layer itself\n",
    "\n",
    "_nn_inp = lasagne.layers.InputLayer( env.generic_input_shape  ,name=\"fake_inp_layer\",\n",
    "                                          input_var = env._shape_input)   \n",
    "\n",
    "_rnn = GRULayer(_nn_inp,mdp_hidden_size,env,\n",
    "                hidden_to_output_network = _mdp_inner,\n",
    "                name=\"mdp_gru\")\n",
    "\n",
    "\n",
    "#a network layer that's used inside mdp _rnn to make decisions\n",
    "\n",
    "#init trainer\n",
    "env.prepare_sessions()\n"
   ]
  },
  {
   "cell_type": "code",
   "execution_count": 18,
   "metadata": {
    "collapsed": false
   },
   "outputs": [
    {
     "name": "stdout",
     "output_type": "stream",
     "text": [
      "called get_output\n"
     ]
    },
    {
     "name": "stderr",
     "output_type": "stream",
     "text": [
      "/usr/local/lib/python2.7/dist-packages/theano/scan_module/scan.py:1019: Warning: In the strict mode, all neccessary shared variables must be passed as a part of non_sequences\n",
      "  'must be passed as a part of non_sequences', Warning)\n"
     ]
    }
   ],
   "source": [
    "_prediction = lasagne.layers.get_output(_rnn)\n",
    "\n"
   ]
  },
  {
   "cell_type": "code",
   "execution_count": 16,
   "metadata": {
    "collapsed": false
   },
   "outputs": [],
   "source": [
    "#theano.config.exception_verbosity='high'\n",
    "#theano.config.compute_test_value = 'warn'"
   ]
  },
  {
   "cell_type": "code",
   "execution_count": 19,
   "metadata": {
    "collapsed": false
   },
   "outputs": [
    {
     "name": "stdout",
     "output_type": "stream",
     "text": [
      "[(10, 100, 256), (10, 100, 118), (10, 100, 118)]\n"
     ]
    },
    {
     "data": {
      "image/png": "[encoded data removed]",
      "text/plain": [
       "<matplotlib.figure.Figure at 0x7f54ef02b150>"
      ]
     },
     "metadata": {},
     "output_type": "display_data"
    },
    {
     "data": {
      "image/png": "[encoded data removed]",
      "text/plain": [
       "<matplotlib.figure.Figure at 0x7f54ec931190>"
      ]
     },
     "metadata": {},
     "output_type": "display_data"
    }
   ],
   "source": [
    "#howto run\n",
    "env.prepare_sessions()\n",
    "\n",
    "predict = theano.function([],_prediction,mode=theano.compile.mode.FAST_COMPILE)\n",
    "\n",
    "\n",
    "pred_history = predict()\n",
    "\n",
    "\n",
    "hid_history,resp_history,dec_history = pred_history\n",
    "print [channel.shape for channel in pred_history]\n",
    "\n",
    "plt.hist(resp_history.ravel(),bins=50)\n",
    "plt.show()\n",
    "_= plt.hist(dec_history.argmax(-1).ravel(),bins=50)"
   ]
  },
  {
   "cell_type": "markdown",
   "metadata": {},
   "source": [
    "\n",
    "# learning"
   ]
  },
  {
   "cell_type": "code",
   "execution_count": 44,
   "metadata": {
    "collapsed": false
   },
   "outputs": [],
   "source": [
    "from retina.MDPlayer import get_reference_tuples"
   ]
  },
  {
   "cell_type": "code",
   "execution_count": 45,
   "metadata": {
    "collapsed": false
   },
   "outputs": [],
   "source": [
    "\n",
    "\n",
    "_hid_history,_resp_history,_dec_history  = _prediction\n",
    "\n",
    "_feedback = env.get_feedback(_resp_history,_dec_history)\n",
    "\n",
    "#gamma - delayed reward coefficient - what fraction of reward is retained if it is obtained one tick later\n",
    "_gamma = _shared('q_learning_gamma',np.float32(0.99),floatX)\n",
    "\n",
    "_action_ids,_rewards, _predicted_Qvalues, _reference_Qvalues= get_reference_tuples(*_feedback,\n",
    "                                                                                   _gamma_or_gammas=_gamma,\n",
    "                                                                                   end_code=env.end_code)\n",
    "\n",
    "\n",
    "\n",
    "_loss = lasagne.objectives.squared_error(_predicted_Qvalues[T.arange(_action_ids.shape[0]),_action_ids]\n",
    "                                         ,_reference_Qvalues)\n"
   ]
  },
  {
   "cell_type": "markdown",
   "metadata": {
    "collapsed": false
   },
   "source": [
    "# training, finally"
   ]
  },
  {
   "cell_type": "code",
   "execution_count": 46,
   "metadata": {
    "collapsed": false
   },
   "outputs": [
    {
     "data": {
      "text/plain": [
       "[mdp_hidden_to_output_dense0.W,\n",
       " mdp_hidden_to_output_dense0.b,\n",
       " mdp_gru.W_in_to_updategate,\n",
       " mdp_gru.W_hid_to_updategate,\n",
       " mdp_gru.b_updategate,\n",
       " mdp_gru.W_in_to_resetgate,\n",
       " mdp_gru.W_hid_to_resetgate,\n",
       " mdp_gru.b_resetgate,\n",
       " mdp_gru.W_in_to_hidden_update,\n",
       " mdp_gru.W_hid_to_hidden_update,\n",
       " mdp_gru.b_hidden_update]"
      ]
     },
     "execution_count": 46,
     "metadata": {},
     "output_type": "execute_result"
    }
   ],
   "source": [
    "_weights = lasagne.layers.get_all_params(_rnn)\n",
    "_weights"
   ]
  },
  {
   "cell_type": "code",
   "execution_count": 47,
   "metadata": {
    "collapsed": false
   },
   "outputs": [],
   "source": [
    "#_updates = lasagne.updates.nesterov_momentum(_loss.mean(),_weights,learning_rate=0.01)\n",
    "_updates = lasagne.updates.sgd(_loss.mean(),_weights,0.001)"
   ]
  },
  {
   "cell_type": "code",
   "execution_count": 48,
   "metadata": {
    "collapsed": false
   },
   "outputs": [],
   "source": [
    "train_fun = theano.function([],(_rewards.sum()/_dec_history.shape[0],_loss.mean()),updates=_updates)\n",
    "\n",
    "eval_fun = theano.function([],_rewards.sum()/_dec_history.shape[0],)"
   ]
  },
  {
   "cell_type": "code",
   "execution_count": 49,
   "metadata": {
    "collapsed": false
   },
   "outputs": [],
   "source": [
    "\n",
    "\n",
    "env.change_shape(1000,25)\n",
    "env.prepare_sessions()\n",
    "\n",
    "\n",
    "\n",
    "ma_reward = eval_fun()\n",
    "alpha = 0.01\n",
    "\n",
    "ma_reward_greedy = eval_fun()\n",
    "\n",
    "env.prepare_sessions(test=True)\n",
    "ma_reward_test = eval_fun()\n",
    "\n",
    "alpha_greedy = 0.1\n",
    "\n",
    "epochCounter = 0\n",
    "rewards = {}\n",
    "rewards_greedy = {}\n",
    "rewards_test = {}"
   ]
  },
  {
   "cell_type": "code",
   "execution_count": 50,
   "metadata": {
    "collapsed": false
   },
   "outputs": [],
   "source": [
    "_gamma.set_value(np.array(0.9,dtype=floatX))"
   ]
  },
  {
   "cell_type": "code",
   "execution_count": 51,
   "metadata": {
    "collapsed": false
   },
   "outputs": [],
   "source": [
    "dec_rw_fun = theano.function([],[_action_ids,\n",
    "                                 _predicted_Qvalues[T.arange(_action_ids.shape[0]),_action_ids],\n",
    "                                 _rewards])\n",
    "\n",
    "feature_names[-1] = \"end_session_now\"\n",
    "def print_session(n_sessions = 3):\n",
    "    decisions,predicted,rewards = dec_rw_fun()\n",
    "    \n",
    "    \n",
    "    n_seqs = 0\n",
    "    seq_ctr = 0\n",
    "\n",
    "    for dec,pred,rw in zip(decisions,predicted,rewards):\n",
    "        print \"#%i: %s (%f3) -> %s |\"%(dec,feature_names[dec],pred, rw,),\n",
    "        seq_ctr +=1\n",
    "        if dec == env.end_code or seq_ctr == env.seq_len:\n",
    "            print '<end>'\n",
    "            seq_ctr = 0\n",
    "            n_seqs +=1\n",
    "            if n_seqs >= n_sessions:\n",
    "                break"
   ]
  },
  {
   "cell_type": "code",
   "execution_count": null,
   "metadata": {
    "collapsed": false
   },
   "outputs": [
    {
     "name": "stdout",
     "output_type": "stream",
     "text": [
      "epoch 0,loss 93.2486425, greed 0.1000005, rewards: ( train -26.2128295, det_train -26.2791005, test -26.2678005) \n",
      "\n",
      "deterministic\n",
      "#1: Years active (-0.0029893) -> 1.0 | #73: Writer(s) (0.0493013) -> -1.0 | #84: Production company(s) (0.1069623) -> -1.0 | #34: Released (-0.0163503) -> -1.0 | #29: Time zone (0.0710173) -> -1.0 | #11: Past members (0.0430623) -> 1.0 | #39: Country of origin (0.0273693) -> -1.0 | #106: History (0.0023253) -> -1.0 | #39: Country of origin (0.0003263) -> -5.0 | #5: Associated acts (0.0404853) -> 1.0 | #42: Spouse(s) (0.0333733) -> -1.0 | #111: DVDs (0.0693163) -> -1.0 | #48: Running time (-0.1001053) -> -1.0 | #13: Studio albums (-0.0424753) -> -1.0 | #82:  • Metro (0.0317583) -> -1.0 | #21: EPs (0.0239003) -> -1.0 | #57: Other songs (0.0024473) -> -1.0 | #103: GNIS feature ID (-0.0053393) -> -1.0 | #72: Area code(s) (-0.0169983) -> -1.0 | #83: Date format (0.0280133) -> -1.0 | #92: McCune–Reischauer (-0.0142403) -> -1.0 | #21: EPs (-0.0306193) -> -5.0 | #83: Date format (0.0182633) -> -5.0 | #96: Other names (-0.0097083) -> -1.0 | #28: [hide]\n",
      "This article has multiple issues. Please help improve it or discuss these issues on the talk page. (0.0092863) -> -1.0 | <end>\n",
      "#25: Genre (0.0575483) -> -1.0 | #42: Spouse(s) (0.0265193) -> -1.0 | #19: Compilations (0.0442803) -> -1.0 | #99: Composer(s) (0.0392343) -> -1.0 | #58: Children (0.0013143) -> -1.0 | #42: Spouse(s) (0.0036883) -> -5.0 | #26: Occupation (-0.0186373) -> -1.0 | #24: Compilation albums (0.0112793) -> -1.0 | #36: Label (0.0069133) -> -1.0 | #116: Nationality (-0.0017053) -> -1.0 | #80: Official languages (0.0039043) -> -1.0 | #10: Instruments (-0.0035273) -> 1.0 | #15: Related articles (0.1274843) -> -1.0 | #66: Internet TLD (-0.0176063) -> -1.0 | #83: Date format (0.0228943) -> -1.0 | #61: Calling code (0.0122253) -> -1.0 | #2: Labels (0.0158853) -> -1.0 | #54: Government (0.0040823) -> -1.0 | #91: Revised Romanization (0.0170943) -> -1.0 | #51: State (-0.0124603) -> -1.0 | #29: Time zone (0.0174083) -> -1.0 | #79: Location (0.0057923) -> -1.0 | #79: Location (0.0080373) -> -5.0 | #100: Songs (-0.0209113) -> -1.0 | #66: Internet TLD (-0.0097393) -> -1.0 | <end>\n",
      "#30: Derivative forms (0.0042583) -> -1.0 | #81: Founder (-0.0057823) -> -1.0 | #15: Related articles (-0.0088233) -> -1.0 | #104: Web address (0.0179813) -> -1.0 | #101: Type of site (-0.0035343) -> -1.0 | #39: Country of origin (-0.0128683) -> -1.0 | #59: Currency (-0.0196663) -> -1.0 | #2: Labels (0.0063813) -> 1.0 | #39: Country of origin (0.0535253) -> -5.0 | #24: Compilation albums (0.0785523) -> -1.0 | #56:  • Water (0.0806193) -> -1.0 | #58: Children (0.0009033) -> -1.0 | #83: Date format (0.0224173) -> -1.0 | #75: FIPS code (0.0210463) -> -1.0 | #77: Starring (0.0336993) -> -1.0 | #79: Location (0.0019733) -> -1.0 | #94: Categories (0.0108173) -> -1.0 | #18: Died (0.0035113) -> -1.0 | #80: Official languages (0.0069033) -> -1.0 | #42: Spouse(s) (-0.0009983) -> -1.0 | #19: Compilations (0.0140503) -> -1.0 | #96: Other names (-0.0079603) -> -1.0 | #43:  • Summer (DST) (-0.0194703) -> -1.0 | #88: Original language(s) (0.0210883) -> -1.0 | #58: Children (0.0053103) -> -1.0 | <end>\n",
      "\n",
      "softmax-1\n",
      "#1: Years active (-0.0029893) -> 1.0 | #72: Area code(s) (-0.0903593) -> -1.0 | #83: Date format (0.0258693) -> -1.0 | #35: Albums (-0.1329863) -> -1.0 | #30: Derivative forms (0.0238613) -> -1.0 | #10: Instruments (0.0044553) -> -1.0 | #38: Length (0.0163073) -> -1.0 | #108: Current status (-0.0170233) -> -1.0 | #39: Country of origin (-0.0218583) -> -1.0 | #5: Associated acts (0.0171793) -> 1.0 | #40: Created by (-0.0256933) -> -1.0 | #111: DVDs (0.0597813) -> -1.0 | #48: Running time (-0.0725303) -> -1.0 | #13: Studio albums (-0.0360963) -> -1.0 | #82:  • Metro (0.0279113) -> -1.0 | #21: EPs (0.0145773) -> -1.0 | #57: Other songs (0.0057953) -> -1.0 | #103: GNIS feature ID (-0.0024513) -> -1.0 | #71: No. of episodes (-0.0192223) -> -1.0 | #83: Date format (0.0204813) -> -5.0 | #91: Revised Romanization (0.0152833) -> -1.0 | #21: EPs (-0.0205903) -> -5.0 | #83: Date format (0.0133813) -> -5.0 | #96: Other names (-0.0074703) -> -1.0 | #28: [hide]\n",
      "This article has multiple issues. Please help improve it or discuss these issues on the talk page. (0.0092863) -> -1.0 | <end>\n",
      "#24: Compilation albums (0.0679073) -> -1.0 | #42: Spouse(s) (0.0265193) -> -1.0 | #18: Died (0.0122953) -> -1.0 | #99: Composer(s) (0.0392343) -> -1.0 | #58: Children (0.0013143) -> -1.0 | #42: Spouse(s) (0.0036883) -> -5.0 | #26: Occupation (-0.0186373) -> -1.0 | #24: Compilation albums (0.0112793) -> -5.0 | #37:  • Density (-0.0092143) -> -1.0 | #116: Nationality (-0.0017053) -> -1.0 | #80: Official languages (0.0039043) -> -1.0 | #10: Instruments (-0.0035273) -> 1.0 | #15: Related articles (0.1274843) -> -1.0 | #66: Internet TLD (-0.0176063) -> -1.0 | #83: Date format (0.0228943) -> -1.0 | #61: Calling code (0.0122253) -> -1.0 | #2: Labels (0.0158853) -> -1.0 | #53: Format (-0.0207263) -> -1.0 | #92: McCune–Reischauer (-0.0014703) -> -1.0 | #51: State (-0.0124603) -> -1.0 | #29: Time zone (0.0174083) -> -1.0 | #79: Location (0.0057923) -> -1.0 | #79: Location (0.0080373) -> -5.0 | #99: Composer(s) (0.1178863) -> -1.0 | #67: Elevation (-0.0184023) -> -1.0 | <end>\n",
      "#30: Derivative forms (0.0042583) -> -1.0 | #81: Founder (-0.0057823) -> -1.0 | #15: Related articles (-0.0088233) -> -1.0 | #104: Web address (0.0179813) -> -1.0 | #101: Type of site (-0.0035343) -> -1.0 | #40: Created by (0.0149143) -> -1.0 | #59: Currency (-0.0196663) -> -1.0 | #2: Labels (0.0063813) -> 1.0 | #38: Length (0.1126383) -> -1.0 | #23: Typical instruments (0.0132803) -> -1.0 | #56:  • Water (0.0806193) -> -1.0 | #57: Other songs (0.0330873) -> -1.0 | #83: Date format (0.0224173) -> -1.0 | #75: FIPS code (0.0210463) -> -1.0 | #77: Starring (0.0336993) -> -1.0 | #79: Location (0.0019733) -> -1.0 | #94: Categories (0.0108173) -> -1.0 | #18: Died (0.0035113) -> -1.0 | #80: Official languages (0.0069033) -> -1.0 | #41: Demonym (-0.0140673) -> -1.0 | #19: Compilations (0.0140503) -> -1.0 | #96: Other names (-0.0079603) -> -1.0 | #41: Demonym (-0.0848563) -> -1.0 | #88: Original language(s) (0.0210883) -> -1.0 | #58: Children (0.0053103) -> -1.0 | <end>\n",
      "\n",
      "randomized\n",
      "#1: Years active (-0.0029893) -> 1.0 | #73: Writer(s) (0.0493013) -> -1.0 | #83: Date format (0.0258693) -> -1.0 | #35: Albums (-0.1329863) -> -1.0 | #30: Derivative forms (0.0238613) -> -1.0 | #10: Instruments (0.0044553) -> -1.0 | #38: Length (0.0163073) -> -1.0 | #108: Current status (-0.0170233) -> -1.0 | #39: Country of origin (-0.0218583) -> -1.0 | #5: Associated acts (0.0171793) -> 1.0 | #40: Created by (-0.0256933) -> -1.0 | #111: DVDs (0.0597813) -> -1.0 | #48: Running time (-0.0725303) -> -1.0 | #13: Studio albums (-0.0360963) -> -1.0 | #82:  • Metro (0.0279113) -> -1.0 | #21: EPs (0.0145773) -> -1.0 | #57: Other songs (0.0057953) -> -1.0 | #103: GNIS feature ID (-0.0024513) -> -1.0 | #71: No. of episodes (-0.0192223) -> -1.0 | #83: Date format (0.0204813) -> -5.0 | #91: Revised Romanization (0.0152833) -> -1.0 | #21: EPs (-0.0205903) -> -5.0 | #83: Date format (0.0133813) -> -5.0 | #96: Other names (-0.0074703) -> -1.0 | #28: [hide]\n",
      "This article has multiple issues. Please help improve it or discuss these issues on the talk page. (0.0092863) -> -1.0 | <end>\n",
      "#24: Compilation albums (0.0679073) -> -1.0 | #42: Spouse(s) (0.0265193) -> -1.0 | #18: Died (0.0122953) -> -1.0 | #99: Composer(s) (0.0392343) -> -1.0 | #58: Children (0.0013143) -> -1.0 | #42: Spouse(s) (0.0036883) -> -5.0 | #26: Occupation (-0.0186373) -> -1.0 | #24: Compilation albums (0.0112793) -> -5.0 | #37:  • Density (-0.0092143) -> -1.0 | #116: Nationality (-0.0017053) -> -1.0 | #80: Official languages (0.0039043) -> -1.0 | #10: Instruments (-0.0035273) -> 1.0 | #15: Related articles (0.1274843) -> -1.0 | #66: Internet TLD (-0.0176063) -> -1.0 | #83: Date format (0.0228943) -> -1.0 | #61: Calling code (0.0122253) -> -1.0 | #2: Labels (0.0158853) -> -1.0 | #53: Format (-0.0207263) -> -1.0 | #92: McCune–Reischauer (-0.0014703) -> -1.0 | #51: State (-0.0124603) -> -1.0 | #29: Time zone (0.0174083) -> -1.0 | #79: Location (0.0057923) -> -1.0 | #79: Location (0.0080373) -> -5.0 | #99: Composer(s) (0.1178863) -> -1.0 | #67: Elevation (-0.0184023) -> -1.0 | <end>\n",
      "#30: Derivative forms (0.0042583) -> -1.0 | #81: Founder (-0.0057823) -> -1.0 | #15: Related articles (-0.0088233) -> -1.0 | #104: Web address (0.0179813) -> -1.0 | #101: Type of site (-0.0035343) -> -1.0 | #39: Country of origin (-0.0128683) -> -1.0 | #59: Currency (-0.0196663) -> -1.0 | #2: Labels (0.0063813) -> 1.0 | #38: Length (0.1126383) -> -1.0 | #23: Typical instruments (0.0132803) -> -1.0 | #56:  • Water (0.0806193) -> -1.0 | #57: Other songs (0.0330873) -> -1.0 | #83: Date format (0.0224173) -> -1.0 | #75: FIPS code (0.0210463) -> -1.0 | #77: Starring (0.0336993) -> -1.0 | #79: Location (0.0019733) -> -1.0 | #94: Categories (0.0108173) -> -1.0 | #18: Died (0.0035113) -> -1.0 | #80: Official languages (0.0069033) -> -1.0 | #41: Demonym (-0.0140673) -> -1.0 | #19: Compilations (0.0140503) -> -1.0 | #96: Other names (-0.0079603) -> -1.0 | #41: Demonym (-0.0848563) -> -1.0 | #88: Original language(s) (0.0210883) -> -1.0 | #58: Children (0.0053103) -> -1.0 | <end>\n"
     ]
    },
    {
     "data": {
      "image/png": "[encoded data removed]",
      "text/plain": [
       "<matplotlib.figure.Figure at 0x7f54ca583810>"
      ]
     },
     "metadata": {},
     "output_type": "display_data"
    }
   ],
   "source": [
    "for i in range(1000000):\n",
    "    \n",
    "        \n",
    "    env.prepare_sessions()\n",
    "    reward,loss = train_fun()\n",
    "    \n",
    "    ma_reward = alpha*reward + (1-alpha)*ma_reward\n",
    "    \n",
    "    if epochCounter%100 ==0:\n",
    "        print \"epoch %i,loss %f5, greed %f5, rewards: ( train %f5, det_train %f5, test %f5) \"%(\n",
    "            epochCounter,loss, env._greediness.get_value(),ma_reward,ma_reward_greedy, ma_reward_test)\n",
    "        rewards[epochCounter] = ma_reward\n",
    "        \n",
    "        \n",
    "        #greedy train\n",
    "        env._greediness.set_value(np.array(10,dtype=floatX))\n",
    "        \n",
    "        ma_reward_greedy = (1-alpha_greedy)*ma_reward_greedy + alpha_greedy*eval_fun()\n",
    "        rewards_greedy[epochCounter] = ma_reward_greedy\n",
    "        \n",
    "        \n",
    "        env.prepare_sessions(test=True)\n",
    "        ma_reward_test = (1-alpha_greedy)*ma_reward_test + alpha_greedy*eval_fun()\n",
    "        rewards_test[epochCounter] = ma_reward_test\n",
    "        \n",
    "        \n",
    "        env._greediness.set_value(np.array(min(0.1+np.log(float(epochCounter/10000.)+1),5.),dtype=floatX))\n",
    "\n",
    "        \n",
    "        \n",
    "        \n",
    "    if epochCounter%1000 ==0:\n",
    "        print '\\ndeterministic'\n",
    "        env._greediness.set_value(np.array(5.,dtype=floatX))\n",
    "        print_session()\n",
    "        \n",
    "        print '\\nsoftmax-1'\n",
    "        env._greediness.set_value(np.array(1.,dtype=floatX))\n",
    "        print_session()\n",
    "        \n",
    "        print '\\nrandomized'\n",
    "        env._greediness.set_value(np.array(min(1.1+np.log(float(epochCounter/10000.)+1),5.),dtype=floatX))\n",
    "        print_session()\n",
    "\n",
    "        \n",
    "        plt.figure(figsize=[10,10])\n",
    "        \n",
    "        \n",
    "        plt.plot(*zip(*sorted(rewards.items())),label=\"train(randomized)\")\n",
    "        plt.plot(*zip(*sorted(rewards_greedy.items())),label=\"train(greedy)\")\n",
    "        plt.plot(*zip(*sorted(rewards_test.items())),label=\"test(greedy)\")\n",
    "\n",
    "        plt.title('rewards moving average')\n",
    "        plt.grid()\n",
    "        plt.legend(loc='lower right')\n",
    "        plt.show()\n",
    "    epochCounter  +=1\n"
   ]
  },
  {
   "cell_type": "code",
   "execution_count": null,
   "metadata": {
    "collapsed": true
   },
   "outputs": [],
   "source": [
    "#ещё опции -\n",
    "#- форс \"предсказывать 0 в конце\", чтобы быстрее к этому прийди и не выравнивать остальные коэффициенты"
   ]
  },
  {
   "cell_type": "code",
   "execution_count": null,
   "metadata": {
    "collapsed": true
   },
   "outputs": [],
   "source": []
  },
  {
   "cell_type": "code",
   "execution_count": 238,
   "metadata": {
    "collapsed": false
   },
   "outputs": [
    {
     "name": "stdout",
     "output_type": "stream",
     "text": [
      "The output file is available at graph_prediction.png\n"
     ]
    }
   ],
   "source": [
    "theano.printing.pydotprint(_prediction,'graph_prediction.png')"
   ]
  },
  {
   "cell_type": "code",
   "execution_count": 148,
   "metadata": {
    "collapsed": false
   },
   "outputs": [
    {
     "name": "stdout",
     "output_type": "stream",
     "text": [
      "Warning: /tmp/tmptHzhms: syntax error in line 344 near '='\n",
      "\n"
     ]
    },
    {
     "ename": "TypeError",
     "evalue": "must be string or buffer, not list",
     "output_type": "error",
     "traceback": [
      "\u001b[1;31m---------------------------------------------------------------------------\u001b[0m",
      "\u001b[1;31mTypeError\u001b[0m                                 Traceback (most recent call last)",
      "\u001b[1;32m<ipython-input-148-094641fc7e9b>\u001b[0m in \u001b[0;36m<module>\u001b[1;34m()\u001b[0m\n\u001b[1;32m----> 1\u001b[1;33m \u001b[0mtheano\u001b[0m\u001b[1;33m.\u001b[0m\u001b[0mprinting\u001b[0m\u001b[1;33m.\u001b[0m\u001b[0mpydotprint\u001b[0m\u001b[1;33m(\u001b[0m\u001b[0m_loss\u001b[0m\u001b[1;33m,\u001b[0m\u001b[1;34m'graph_loss.png'\u001b[0m\u001b[1;33m)\u001b[0m\u001b[1;33m\u001b[0m\u001b[0m\n\u001b[0m",
      "\u001b[1;32m/usr/local/lib/python2.7/dist-packages/theano/printing.pyc\u001b[0m in \u001b[0;36mpydotprint\u001b[1;34m(fct, outfile, compact, format, with_ids, high_contrast, cond_highlight, colorCodes, max_label_size, scan_graphs, var_with_name_simple, print_output_file, return_image)\u001b[0m\n\u001b[0;32m   1025\u001b[0m     \u001b[1;32melse\u001b[0m\u001b[1;33m:\u001b[0m\u001b[1;33m\u001b[0m\u001b[0m\n\u001b[0;32m   1026\u001b[0m         \u001b[1;32mtry\u001b[0m\u001b[1;33m:\u001b[0m\u001b[1;33m\u001b[0m\u001b[0m\n\u001b[1;32m-> 1027\u001b[1;33m             \u001b[0mg\u001b[0m\u001b[1;33m.\u001b[0m\u001b[0mwrite\u001b[0m\u001b[1;33m(\u001b[0m\u001b[0moutfile\u001b[0m\u001b[1;33m,\u001b[0m \u001b[0mprog\u001b[0m\u001b[1;33m=\u001b[0m\u001b[1;34m'dot'\u001b[0m\u001b[1;33m,\u001b[0m \u001b[0mformat\u001b[0m\u001b[1;33m=\u001b[0m\u001b[0mformat\u001b[0m\u001b[1;33m)\u001b[0m\u001b[1;33m\u001b[0m\u001b[0m\n\u001b[0m\u001b[0;32m   1028\u001b[0m         \u001b[1;32mexcept\u001b[0m \u001b[0mpd\u001b[0m\u001b[1;33m.\u001b[0m\u001b[0mInvocationException\u001b[0m\u001b[1;33m:\u001b[0m\u001b[1;33m\u001b[0m\u001b[0m\n\u001b[0;32m   1029\u001b[0m             \u001b[1;31m# based on https://github.com/Theano/Theano/issues/2988\u001b[0m\u001b[1;33m\u001b[0m\u001b[1;33m\u001b[0m\u001b[0m\n",
      "\u001b[1;32m/usr/local/lib/python2.7/dist-packages/pydot.pyc\u001b[0m in \u001b[0;36mwrite\u001b[1;34m(self, path, prog, format)\u001b[0m\n\u001b[0;32m   1694\u001b[0m             \u001b[0mdot_fd\u001b[0m\u001b[1;33m.\u001b[0m\u001b[0mwrite\u001b[0m\u001b[1;33m(\u001b[0m\u001b[0mself\u001b[0m\u001b[1;33m.\u001b[0m\u001b[0mto_string\u001b[0m\u001b[1;33m(\u001b[0m\u001b[1;33m)\u001b[0m\u001b[1;33m)\u001b[0m\u001b[1;33m\u001b[0m\u001b[0m\n\u001b[0;32m   1695\u001b[0m         \u001b[1;32melse\u001b[0m\u001b[1;33m:\u001b[0m\u001b[1;33m\u001b[0m\u001b[0m\n\u001b[1;32m-> 1696\u001b[1;33m             \u001b[0mdot_fd\u001b[0m\u001b[1;33m.\u001b[0m\u001b[0mwrite\u001b[0m\u001b[1;33m(\u001b[0m\u001b[0mself\u001b[0m\u001b[1;33m.\u001b[0m\u001b[0mcreate\u001b[0m\u001b[1;33m(\u001b[0m\u001b[0mprog\u001b[0m\u001b[1;33m,\u001b[0m \u001b[0mformat\u001b[0m\u001b[1;33m)\u001b[0m\u001b[1;33m)\u001b[0m\u001b[1;33m\u001b[0m\u001b[0m\n\u001b[0m\u001b[0;32m   1697\u001b[0m         \u001b[0mdot_fd\u001b[0m\u001b[1;33m.\u001b[0m\u001b[0mclose\u001b[0m\u001b[1;33m(\u001b[0m\u001b[1;33m)\u001b[0m\u001b[1;33m\u001b[0m\u001b[0m\n\u001b[0;32m   1698\u001b[0m \u001b[1;33m\u001b[0m\u001b[0m\n",
      "\u001b[1;31mTypeError\u001b[0m: must be string or buffer, not list"
     ]
    }
   ],
   "source": [
    "theano.printing.pydotprint(_loss,'graph_loss.png')"
   ]
  },
  {
   "cell_type": "code",
   "execution_count": 124,
   "metadata": {
    "collapsed": false,
    "scrolled": false
   },
   "outputs": [
    {
     "data": {
      "text/plain": [
       "[mdp_gru.W_in_to_updategate,\n",
       " mdp_gru.W_hid_to_updategate,\n",
       " mdp_gru.b_updategate,\n",
       " mdp_gru.W_in_to_resetgate,\n",
       " mdp_gru.W_hid_to_resetgate,\n",
       " mdp_gru.b_resetgate,\n",
       " mdp_gru.W_in_to_hidden_update,\n",
       " mdp_gru.W_hid_to_hidden_update,\n",
       " mdp_gru.b_hidden_update]"
      ]
     },
     "execution_count": 124,
     "metadata": {},
     "output_type": "execute_result"
    }
   ],
   "source": [
    "_nn_params = lasagne.layers.get_all_params(_rnn)\n",
    "_nn_params"
   ]
  },
  {
   "cell_type": "code",
   "execution_count": null,
   "metadata": {
    "collapsed": true
   },
   "outputs": [],
   "source": []
  }
 ],
 "metadata": {
  "kernelspec": {
   "display_name": "Python 2",
   "language": "python",
   "name": "python2"
  },
  "language_info": {
   "codemirror_mode": {
    "name": "ipython",
    "version": 2
   },
   "file_extension": ".py",
   "mimetype": "text/x-python",
   "name": "python",
   "nbconvert_exporter": "python",
   "pygments_lexer": "ipython2",
   "version": "2.7.6"
  }
 },
 "nbformat": 4,
 "nbformat_minor": 0
}
