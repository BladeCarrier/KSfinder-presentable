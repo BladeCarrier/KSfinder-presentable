{
 "cells": [
  {
   "cell_type": "code",
   "execution_count": 3,
   "metadata": {
    "collapsed": false
   },
   "outputs": [],
   "source": [
    "import numpy as np\n",
    "\n",
    "from matplotlib import pyplot as plt\n",
    "%matplotlib inline\n",
    "\n"
   ]
  },
  {
   "cell_type": "markdown",
   "metadata": {},
   "source": [
    "# retinas"
   ]
  },
  {
   "cell_type": "code",
   "execution_count": 4,
   "metadata": {
    "collapsed": false
   },
   "outputs": [],
   "source": [
    "from retina.retina_theanized import Retina"
   ]
  },
  {
   "cell_type": "code",
   "execution_count": 5,
   "metadata": {
    "collapsed": false
   },
   "outputs": [],
   "source": [
    "import random\n",
    "def spawn_retina(param_dict = None):\n",
    "    \n",
    "    if param_dict is None:\n",
    "    \n",
    "        x0 = np.random.normal(0,1000)\n",
    "        y0 = np.random.normal(0,1000)\n",
    "        z0 = np.random.uniform(-100,15000)\n",
    "\n",
    "        z_c = np.random.uniform(z0-3000,z0+3000)\n",
    "        alpha = np.arctan(-x0/(z_c-z0)) + np.random.normal(0,0.1)\n",
    "        beta = np.arctan(-y0/(z_c-z0)) + np.random.normal(0,0.1)\n",
    "\n",
    "        xdim=ydim=32\n",
    "        \n",
    "        \n",
    "        dangle = np.pi/random.choice([3,3,3,6])\n",
    "        dalpha = dangle\n",
    "        dbeta = dangle\n",
    "        \n",
    "        alphas = np.linspace(-dalpha+alpha, alpha+dalpha,num=xdim)\n",
    "        bethas = np.linspace(-dbeta+beta, beta+dbeta,num=ydim)\n",
    "\n",
    "        variance = random.choice([50,100,250,500])\n",
    "        \n",
    "        param_names = \"x0,y0,z0,alpha,beta,variance,xdim,ydim,dalpha,dbeta\".split(',')\n",
    "\n",
    "        params = map(str,[x0,y0,z0,alpha,beta,variance,\n",
    "                                xdim,ydim,dalpha,dbeta])\n",
    "        param_dict = dict(zip(param_names,params))\n",
    "    else:\n",
    "        param_names = \"x0,y0,z0,alpha,beta,variance,xdim,ydim,dalpha,dbeta\".split(',')\n",
    "\n",
    "        x0,y0,z0,alpha,beta,variance,xdim,ydim,dalpha,dbeta = map(param_dict.get,param_names)\n",
    "        \n",
    "\n",
    "    \n",
    "    retina = Retina(np.array([x0,y0,z0]),alphas,bethas,variance=variance)\n",
    "    \n",
    "    \n",
    "    return retina,param_dict\n"
   ]
  },
  {
   "cell_type": "code",
   "execution_count": 107,
   "metadata": {
    "collapsed": false
   },
   "outputs": [],
   "source": [
    "retinas,param_dicts = map(list,zip(*[spawn_retina() for i in range(10)]))"
   ]
  },
  {
   "cell_type": "code",
   "execution_count": 6,
   "metadata": {
    "collapsed": true
   },
   "outputs": [],
   "source": [
    "#retina testing\n",
    "\n",
    "def test(retina,n=8):\n",
    "    from retinize import retinize_folder\n",
    "    imgs= retinize_folder(\"/mnt/KSfinder/mc_sig_hits/\", retina, out_file=None, max_rows=n ,n_shards=n)\n",
    "\n",
    "    for i in range(len(imgs)):\n",
    "        from matplotlib import pyplot as plt\n",
    "        %matplotlib inline\n",
    "        plt.imshow(imgs[i].reshape(32,32))\n",
    "        plt.show()"
   ]
  },
  {
   "cell_type": "code",
   "execution_count": 122,
   "metadata": {
    "collapsed": false
   },
   "outputs": [],
   "source": [
    "del retinas[i]\n",
    "del param_dicts[i]"
   ]
  },
  {
   "cell_type": "code",
   "execution_count": 123,
   "metadata": {
    "collapsed": false,
    "scrolled": true
   },
   "outputs": [
    {
     "ename": "IndexError",
     "evalue": "list index out of range",
     "output_type": "error",
     "traceback": [
      "\u001b[1;31m---------------------------------------------------------------------------\u001b[0m",
      "\u001b[1;31mIndexError\u001b[0m                                Traceback (most recent call last)",
      "\u001b[1;32m<ipython-input-123-84d37a3499fe>\u001b[0m in \u001b[0;36m<module>\u001b[1;34m()\u001b[0m\n\u001b[0;32m      1\u001b[0m \u001b[0mi\u001b[0m \u001b[1;33m=\u001b[0m \u001b[1;36m5\u001b[0m\u001b[1;33m\u001b[0m\u001b[0m\n\u001b[1;32m----> 2\u001b[1;33m \u001b[1;32mprint\u001b[0m \u001b[0mparam_dicts\u001b[0m\u001b[1;33m[\u001b[0m\u001b[0mi\u001b[0m\u001b[1;33m]\u001b[0m\u001b[1;33m\u001b[0m\u001b[0m\n\u001b[0m\u001b[0;32m      3\u001b[0m \u001b[0mtest\u001b[0m\u001b[1;33m(\u001b[0m\u001b[0mretinas\u001b[0m\u001b[1;33m[\u001b[0m\u001b[0mi\u001b[0m\u001b[1;33m]\u001b[0m\u001b[1;33m)\u001b[0m\u001b[1;33m\u001b[0m\u001b[0m\n",
      "\u001b[1;31mIndexError\u001b[0m: list index out of range"
     ]
    }
   ],
   "source": [
    "i = 5\n",
    "print param_dicts[i]\n",
    "test(retinas[i])"
   ]
  },
  {
   "cell_type": "code",
   "execution_count": 124,
   "metadata": {
    "collapsed": false
   },
   "outputs": [
    {
     "name": "stdout",
     "output_type": "stream",
     "text": [
      "5 31\n"
     ]
    }
   ],
   "source": [
    "approved_retinas += retinas\n",
    "approved_pdicts += param_dicts\n",
    "print len(retinas),len(approved_retinas)"
   ]
  },
  {
   "cell_type": "code",
   "execution_count": 45,
   "metadata": {
    "collapsed": true
   },
   "outputs": [],
   "source": [
    "approved_retinas = []\n",
    "approved_pdicts = []"
   ]
  },
  {
   "cell_type": "code",
   "execution_count": 129,
   "metadata": {
    "collapsed": true
   },
   "outputs": [],
   "source": [
    "# retina that sits after VELO\n",
    "ks = np.zeros(3)\n",
    "ks[2]+=2000\n",
    "xdim = ydim = 32\n",
    "dalpha = np.pi/8\n",
    "dbeta = np.pi/8\n",
    "alpha = 0\n",
    "beta = 0\n",
    "alphas = np.linspace(-dalpha+alpha, alpha+dalpha,num=xdim)\n",
    "bethas = np.linspace(-dbeta+beta, beta+dbeta,num=ydim)\n",
    "sigma = 50\n",
    "#ks = KS[evtids_ks[i]][2]\n",
    "\n",
    "retina_afterVelo = Retina(ks,alphas,bethas,variance=sigma)"
   ]
  },
  {
   "cell_type": "code",
   "execution_count": 131,
   "metadata": {
    "collapsed": false
   },
   "outputs": [],
   "source": [
    "param_names = \"x0,y0,z0,alpha,beta,variance,xdim,ydim,dalpha,dbeta\".split(',')\n",
    "x0,y0,z0 = ks\n",
    "params = map(str,[x0,y0,z0,alpha,beta,sigma,\n",
    "                                xdim,ydim,dalpha,dbeta])\n",
    "param_dict = dict(zip(param_names,params))"
   ]
  },
  {
   "cell_type": "code",
   "execution_count": 132,
   "metadata": {
    "collapsed": true
   },
   "outputs": [],
   "source": [
    "approved_retinas.append(retina_afterVelo)\n",
    "approved_pdicts.append(param_dict)"
   ]
  },
  {
   "cell_type": "code",
   "execution_count": null,
   "metadata": {
    "collapsed": true
   },
   "outputs": [],
   "source": []
  },
  {
   "cell_type": "code",
   "execution_count": 136,
   "metadata": {
    "collapsed": true
   },
   "outputs": [],
   "source": [
    "for i in range(len(approved_retinas)):\n",
    "    approved_retinas[i].param_dict = approved_pdicts[i]\n",
    "\n",
    "retinas = {\n",
    "    \"retina\"+str(i):approved_retinas[i]\n",
    "    for i in range(len(approved_retinas))\n",
    "}"
   ]
  },
  {
   "cell_type": "markdown",
   "metadata": {},
   "source": [
    "# prepare metadata"
   ]
  },
  {
   "cell_type": "code",
   "execution_count": 7,
   "metadata": {
    "collapsed": false
   },
   "outputs": [
    {
     "name": "stdout",
     "output_type": "stream",
     "text": [
      "mkdir: cannot create directory '/mnt/KSfinder/finder/retinas_randomized': File exists\r\n"
     ]
    }
   ],
   "source": [
    "sig_folder = \"/mnt/KSfinder/mc_sig_hits/\"\n",
    "output_folder = \"/mnt/KSfinder/finder/retinas_randomized\"\n",
    "!mkdir /mnt/KSfinder/finder/retinas_randomized"
   ]
  },
  {
   "cell_type": "markdown",
   "metadata": {},
   "source": [
    "### save retinas themselves"
   ]
  },
  {
   "cell_type": "code",
   "execution_count": 8,
   "metadata": {
    "collapsed": false
   },
   "outputs": [
    {
     "data": {
      "text/plain": [
       "[('retina30', <retina.retina_theanized.Retina instance at 0x7f1208be4488>),\n",
       " ('retina31', <retina.retina_theanized.Retina instance at 0x7f120a175cb0>),\n",
       " ('retina0', <retina.retina_theanized.Retina instance at 0x7f1209eb6680>),\n",
       " ('retina1', <retina.retina_theanized.Retina instance at 0x7f12080db7e8>),\n",
       " ('retina2', <retina.retina_theanized.Retina instance at 0x7f1207b56998>)]"
      ]
     },
     "execution_count": 8,
     "metadata": {},
     "output_type": "execute_result"
    }
   ],
   "source": [
    "import pickle\n",
    "import os\n",
    "read = True\n",
    "if read:\n",
    "    retina_names = map(lambda name: name[:-4],\n",
    "                       filter(lambda s:s.startswith(\"retina\"),os.listdir(output_folder)))\n",
    "\n",
    "    retinas = {\n",
    "        retina_name: pickle.load(\n",
    "            open(\n",
    "                os.path.join(\n",
    "                    output_folder,\n",
    "                    retina_name+\".pcl\"\n",
    "                )\n",
    "            )\n",
    "        )\n",
    "        for retina_name in retina_names\n",
    "    }\n",
    "retinas.items()[:5]"
   ]
  },
  {
   "cell_type": "markdown",
   "metadata": {},
   "source": [
    "### retinize hits, save both hits and names"
   ]
  },
  {
   "cell_type": "code",
   "execution_count": 9,
   "metadata": {
    "collapsed": false
   },
   "outputs": [
    {
     "name": "stdout",
     "output_type": "stream",
     "text": [
      "saved retina30 to /mnt/KSfinder/finder/retinas_randomized/retina30.pcl\n",
      "saved retina31 to /mnt/KSfinder/finder/retinas_randomized/retina31.pcl\n",
      "saved retina0 to /mnt/KSfinder/finder/retinas_randomized/retina0.pcl\n",
      "saved retina1 to /mnt/KSfinder/finder/retinas_randomized/retina1.pcl\n",
      "saved retina2 to /mnt/KSfinder/finder/retinas_randomized/retina2.pcl\n",
      "saved retina3 to /mnt/KSfinder/finder/retinas_randomized/retina3.pcl\n",
      "saved retina4 to /mnt/KSfinder/finder/retinas_randomized/retina4.pcl\n",
      "saved retina5 to /mnt/KSfinder/finder/retinas_randomized/retina5.pcl\n",
      "saved retina6 to /mnt/KSfinder/finder/retinas_randomized/retina6.pcl\n",
      "saved retina7 to /mnt/KSfinder/finder/retinas_randomized/retina7.pcl\n",
      "saved retina8 to /mnt/KSfinder/finder/retinas_randomized/retina8.pcl\n",
      "saved retina9 to /mnt/KSfinder/finder/retinas_randomized/retina9.pcl\n",
      "saved retina27 to /mnt/KSfinder/finder/retinas_randomized/retina27.pcl\n",
      "saved retina26 to /mnt/KSfinder/finder/retinas_randomized/retina26.pcl\n",
      "saved retina25 to /mnt/KSfinder/finder/retinas_randomized/retina25.pcl\n",
      "saved retina24 to /mnt/KSfinder/finder/retinas_randomized/retina24.pcl\n",
      "saved retina23 to /mnt/KSfinder/finder/retinas_randomized/retina23.pcl\n",
      "saved retina22 to /mnt/KSfinder/finder/retinas_randomized/retina22.pcl\n",
      "saved retina21 to /mnt/KSfinder/finder/retinas_randomized/retina21.pcl\n",
      "saved retina20 to /mnt/KSfinder/finder/retinas_randomized/retina20.pcl\n",
      "saved retina29 to /mnt/KSfinder/finder/retinas_randomized/retina29.pcl\n",
      "saved retina28 to /mnt/KSfinder/finder/retinas_randomized/retina28.pcl\n",
      "saved retina18 to /mnt/KSfinder/finder/retinas_randomized/retina18.pcl\n",
      "saved retina19 to /mnt/KSfinder/finder/retinas_randomized/retina19.pcl\n",
      "saved retina12 to /mnt/KSfinder/finder/retinas_randomized/retina12.pcl\n",
      "saved retina13 to /mnt/KSfinder/finder/retinas_randomized/retina13.pcl\n",
      "saved retina10 to /mnt/KSfinder/finder/retinas_randomized/retina10.pcl\n",
      "saved retina11 to /mnt/KSfinder/finder/retinas_randomized/retina11.pcl\n",
      "saved retina16 to /mnt/KSfinder/finder/retinas_randomized/retina16.pcl\n",
      "saved retina17 to /mnt/KSfinder/finder/retinas_randomized/retina17.pcl\n",
      "saved retina14 to /mnt/KSfinder/finder/retinas_randomized/retina14.pcl\n",
      "saved retina15 to /mnt/KSfinder/finder/retinas_randomized/retina15.pcl\n"
     ]
    }
   ],
   "source": [
    "import time\n",
    "import pickle\n",
    "import os\n",
    "for retina_name, retina in retinas.items():\n",
    "    \n",
    "    fpath = os.path.join(output_folder,retina_name+'.pcl')\n",
    "    with open(fpath,'w')as fout:\n",
    "        pickle.dump(retina,fout)\n",
    "        print \"saved\",retina_name, 'to',fpath\n"
   ]
  },
  {
   "cell_type": "code",
   "execution_count": null,
   "metadata": {
    "collapsed": true
   },
   "outputs": [],
   "source": [
    "import time\n",
    "for i in range(480):#to prevent unstoppable sleep\n",
    "    time.sleep(60)"
   ]
  },
  {
   "cell_type": "code",
   "execution_count": null,
   "metadata": {
    "collapsed": false,
    "scrolled": true
   },
   "outputs": [
    {
     "name": "stdout",
     "output_type": "stream",
     "text": [
      "It's Sat Jan  9 23:16:50 2016 , sir.\n",
      "processing retina30\n",
      "applying retina...\n",
      "done\n",
      "saving...\n",
      "images saved at /mnt/KSfinder/finder/retinas_randomized/images_from_retina30.npy\n",
      "names saved at /mnt/KSfinder/finder/retinas_randomized/image_event_names_from_retina30.pcl\n",
      "done\n",
      "It's Sun Jan 10 00:04:00 2016 , sir.\n",
      "processing retina31\n",
      "applying retina...\n",
      "done\n",
      "saving...\n",
      "images saved at /mnt/KSfinder/finder/retinas_randomized/images_from_retina31.npy\n",
      "names saved at /mnt/KSfinder/finder/retinas_randomized/image_event_names_from_retina31.pcl\n",
      "done\n",
      "It's Sun Jan 10 00:51:27 2016 , sir.\n",
      "processing retina0\n",
      "applying retina...\n",
      "done\n",
      "saving...\n",
      "images saved at /mnt/KSfinder/finder/retinas_randomized/images_from_retina0.npy\n",
      "names saved at /mnt/KSfinder/finder/retinas_randomized/image_event_names_from_retina0.pcl\n",
      "done\n",
      "It's Sun Jan 10 01:31:17 2016 , sir.\n",
      "processing retina1\n",
      "applying retina...\n",
      "done\n",
      "saving...\n",
      "images saved at /mnt/KSfinder/finder/retinas_randomized/images_from_retina1.npy\n",
      "names saved at /mnt/KSfinder/finder/retinas_randomized/image_event_names_from_retina1.pcl\n",
      "done\n",
      "It's Sun Jan 10 01:55:42 2016 , sir.\n",
      "processing retina2\n",
      "applying retina...\n",
      "done\n",
      "saving...\n",
      "images saved at /mnt/KSfinder/finder/retinas_randomized/images_from_retina2.npy\n",
      "names saved at /mnt/KSfinder/finder/retinas_randomized/image_event_names_from_retina2.pcl\n",
      "done\n",
      "It's Sun Jan 10 02:41:43 2016 , sir.\n",
      "processing retina3\n",
      "applying retina...\n",
      "done\n",
      "saving...\n",
      "images saved at /mnt/KSfinder/finder/retinas_randomized/images_from_retina3.npy\n",
      "names saved at /mnt/KSfinder/finder/retinas_randomized/image_event_names_from_retina3.pcl\n",
      "done\n",
      "It's Sun Jan 10 03:28:45 2016 , sir.\n",
      "processing retina4\n",
      "applying retina...\n",
      "done\n",
      "saving...\n",
      "images saved at /mnt/KSfinder/finder/retinas_randomized/images_from_retina4.npy\n",
      "names saved at /mnt/KSfinder/finder/retinas_randomized/image_event_names_from_retina4.pcl\n",
      "done\n",
      "It's Sun Jan 10 04:15:41 2016 , sir.\n",
      "processing retina5\n",
      "applying retina...\n",
      "done\n",
      "saving...\n",
      "images saved at /mnt/KSfinder/finder/retinas_randomized/images_from_retina5.npy\n",
      "names saved at /mnt/KSfinder/finder/retinas_randomized/image_event_names_from_retina5.pcl\n",
      "done\n",
      "It's Sun Jan 10 05:02:30 2016 , sir.\n",
      "processing retina6\n",
      "applying retina...\n",
      "done\n",
      "saving...\n",
      "images saved at /mnt/KSfinder/finder/retinas_randomized/images_from_retina6.npy\n",
      "names saved at /mnt/KSfinder/finder/retinas_randomized/image_event_names_from_retina6.pcl\n",
      "done\n",
      "It's Sun Jan 10 05:49:21 2016 , sir.\n",
      "processing retina7\n",
      "applying retina...\n",
      "done\n",
      "saving...\n",
      "images saved at /mnt/KSfinder/finder/retinas_randomized/images_from_retina7.npy\n",
      "names saved at /mnt/KSfinder/finder/retinas_randomized/image_event_names_from_retina7.pcl\n",
      "done\n",
      "It's Sun Jan 10 06:34:30 2016 , sir.\n",
      "processing retina8\n",
      "applying retina...\n",
      "done\n",
      "saving...\n",
      "images saved at /mnt/KSfinder/finder/retinas_randomized/images_from_retina8.npy\n",
      "names saved at /mnt/KSfinder/finder/retinas_randomized/image_event_names_from_retina8.pcl\n",
      "done\n",
      "It's Sun Jan 10 07:20:44 2016 , sir.\n",
      "processing retina9\n",
      "applying retina...\n",
      "done\n",
      "saving...\n",
      "images saved at /mnt/KSfinder/finder/retinas_randomized/images_from_retina9.npy\n",
      "names saved at /mnt/KSfinder/finder/retinas_randomized/image_event_names_from_retina9.pcl\n",
      "done\n",
      "It's Sun Jan 10 08:07:45 2016 , sir.\n",
      "processing retina27\n",
      "applying retina...\n",
      "done\n",
      "saving...\n",
      "images saved at /mnt/KSfinder/finder/retinas_randomized/images_from_retina27.npy\n",
      "names saved at /mnt/KSfinder/finder/retinas_randomized/image_event_names_from_retina27.pcl\n",
      "done\n",
      "It's Sun Jan 10 08:54:38 2016 , sir.\n",
      "processing retina26\n",
      "applying retina...\n",
      "done\n",
      "saving...\n",
      "images saved at /mnt/KSfinder/finder/retinas_randomized/images_from_retina26.npy\n",
      "names saved at /mnt/KSfinder/finder/retinas_randomized/image_event_names_from_retina26.pcl\n",
      "done\n",
      "It's Sun Jan 10 09:41:08 2016 , sir.\n",
      "processing retina25\n",
      "applying retina...\n",
      "done\n",
      "saving...\n",
      "images saved at /mnt/KSfinder/finder/retinas_randomized/images_from_retina25.npy\n",
      "names saved at /mnt/KSfinder/finder/retinas_randomized/image_event_names_from_retina25.pcl\n",
      "done\n",
      "It's Sun Jan 10 10:28:16 2016 , sir.\n",
      "processing retina24\n",
      "applying retina...\n",
      "done\n",
      "saving...\n",
      "images saved at /mnt/KSfinder/finder/retinas_randomized/images_from_retina24.npy\n",
      "names saved at /mnt/KSfinder/finder/retinas_randomized/image_event_names_from_retina24.pcl\n",
      "done\n",
      "It's Sun Jan 10 11:14:30 2016 , sir.\n",
      "processing retina23\n",
      "applying retina...\n",
      "done\n",
      "saving...\n",
      "images saved at /mnt/KSfinder/finder/retinas_randomized/images_from_retina23.npy\n",
      "names saved at /mnt/KSfinder/finder/retinas_randomized/image_event_names_from_retina23.pcl\n",
      "done\n",
      "It's Sun Jan 10 11:59:32 2016 , sir.\n",
      "processing retina22\n",
      "applying retina...\n",
      "done\n",
      "saving...\n",
      "images saved at /mnt/KSfinder/finder/retinas_randomized/images_from_retina22.npy\n",
      "names saved at /mnt/KSfinder/finder/retinas_randomized/image_event_names_from_retina22.pcl\n",
      "done\n",
      "It's Sun Jan 10 12:44:59 2016 , sir.\n",
      "processing retina21\n",
      "applying retina...\n",
      "done\n",
      "saving...\n",
      "images saved at /mnt/KSfinder/finder/retinas_randomized/images_from_retina21.npy\n",
      "names saved at /mnt/KSfinder/finder/retinas_randomized/image_event_names_from_retina21.pcl\n",
      "done\n",
      "It's Sun Jan 10 13:31:11 2016 , sir.\n",
      "processing retina20\n",
      "applying retina...\n",
      "done\n",
      "saving...\n",
      "images saved at /mnt/KSfinder/finder/retinas_randomized/images_from_retina20.npy\n",
      "names saved at /mnt/KSfinder/finder/retinas_randomized/image_event_names_from_retina20.pcl\n",
      "done\n",
      "It's Sun Jan 10 14:17:03 2016 , sir.\n",
      "processing retina29\n",
      "applying retina...\n",
      "done\n",
      "saving...\n",
      "images saved at /mnt/KSfinder/finder/retinas_randomized/images_from_retina29.npy\n",
      "names saved at /mnt/KSfinder/finder/retinas_randomized/image_event_names_from_retina29.pcl\n",
      "done\n",
      "It's Sun Jan 10 15:02:49 2016 , sir.\n",
      "processing retina28\n",
      "applying retina...\n"
     ]
    }
   ],
   "source": [
    "from retinize import retinize_folder\n",
    "\n",
    "for retina_name, retina in retinas.items():\n",
    "    \n",
    "    print \"It's\",time.ctime(),\", sir.\"\n",
    "\n",
    "    print \"processing\", retina_name\n",
    "    \n",
    "    names,images = retinize_folder(sig_folder,retina,\n",
    "                              max_rows = float('inf'),\n",
    "                             out_file = None,\n",
    "                             return_names = True,)\n",
    "    #save representations\n",
    "    print \"saving...\"\n",
    "    img_fpath = os.path.join(output_folder,\"images_from_\"+retina_name+'.npy')\n",
    "    np.save(img_fpath,images)\n",
    "    print 'images saved at',img_fpath\n",
    "    \n",
    "    name_fpath = os.path.join(output_folder,\"image_event_names_from_\"+retina_name+'.pcl')\n",
    "    with open(name_fpath,'w') as fout:\n",
    "        pickle.dump(names,fout)\n",
    "    print 'names saved at',name_fpath\n",
    "    print \"done\"\n",
    "                              \n",
    "    "
   ]
  },
  {
   "cell_type": "code",
   "execution_count": null,
   "metadata": {
    "collapsed": false
   },
   "outputs": [],
   "source": [
    "#assemble them into a single dataset\n",
    "name_sequences = []\n",
    "image_sequences = []\n",
    "for retina_name, retina in retinas.items():\n",
    "    \n",
    "    print \"loading\", retina_name,'data'\n",
    "    with open(os.path.join(output_folder,\"image_event_names_from_\"+retina_name+'.pcl')) as fnames:\n",
    "        name_sequences.append(pickle.load(fnames))\n",
    "    \n",
    "    \n",
    "    image_sequences.append( np.load( os.path.join(output_folder,\"images_from_\"+retina_name+'.npy') ) )\n",
    "    \n",
    "    \n",
    "    "
   ]
  },
  {
   "cell_type": "code",
   "execution_count": null,
   "metadata": {
    "collapsed": false
   },
   "outputs": [],
   "source": [
    "#assert that the names go in the same order\n",
    "reference_names = names = name_sequences[0]\n",
    "for seq in name_sequences:\n",
    "    assert reference_names == seq\n",
    "print \"all sequences are aligned correctly\""
   ]
  },
  {
   "cell_type": "code",
   "execution_count": null,
   "metadata": {
    "collapsed": false
   },
   "outputs": [],
   "source": [
    "#get the order of (runIDs,eventIDs) of the images\n",
    "run_event_pairs = map(lambda name: name.split(\".\")[0].split(\"_\"), names)\n",
    "runIDs,eventIDs =  zip(*run_event_pairs)\n",
    "runIDs = map(int,runIDs)\n",
    "eventIDs = map(int,eventIDs)"
   ]
  },
  {
   "cell_type": "code",
   "execution_count": null,
   "metadata": {
    "collapsed": false
   },
   "outputs": [],
   "source": [
    "#aggregate images from all retinas\n",
    "joint_images = map( np.concatenate, zip(*image_sequences))\n",
    "joint_images = np.vstack(joint_images)\n",
    "\n",
    "xdim = ydim = 32\n",
    "#xdim, ydim left from last retina initialization... or are they?\n",
    "joint_images = joint_images.reshape(-1,len(image_sequences),xdim,ydim)"
   ]
  },
  {
   "cell_type": "code",
   "execution_count": null,
   "metadata": {
    "collapsed": false
   },
   "outputs": [],
   "source": [
    "print joint_images.shape\n",
    "#sanity check: sample image tuple, stacked horizontally\n",
    "plt.figure(figsize=[30,15])\n",
    "plt.imshow(np.hstack([\n",
    "        np.vstack(joint_images[0,0::4]),\n",
    "        np.vstack(joint_images[0,1::4]),\n",
    "        np.vstack(joint_images[0,2::4]),\n",
    "        np.vstack(joint_images[0,3::4])\n",
    "                  ]\n",
    "    ))"
   ]
  },
  {
   "cell_type": "markdown",
   "metadata": {},
   "source": [
    "### read decays"
   ]
  },
  {
   "cell_type": "code",
   "execution_count": null,
   "metadata": {
    "collapsed": false
   },
   "outputs": [],
   "source": [
    "#auxilary functions to preprocess decay data\n",
    "import pandas as pd\n",
    "def decayQuality(decayString):\n",
    "    '''how orthodoxal KS is [lower = better]'''\n",
    "    particle_codes = decayString.split('&')\n",
    "    piplus_count = particle_codes.count('211')\n",
    "    piminus_count = particle_codes.count('-211')\n",
    "    \n",
    "    if piplus_count ==0 and piminus_count ==0: return float('inf')\n",
    "    \n",
    "    return len(particle_codes) - piplus_count - piminus_count\n",
    "def preprocess_decay_data(df_path,\n",
    "                          min_decay_z = 500,\n",
    "                          max_quality = 5,\n",
    "                          max_origin_distance=0,\n",
    "                          min_flight_distance = 0,\n",
    "                          ):\n",
    "    \"\"\"load KS decay dataframe generated by /preprocess/KS_extractor.py \n",
    "    and filter out irrelevant decays (e.g. Ks->2pi0)\"\"\"\n",
    "    \n",
    "    print \"reading\",df_path\n",
    "\n",
    "    \n",
    "    decay_df = pd.DataFrame.from_csv(df_path,index_col=None,sep=';')\n",
    "    decay_df.children = decay_df.children.astype(np.string_)\n",
    "\n",
    "    print len(np.unique( (decay_df.runID,decay_df.eventID))),'events in dataframe'\n",
    "\n",
    "\n",
    "    decay_df[\"originDistanceZ\"] = (decay_df.originZ - decay_df.primaryZ)\n",
    "    \n",
    "    decay_df[\"decayQuality\"] = map(decayQuality,decay_df.children)\n",
    "    \n",
    "    decay_vectors = decay_df[[\"decayX\",\"decayY\",\"decayZ\"]].values\n",
    "    origin_vectors = decay_df[[\"originX\",\"originY\",\"originZ\"]].values\n",
    "    decay_df[\"flightDistance\"] = np.linalg.norm(decay_vectors-origin_vectors,axis=1)\n",
    "    \n",
    "    \n",
    "    isGood = np.logical_and.reduce([\n",
    "        decay_df.decayQuality <=max_quality,\n",
    "        decay_df.originDistanceZ.abs() <= max_origin_distance,\n",
    "        decay_df.flightDistance >= min_flight_distance,\n",
    "        decay_df.decayZ >= min_decay_z\n",
    "    ])\n",
    "    good_decay_df = decay_df[isGood]\n",
    "    print len(np.unique( (good_decay_df.runID,good_decay_df.eventID))),'events left with relevant decays'\n",
    "    return good_decay_df"
   ]
  },
  {
   "cell_type": "code",
   "execution_count": null,
   "metadata": {
    "collapsed": false
   },
   "outputs": [],
   "source": [
    "decay_df_paths = [\"/mnt/KSfinder/mc_sig/KS_decays_5.csv\",\"/mnt/KSfinder/mc_sig/KS_decays_6.csv\"]\n",
    "\n",
    "decay_dataframe_shards = map(preprocess_decay_data,decay_df_paths)\n",
    "\n",
    "decays = pd.concat(decay_dataframe_shards)\n",
    "\n",
    "print len(decays),'relevant decays total in all dataframes'\n",
    "print 'grouping...'\n",
    "\n",
    "#function (runID(int),eventID(int)) -> decays for this pair(df)\n",
    "decay_groups = decays.groupby([\"runID\",\"eventID\"],as_index=True)\n",
    "\n",
    "#strip unused columns\n",
    "decay_groups = decay_groups[[u'decayX',u'decayY',u'decayZ',u'children',u'flightDistance']]\n",
    "\n",
    "#e.g. decay_groups.get_group((3695761 ,485762))\n",
    "print 'done'"
   ]
  },
  {
   "cell_type": "markdown",
   "metadata": {},
   "source": [
    "# generate output via percentile mappers"
   ]
  },
  {
   "cell_type": "code",
   "execution_count": null,
   "metadata": {
    "collapsed": true
   },
   "outputs": [],
   "source": [
    "from retina.percentile_grid import Multiramp,PercentileSpaceMapper1D"
   ]
  },
  {
   "cell_type": "code",
   "execution_count": null,
   "metadata": {
    "collapsed": false
   },
   "outputs": [],
   "source": [
    "#on what PercentileSpaceMapper does, see percentile-mapper-tests.ipynb\n",
    "\n",
    "xmapper = PercentileSpaceMapper1D(decays.decayX,n_centers=50,activation=Multiramp(15,2))\n",
    "ymapper = PercentileSpaceMapper1D(decays.decayY,n_centers=50,activation=Multiramp(15,2))\n",
    "zmapper = PercentileSpaceMapper1D(decays.decayZ,n_centers=50,activation=Multiramp(15,2))\n"
   ]
  },
  {
   "cell_type": "markdown",
   "metadata": {},
   "source": [
    "# Aggregation"
   ]
  },
  {
   "cell_type": "code",
   "execution_count": null,
   "metadata": {
    "collapsed": false
   },
   "outputs": [],
   "source": [
    "%%time\n",
    "\n",
    "#aligning images with decays\n",
    "# sorry i'm just too lazy to implement joblib parallelism here, \n",
    "# even so, it takes a tea cup to process 30k events\n",
    "\n",
    "\n",
    "#runIDs,eventIDs are left from retina image preprocessing phase\n",
    "\n",
    "X_images = []\n",
    "y_images = []\n",
    "for i,(runID,eventID,image_set) in enumerate(zip(runIDs,eventIDs,joint_images)):\n",
    "    \n",
    "    if (runID,eventID) not in decay_groups.groups:\n",
    "        continue\n",
    "    \n",
    "    event_decays = decay_groups.get_group((runID,eventID))\n",
    "    \n",
    "    \n",
    "    xmap = xmapper.get_activity_percentile(event_decays.decayX.values)\n",
    "    ymap = ymapper.get_activity_percentile(event_decays.decayY.values)\n",
    "    zmap = zmapper.get_activity_percentile(event_decays.decayZ.values)\n",
    "    \n",
    "    target = np.vstack([xmap,ymap,zmap])\n",
    "    \n",
    "    X_images.append(image_set)\n",
    "    y_images.append(target)\n",
    "    \n",
    "    if i%1000==0:\n",
    "        plt.figure(figsize = [10,3])\n",
    "        plt.title(\"input %s/%s\"%(i,len(joint_images)))\n",
    "        plt.imshow(np.hstack(image_set))\n",
    "        plt.show()\n",
    "        plt.figure(figsize = [10,3])\n",
    "        plt.title(\"target %s/%s\"%(i,len(joint_images)))\n",
    "        plt.imshow(target,interpolation='none')\n",
    "        plt.colorbar()\n",
    "        plt.show()\n",
    "    \n",
    "    "
   ]
  },
  {
   "cell_type": "code",
   "execution_count": null,
   "metadata": {
    "collapsed": false
   },
   "outputs": [],
   "source": [
    "prepend_dim = lambda img:img[np.newaxis,...]\n",
    "\n",
    "X = np.concatenate(map(prepend_dim,X_images))\n",
    "y = np.concatenate(map(prepend_dim,y_images))\n",
    "print X.shape, y.shape"
   ]
  },
  {
   "cell_type": "code",
   "execution_count": null,
   "metadata": {
    "collapsed": true
   },
   "outputs": [],
   "source": [
    "np.save(os.path.join(output_folder,\"ksfinder_images_full.npy\"),X)\n",
    "np.save(os.path.join(output_folder,\"ksfinder_targets_full.npy\"),y)"
   ]
  },
  {
   "cell_type": "code",
   "execution_count": null,
   "metadata": {
    "collapsed": true
   },
   "outputs": [],
   "source": []
  },
  {
   "cell_type": "code",
   "execution_count": null,
   "metadata": {
    "collapsed": true
   },
   "outputs": [],
   "source": []
  },
  {
   "cell_type": "code",
   "execution_count": null,
   "metadata": {
    "collapsed": true
   },
   "outputs": [],
   "source": []
  }
 ],
 "metadata": {
  "kernelspec": {
   "display_name": "Python 2",
   "language": "python",
   "name": "python2"
  },
  "language_info": {
   "codemirror_mode": {
    "name": "ipython",
    "version": 2
   },
   "file_extension": ".py",
   "mimetype": "text/x-python",
   "name": "python",
   "nbconvert_exporter": "python",
   "pygments_lexer": "ipython2",
   "version": "2.7.6"
  }
 },
 "nbformat": 4,
 "nbformat_minor": 0
}
