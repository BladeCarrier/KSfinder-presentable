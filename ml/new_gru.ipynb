{
 "cells": [
  {
   "cell_type": "code",
   "execution_count": 4,
   "metadata": {
    "collapsed": true
   },
   "outputs": [],
   "source": [
    "theano.config.floatX = 'float32'\n",
    "theano.config.openmp = True\n",
    "\n",
    "%load_ext autoreload\n",
    "%autoreload 2\n"
   ]
  },
  {
   "cell_type": "code",
   "execution_count": 20,
   "metadata": {
    "collapsed": false
   },
   "outputs": [],
   "source": [
    "#coding: utf-8 -*-\n",
    "__doc__=\"\"\"several more-or-less successfull layer designs used in the lasagne NN architecture\"\"\"\n",
    "\n",
    "\n",
    "import numpy as np\n",
    "import theano\n",
    "import theano.tensor as T\n",
    "import lasagne\n",
    "floatX = theano.config.floatX\n",
    "_shared = lambda name,val,dtype: theano.shared(val.astype(dtype),name,\n",
    "                                               strict = True,allow_downcast=True)"
   ]
  },
  {
   "cell_type": "code",
   "execution_count": 31,
   "metadata": {
    "collapsed": false
   },
   "outputs": [],
   "source": [
    "def get_simple_updater(input_shape,n_hidden,name=\"updater\"):\n",
    "    \n",
    "    _updater_nn = lasagne.layers.InputLayer(input_shape, name= name+\".input\")\n",
    "    \n",
    "    _updater_nn = lasagne.layers.DenseLayer(_updater_nn,num_units = n_hidden,\n",
    "                                            nonlinearity=lasagne.nonlinearities.softmax,\n",
    "                                            name = name+\".main\")\n",
    "    \n",
    "    \n",
    "    return _updater_nn,_updater_nn.params.items()"
   ]
  },
  {
   "cell_type": "code",
   "execution_count": 32,
   "metadata": {
    "collapsed": false
   },
   "outputs": [],
   "source": [
    "upd,params = get_simple_updater([1,8,8],n_hidden=32,name=\"upd\")"
   ]
  },
  {
   "cell_type": "code",
   "execution_count": 38,
   "metadata": {
    "collapsed": false
   },
   "outputs": [
    {
     "data": {
      "text/plain": [
       "[(upd.main.W, {'regularizable', 'trainable'}), (upd.main.b, {'trainable'})]"
      ]
     },
     "execution_count": 38,
     "metadata": {},
     "output_type": "execute_result"
    }
   ],
   "source": [
    "pp = params[0][0]\n",
    "params"
   ]
  },
  {
   "cell_type": "code",
   "execution_count": 19,
   "metadata": {
    "collapsed": true
   },
   "outputs": [],
   "source": [
    "\n",
    "\n",
    "class MDPLayer(lasagne.layers.Layer):\n",
    "    def __init__(self,incoming,\n",
    "                 name=\"yet_another_mdp\",\n",
    "                 n_units=32,\n",
    "                 history_length = 10,\n",
    "                 grad_clipping=0.\n",
    "                 **kwargs):\n",
    "        \n",
    "        super(MDPLayer,self).__init__(incoming,**kwargs)\n",
    "        \n",
    "        self.name = name\n",
    "        self.n_units = n_units\n",
    "        self.history_length = history_length\n",
    "        self.grad_clipping = grad_clipping\n",
    "        \n",
    "        \n",
    "        \n",
    "        inp_shape = list(incoming.output_shape)\n",
    "        #assumes [single_batch,single_channel,rows,cols]\n",
    "        assert inp_shape[0] == inp_shape[1] == 1\n",
    "        \n",
    "        \n",
    "        self.hidden_update_layer,params = get_simple_updater([2]+inp_shape[2:],n_units)\n",
    "        for p_var,p_flags in params:\n",
    "            self.add_param(p_var,p_flags)\n",
    "        \n",
    "        hidden_init = np.zeros(n_units).astype(floatX)\n",
    "        self.last_hidden = _shared(\"hidden_state_history\",hidden_init,floatX)\n",
    "        \n",
    "        \n",
    "        \n",
    "    def get_output_shape_for(self, input_shape):\n",
    "        return (1,self.n_units)\n",
    "    def get_output_for(self, input, **kwargs):\n",
    "        \n",
    "        \n",
    "        \n",
    "        if self.grad_clipping:\n",
    "                gates = theano.gradient.grad_clip(\n",
    "                    gates, -self.grad_clipping, self.grad_clipping)\n",
    "        return input"
   ]
  },
  {
   "cell_type": "code",
   "execution_count": null,
   "metadata": {
    "collapsed": true
   },
   "outputs": [],
   "source": [
    "theano.gradient.grad_clip()"
   ]
  }
 ],
 "metadata": {
  "kernelspec": {
   "display_name": "Python 2",
   "language": "python",
   "name": "python2"
  },
  "language_info": {
   "codemirror_mode": {
    "name": "ipython",
    "version": 2
   },
   "file_extension": ".py",
   "mimetype": "text/x-python",
   "name": "python",
   "nbconvert_exporter": "python",
   "pygments_lexer": "ipython2",
   "version": "2.7.6"
  }
 },
 "nbformat": 4,
 "nbformat_minor": 0
}
