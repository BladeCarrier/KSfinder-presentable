{
 "cells": [
  {
   "cell_type": "code",
   "execution_count": 1,
   "metadata": {
    "collapsed": false
   },
   "outputs": [
    {
     "name": "stdout",
     "output_type": "stream",
     "text": [
      "Couldn't import dot_parser, loading of dot files will not be possible.\n"
     ]
    }
   ],
   "source": [
    "import numpy as np\n",
    "import theano\n",
    "import theano.tensor as T\n",
    "import lasagne\n",
    "theano.config.floatX = 'float32'\n",
    "theano.config.openmp = True\n",
    "\n",
    "from matplotlib import pyplot as plt\n",
    "%matplotlib inline\n",
    "\n"
   ]
  },
  {
   "cell_type": "markdown",
   "metadata": {},
   "source": [
    "# configure network\n",
    "* the network architecture can be read from the architecture tab\n",
    " * just one-way successive dense layers, intertwining with dropout layers\n",
    "   * a dropout layer zeroes-out random neurons each run to avoid overfitting\n",
    " * one additional dropout layer is added at the very beginning (right after input)\n",
    "  \n",
    "* no proper experiments were done with convolutional layers (CNN)\n",
    " * and none will be until we get our GPUs\n",
    " * otherwise it takes months to fully train such NN\n",
    " \n",
    "* the network is built using mainly Lasagne and Theano\n",
    " * Theano is a mathematical framework for fast resourse-optimized computation\n",
    "   * A theano algorithm is essentially a computational graph that is automatically optimized and compiled for the available hardware (single-CPU,multi-CPU,GPU, multi-GPU)\n",
    "   * https://github.com/Theano/Theano\n",
    " * Lasagne is a low-level neural network framework, compatible with Theano\n",
    "   * http://lasagne.readthedocs.org/en/latest/index.html"
   ]
  },
  {
   "cell_type": "code",
   "execution_count": 2,
   "metadata": {
    "collapsed": true
   },
   "outputs": [],
   "source": [
    "input_shape = (None,3,32,32)\n",
    "output_shape = (None,3,1,50)\n",
    "n_outputs = np.prod(output_shape[1:])\n",
    "_input_image_pair = T.tensor4('image_pair',dtype='floatX')\n",
    "_target = T.tensor4('decay_prediction',dtype='floatX')"
   ]
  },
  {
   "cell_type": "code",
   "execution_count": 19,
   "metadata": {
    "collapsed": false
   },
   "outputs": [],
   "source": [
    "#architecture\n",
    "_nn = lasagne.layers.InputLayer(shape = input_shape,name='input_images',\n",
    "                                input_var=_input_image_pair)\n",
    "\n",
    "_nn = lasagne.layers.DropoutLayer(_nn,name=\"drop_inputs\",p=0.2)\n",
    "\n",
    "_nn = _dense0 = lasagne.layers.DenseLayer(_nn,name=\"dense0\",\n",
    "                                num_units = 128,\n",
    "                                nonlinearity=lasagne.nonlinearities.sigmoid)\n",
    "\n",
    "_nn = lasagne.layers.DropoutLayer(_nn,name=\"drop_from_dense0\",p=0.5)\n",
    "\n",
    "_nn = _dense1 = lasagne.layers.DenseLayer(_nn,num_units = 128,name=\"dense1\",\n",
    "                             nonlinearity=lasagne.nonlinearities.sigmoid)\n",
    "\n",
    "_nn = lasagne.layers.DropoutLayer(_nn,name=\"drop_from_dense1\",p=0.25)\n",
    "\n",
    "\n",
    "_nn = _dense_out = lasagne.layers.DenseLayer(_nn, name = 'dense_output',\n",
    "                                 num_units=n_outputs,\n",
    "                                 W=lasagne.init.GlorotUniform(),\n",
    "                                 \n",
    "                                 nonlinearity=lasagne.nonlinearities.softmax)\n"
   ]
  },
  {
   "cell_type": "code",
   "execution_count": 56,
   "metadata": {
    "collapsed": false
   },
   "outputs": [],
   "source": [
    "# network output function WITH random dropout\n",
    "#raw shape: [ None,prod(output_shape) ]\n",
    "\n",
    "_prediction_raw = lasagne.layers.get_output(_nn,inputs=_input_image_pair)\n",
    "\n",
    "_prediction = _prediction_raw.reshape([-1]+list(output_shape[1:]))\n",
    "\n",
    "\n"
   ]
  },
  {
   "cell_type": "code",
   "execution_count": 57,
   "metadata": {
    "collapsed": false
   },
   "outputs": [
    {
     "name": "stdout",
     "output_type": "stream",
     "text": [
      "[dense0.W, dense0.b, dense1.W, dense1.b, dense_output.W, dense_output.b]\n"
     ]
    }
   ],
   "source": [
    "# obtaining optimizable network parameters\n",
    "_nn_weights = lasagne.layers.get_all_params(_nn,trainable=True)\n",
    "print _nn_weights"
   ]
  },
  {
   "cell_type": "code",
   "execution_count": 58,
   "metadata": {
    "collapsed": false
   },
   "outputs": [],
   "source": [
    "norm = lambda x: T.sqrt((x**2).sum(axis=-1,keepdims=True))"
   ]
  },
  {
   "cell_type": "code",
   "execution_count": 59,
   "metadata": {
    "collapsed": false
   },
   "outputs": [],
   "source": [
    "# constructing objective function\n",
    "\n",
    "# crossentropy\n",
    "\n",
    "_crossentropy = lasagne.objectives.categorical_crossentropy(_prediction,_target).mean()\n",
    "\n",
    "\n",
    "\n",
    "# cosine similarity with normalization applied to prediction only (since target Y is constant)\n",
    "from retina.compiled import normalize\n",
    "_prediction_normalized = normalize(_prediction_raw).reshape([-1]+list(output_shape[1:]))\n",
    "_cosine_similarity = (_prediction_normalized*_target).sum()\n",
    "\n",
    "\n",
    "#prediction entropy\n",
    "_prediction_entropy = lasagne.objectives.categorical_crossentropy(_prediction,_prediction).mean()\n",
    "\n",
    "\n",
    "\n",
    "# L2 (Tikhonov) regularizer\n",
    "_reg_l2 = lasagne.regularization.regularize_network_params(_nn,\n",
    "                            penalty = lasagne.regularization.l2)\n",
    "\n",
    "# combined objective function\n",
    "_unregularized_loss = _crossentropy \n",
    "_loss = _unregularized_loss + _reg_l2*0.00001 + _prediction_entropy*10."
   ]
  },
  {
   "cell_type": "code",
   "execution_count": 60,
   "metadata": {
    "collapsed": false
   },
   "outputs": [],
   "source": [
    "# optimization algorithm\n",
    "_nn_update = lasagne.updates.nesterov_momentum(_loss,\n",
    "                                               params = _nn_weights,\n",
    "                                               learning_rate = .01\n",
    "                                              )"
   ]
  },
  {
   "cell_type": "code",
   "execution_count": 61,
   "metadata": {
    "collapsed": false
   },
   "outputs": [],
   "source": [
    "# compiled optimization algorithm\n",
    "train_fun = theano.function([_input_image_pair,_target],\n",
    "                            _loss,\n",
    "                            updates=_nn_update,\n",
    "                           #mode=theano.compile.mode.FAST_COMPILE\n",
    "                           )"
   ]
  },
  {
   "cell_type": "code",
   "execution_count": 62,
   "metadata": {
    "collapsed": true
   },
   "outputs": [],
   "source": [
    "# network output function WITHOUT dropout \n",
    "# dropout gets replaced with reweighting all outputs by (1 - P(drop) )\n",
    "# thus, the output becomes DETERMINISTIC and uses whole network\n",
    "_det_prediction_raw = lasagne.layers.get_output(_nn,inputs=_input_image_pair,deterministic=True)\n",
    "\n",
    "# compiled deterministic output function (for evaluation and prediction)\n",
    "predict = theano.function([_input_image_pair],_det_prediction_raw)"
   ]
  },
  {
   "cell_type": "markdown",
   "metadata": {},
   "source": [
    "# fetch data\n",
    "* load several retina images, concatenate them into pairs\n",
    " * a pair consists of two retina images of the SAME event\n",
    " * the difference is the position and orientation of the retina grid\n",
    "* the retina images are 32x32 pixels each"
   ]
  },
  {
   "cell_type": "code",
   "execution_count": 27,
   "metadata": {
    "collapsed": false
   },
   "outputs": [
    {
     "name": "stdout",
     "output_type": "stream",
     "text": [
      "(27185, 3, 32, 32) (27185, 3, 50)\n"
     ]
    }
   ],
   "source": [
    "img_folder = \"/mnt/KSfinder/\"\n",
    "import os\n",
    "X = np.load(os.path.join(img_folder,\"ksfinder_images.npy\"))\n",
    "y = np.load(os.path.join(img_folder,\"ksfinder_targets.npy\"))\n",
    "print X.shape,y.shape"
   ]
  },
  {
   "cell_type": "code",
   "execution_count": 28,
   "metadata": {
    "collapsed": false
   },
   "outputs": [
    {
     "data": {
      "image/png": "[encoded data removed]",
      "text/plain": [
       "<matplotlib.figure.Figure at 0x7f98aef9f190>"
      ]
     },
     "metadata": {},
     "output_type": "display_data"
    },
    {
     "data": {
      "image/png": "[encoded data removed]",
      "text/plain": [
       "<matplotlib.figure.Figure at 0x7f98c9c04e90>"
      ]
     },
     "metadata": {},
     "output_type": "display_data"
    }
   ],
   "source": [
    "i = 0\n",
    "plt.figure(figsize=[10,3])\n",
    "plt.imshow(np.hstack(X[i]))\n",
    "plt.show()\n",
    "plt.figure(figsize=[10,3])\n",
    "plt.imshow(np.vstack(y[i]))\n",
    "plt.show()"
   ]
  },
  {
   "cell_type": "code",
   "execution_count": 29,
   "metadata": {
    "collapsed": false
   },
   "outputs": [
    {
     "name": "stdout",
     "output_type": "stream",
     "text": [
      "(27185, 3, 32, 32) (27185, 3, 1, 50)\n"
     ]
    }
   ],
   "source": [
    "#setup data format\n",
    "X= X.reshape(-1,*input_shape[1:]).astype('float32')\n",
    "y = y.reshape(-1,*output_shape[1:]).astype('float32')\n",
    "print X.shape,y.shape"
   ]
  },
  {
   "cell_type": "code",
   "execution_count": 30,
   "metadata": {
    "collapsed": false
   },
   "outputs": [],
   "source": [
    "from sklearn.cross_validation import train_test_split\n",
    "Xtr,Xts,Ytr,Yts = train_test_split(X,y,test_size=0.3,random_state=42)"
   ]
  },
  {
   "cell_type": "markdown",
   "metadata": {},
   "source": [
    "# train it\n",
    "* by iteratively picking minibatches and training on them\n",
    "* the method used for iterations is\n",
    " * Stochastic Gradient Descent (SGD) updates with Nesterov momentum\n",
    " * used it just because i heard it's good, no actual analysis done\n",
    "* Uniform additive l2 regularization is applied to the network to prevent overfitting as well\n",
    " * regularization constant was briefly tweaked via crossvalidation for ROC AUC\n",
    " * more sophisticated regularizers were not analyzed"
   ]
  },
  {
   "cell_type": "code",
   "execution_count": 31,
   "metadata": {
    "collapsed": true
   },
   "outputs": [],
   "source": [
    "def iterate_minibatches(inputs, targets, batchsize, shuffle=False):\n",
    "    assert len(inputs) == len(targets)\n",
    "    if shuffle:\n",
    "        indices = np.arange(len(inputs))\n",
    "        np.random.shuffle(indices)\n",
    "    for start_idx in range(0, len(inputs) - batchsize + 1, batchsize):\n",
    "        if shuffle:\n",
    "            excerpt = indices[start_idx:start_idx + batchsize]\n",
    "        else:\n",
    "            excerpt = slice(start_idx, start_idx + batchsize)\n",
    "        yield inputs[excerpt], targets[excerpt]"
   ]
  },
  {
   "cell_type": "code",
   "execution_count": 54,
   "metadata": {
    "collapsed": false
   },
   "outputs": [],
   "source": [
    "from sklearn.metrics import roc_auc_score,accuracy_score\n",
    "\n",
    "score_fun = theano.function([_input_image_pair,_target],\n",
    "                            _unregularized_loss,\n",
    "                           #mode=theano.compile.mode.FAST_COMPILE\n",
    "                           )\n",
    "entropy_fun = theano.function([_input_image_pair,_target],\n",
    "                            _prediction_entropy,\n",
    "                            on_unused_input='ignore',\n",
    "                           #mode=theano.compile.mode.FAST_COMPILE\n",
    "                           )\n",
    "\n",
    "\n",
    "def evaluate(X,y_targ):\n",
    "    score = score_fun(X,y_targ)\n",
    "    entropy = entropy_fun(X,y_targ)\n",
    "    \n",
    "    print 'loss:',score\n",
    "    print 'entropy:',entropy\n",
    "    \n",
    "    \n",
    "    return score\n",
    "    "
   ]
  },
  {
   "cell_type": "code",
   "execution_count": 48,
   "metadata": {
    "collapsed": true
   },
   "outputs": [],
   "source": [
    "import random\n",
    "def show_sample_predictions(X,y,count=10):\n",
    "    y_pred = predict(X)\n",
    "    \n",
    "    y/=np.linalg.norm(y,axis=1)\n",
    "    \n",
    "    for n in range(count):\n",
    "        i = random.randint(0,len(y) -1)\n",
    "\n",
    "        plt.figure(figsize=[15,2])\n",
    "        plt.imshow(y[i].reshape(-1,50),interpolation='none')\n",
    "        plt.title('sample %i reference'%i)\n",
    "        plt.colorbar()\n",
    "        plt.show()\n",
    "\n",
    "        plt.figure(figsize=[15,2])\n",
    "        plt.imshow(y_pred[i].reshape(-1,50),interpolation='none')\n",
    "        plt.title('sample %i prediction'%i)\n",
    "        plt.colorbar()\n",
    "        plt.show()"
   ]
  },
  {
   "cell_type": "code",
   "execution_count": 34,
   "metadata": {
    "collapsed": true
   },
   "outputs": [],
   "source": [
    "#global epoch counter (useful if several train loops were started in succession)\n",
    "epochCounter = 0\n",
    "train_scores = {}\n",
    "test_scores = {}"
   ]
  },
  {
   "cell_type": "code",
   "execution_count": null,
   "metadata": {
    "collapsed": false,
    "scrolled": true
   },
   "outputs": [
    {
     "name": "stdout",
     "output_type": "stream",
     "text": [
      "train loss:  44.7387\n",
      "-------------------------\n",
      "epoch 0/500, 176 total\n",
      "\n",
      "layer RMS:\n",
      "\tdense0.W : 0.0252893024074\n",
      "\tdense0.b : 0.00592988217559\n",
      "\tdense1.W : 0.102994533937\n",
      "\tdense1.b : 0.16520677318\n",
      "\tdense_output.W : 0.0796118658994\n",
      "\tdense_output.b : 0.401611142608\n",
      "\n",
      "train score:\n",
      "loss: 29.0913162231\n",
      "entropy: 1.55523860455\n",
      "\n",
      "test score:\n",
      "loss: 28.5554580688\n",
      "entropy: 1.55519878864\n",
      "\n"
     ]
    },
    {
     "data": {
      "image/png": "[encoded data removed]",
      "text/plain": [
       "<matplotlib.figure.Figure at 0x7f98c281bf50>"
      ]
     },
     "metadata": {},
     "output_type": "display_data"
    },
    {
     "data": {
      "image/png": "[encoded data removed]",
      "text/plain": [
       "<matplotlib.figure.Figure at 0x7f98cb593490>"
      ]
     },
     "metadata": {},
     "output_type": "display_data"
    },
    {
     "data": {
      "image/png": "[encoded data removed]",
      "text/plain": [
       "<matplotlib.figure.Figure at 0x7f98af27ee10>"
      ]
     },
     "metadata": {},
     "output_type": "display_data"
    },
    {
     "data": {
      "image/png": "[encoded data removed]",
      "text/plain": [
       "<matplotlib.figure.Figure at 0x7f98c27ca410>"
      ]
     },
     "metadata": {},
     "output_type": "display_data"
    },
    {
     "data": {
      "image/png": "[encoded data removed]",
      "text/plain": [
       "<matplotlib.figure.Figure at 0x7f98aef9f990>"
      ]
     },
     "metadata": {},
     "output_type": "display_data"
    },
    {
     "data": {
      "image/png": "[encoded data removed]",
      "text/plain": [
       "<matplotlib.figure.Figure at 0x7f98aeef5cd0>"
      ]
     },
     "metadata": {},
     "output_type": "display_data"
    },
    {
     "name": "stdout",
     "output_type": "stream",
     "text": [
      "train loss:  44.6439\n",
      "train loss:  43.7194\n",
      "train loss:  42.642\n",
      "train loss:  42.6166\n",
      "train loss:  42.6338\n",
      "train loss:  42.6268\n",
      "train loss:  42.6265\n",
      "train loss:  42.6287\n",
      "train loss:  42.6142\n",
      "train loss:  42.6265\n",
      "train loss:  42.6159\n",
      "train loss:  42.6146\n",
      "train loss:  42.6287\n",
      "train loss:  42.6255\n",
      "train loss:  42.6163\n",
      "train loss:  42.6136\n",
      "train loss:  42.6231\n",
      "train loss:  42.6132\n",
      "train loss: "
     ]
    }
   ],
   "source": [
    "n_epochs= 500\n",
    "batch_size = 500\n",
    "for i in range(n_epochs):\n",
    "    err=[]\n",
    "    for (batch_X,batch_y) in iterate_minibatches(Xtr,Ytr,batch_size,shuffle=True):\n",
    "        err.append(train_fun(batch_X,batch_y))\n",
    "    \n",
    "    \n",
    "    print 'train loss: ',np.mean(err)\n",
    "    if i%25==0:\n",
    "        print '-'*25\n",
    "        print 'epoch {}/{}, {} total'.format(i,n_epochs,epochCounter)\n",
    "        print\n",
    "        \n",
    "        print \"layer RMS:\"\n",
    "        for param in _nn_weights:\n",
    "            RMS_weights = (param.get_value()**2).mean()**.5\n",
    "            print '\\t',param,':',RMS_weights\n",
    "        print\n",
    "        \n",
    "        \n",
    "        \n",
    "        print 'train score:'\n",
    "        train_scores[epochCounter] = evaluate(Xtr,Ytr)\n",
    "        print\n",
    "        \n",
    "        \n",
    "        print 'test score:'\n",
    "        test_scores[epochCounter] = evaluate(Xts,Yts)\n",
    "        print\n",
    "        #print '.'*25\n",
    "        show_sample_predictions(Xtr,Ytr,count=3)\n",
    "    \n",
    "    epochCounter+=1\n",
    "\n"
   ]
  },
  {
   "cell_type": "code",
   "execution_count": null,
   "metadata": {
    "collapsed": false
   },
   "outputs": [],
   "source": [
    "keys,values = zip(*train_scores.items())\n",
    "values = np.hstack(values)\n",
    "plt.plot(keys,values,label=\"train\")\n",
    "keys,values = zip(*test_scores.items())\n",
    "values = np.hstack(values)\n",
    "plt.plot(keys,values,label=\"test\")\n",
    "\n",
    "#plt.xlim()"
   ]
  },
  {
   "cell_type": "code",
   "execution_count": null,
   "metadata": {
    "collapsed": true
   },
   "outputs": [],
   "source": []
  },
  {
   "cell_type": "code",
   "execution_count": null,
   "metadata": {
    "collapsed": true
   },
   "outputs": [],
   "source": []
  },
  {
   "cell_type": "code",
   "execution_count": null,
   "metadata": {
    "collapsed": true
   },
   "outputs": [],
   "source": []
  },
  {
   "cell_type": "code",
   "execution_count": null,
   "metadata": {
    "collapsed": true
   },
   "outputs": [],
   "source": []
  },
  {
   "cell_type": "code",
   "execution_count": null,
   "metadata": {
    "collapsed": true
   },
   "outputs": [],
   "source": []
  },
  {
   "cell_type": "code",
   "execution_count": null,
   "metadata": {
    "collapsed": false
   },
   "outputs": [],
   "source": [
    "keys,values = zip(*train_scores.items())\n",
    "values = np.hstack(values)\n",
    "plt.plot(keys,values,label=\"train\")\n",
    "keys,values = zip(*test_scores.items())\n",
    "values = np.hstack(values)\n",
    "plt.plot(keys,values,label=\"test\")\n",
    "\n",
    "plt.xlim(0,10000)"
   ]
  },
  {
   "cell_type": "code",
   "execution_count": null,
   "metadata": {
    "collapsed": false
   },
   "outputs": [],
   "source": []
  },
  {
   "cell_type": "code",
   "execution_count": null,
   "metadata": {
    "collapsed": false
   },
   "outputs": [],
   "source": [
    "show_sample_predictions(Xtr,Ytr)"
   ]
  },
  {
   "cell_type": "code",
   "execution_count": null,
   "metadata": {
    "collapsed": false
   },
   "outputs": [],
   "source": [
    "i = 0\n",
    "y[i].shape"
   ]
  },
  {
   "cell_type": "markdown",
   "metadata": {},
   "source": [
    "# Final evaluation"
   ]
  },
  {
   "cell_type": "code",
   "execution_count": null,
   "metadata": {
    "collapsed": false
   },
   "outputs": [],
   "source": [
    "print \"Final scores on the training set:\"\n",
    "evaluate(Xtr,Ytr)\n",
    "\n",
    "print \"Final scores on the test set:\"\n",
    "evaluate(Xts,Yts)\n"
   ]
  },
  {
   "cell_type": "markdown",
   "metadata": {},
   "source": [
    "# brief conclusion\n",
    "TODO"
   ]
  },
  {
   "cell_type": "code",
   "execution_count": null,
   "metadata": {
    "collapsed": true
   },
   "outputs": [],
   "source": [
    "# here the notebook ends"
   ]
  },
  {
   "cell_type": "code",
   "execution_count": null,
   "metadata": {
    "collapsed": false
   },
   "outputs": [],
   "source": [
    "ww = _nn_weights[0].get_value().T.reshape(-1,64,32)"
   ]
  },
  {
   "cell_type": "code",
   "execution_count": null,
   "metadata": {
    "collapsed": false
   },
   "outputs": [],
   "source": [
    "from random import choice\n",
    "i = choice(range(100))\n",
    "plt.figure(figsize=[7,14])\n",
    "plt.imshow(ww[i],cmap='bone')\n",
    "plt.colorbar()\n",
    "print i\n"
   ]
  },
  {
   "cell_type": "code",
   "execution_count": null,
   "metadata": {
    "collapsed": true
   },
   "outputs": [],
   "source": []
  },
  {
   "cell_type": "code",
   "execution_count": null,
   "metadata": {
    "collapsed": true
   },
   "outputs": [],
   "source": []
  },
  {
   "cell_type": "code",
   "execution_count": null,
   "metadata": {
    "collapsed": true
   },
   "outputs": [],
   "source": []
  },
  {
   "cell_type": "code",
   "execution_count": null,
   "metadata": {
    "collapsed": true
   },
   "outputs": [],
   "source": []
  },
  {
   "cell_type": "code",
   "execution_count": null,
   "metadata": {
    "collapsed": true
   },
   "outputs": [],
   "source": []
  },
  {
   "cell_type": "code",
   "execution_count": null,
   "metadata": {
    "collapsed": true
   },
   "outputs": [],
   "source": []
  },
  {
   "cell_type": "code",
   "execution_count": null,
   "metadata": {
    "collapsed": true
   },
   "outputs": [],
   "source": []
  }
 ],
 "metadata": {
  "kernelspec": {
   "display_name": "Python 2",
   "language": "python",
   "name": "python2"
  },
  "language_info": {
   "codemirror_mode": {
    "name": "ipython",
    "version": 2
   },
   "file_extension": ".py",
   "mimetype": "text/x-python",
   "name": "python",
   "nbconvert_exporter": "python",
   "pygments_lexer": "ipython2",
   "version": "2.7.6"
  }
 },
 "nbformat": 4,
 "nbformat_minor": 0
}
