{
 "cells": [
  {
   "cell_type": "markdown",
   "metadata": {
    "collapsed": true
   },
   "source": [
    "# Что тут происходит:\n",
    " * здесь предпосчитываются Retina-представления данных"
   ]
  },
  {
   "cell_type": "code",
   "execution_count": 3,
   "metadata": {
    "collapsed": true
   },
   "outputs": [],
   "source": [
    "import sys\n",
    "sys.path.append(\"..\")"
   ]
  },
  {
   "cell_type": "code",
   "execution_count": 4,
   "metadata": {
    "collapsed": false
   },
   "outputs": [
    {
     "name": "stdout",
     "output_type": "stream",
     "text": [
      "Couldn't import dot_parser, loading of dot files will not be possible.\n"
     ]
    }
   ],
   "source": [
    "import os\n",
    "import pandas as pd\n",
    "import theano\n",
    "theano.config.floatX = \"float32\"\n",
    "from sklearn.externals import joblib\n",
    "import random\n",
    "from retina.retina_theano import Retina\n",
    "import numpy as np"
   ]
  },
  {
   "cell_type": "markdown",
   "metadata": {},
   "source": [
    "## Retina, которая за velo"
   ]
  },
  {
   "cell_type": "code",
   "execution_count": 3,
   "metadata": {
    "collapsed": false
   },
   "outputs": [],
   "source": [
    "ks = np.zeros(3)\n",
    "ks[2]+=2000\n",
    "xdim = ydim = 32\n",
    "dalpha = np.pi/8\n",
    "dbeta = np.pi/8\n",
    "alpha = 0\n",
    "beta = 0\n",
    "alphas = np.linspace(-dalpha+alpha, alpha+dalpha,num=xdim)\n",
    "bethas = np.linspace(-dbeta+beta, beta+dbeta,num=ydim)\n",
    "sigma = 50\n",
    "#ks = KS[evtids_ks[i]][2]\n",
    "\n",
    "retina0 = Retina(ks,alphas,bethas,variance=sigma)"
   ]
  },
  {
   "cell_type": "markdown",
   "metadata": {},
   "source": [
    "# Retina, которая вторая"
   ]
  },
  {
   "cell_type": "code",
   "execution_count": 4,
   "metadata": {
    "collapsed": false
   },
   "outputs": [],
   "source": [
    "ks = np.zeros(3)\n",
    "xdim = ydim = 32\n",
    "ks[0] = 1016.31\n",
    "ks[1] = 172.755\n",
    "ks[2] = 12969.2\n",
    "dalpha = 1.0472\n",
    "dbeta = 1.0472\n",
    "alpha = 0.393943\n",
    "beta = 0.0705397\n",
    "alphas = np.linspace(-dalpha+alpha, alpha+dalpha,num=xdim)\n",
    "bethas = np.linspace(-dbeta+beta, beta+dbeta,num=ydim)\n",
    "sigma = 500\n",
    "\n",
    "\n",
    "retina1 = Retina(ks,alphas,bethas,variance=sigma)"
   ]
  },
  {
   "cell_type": "code",
   "execution_count": 5,
   "metadata": {
    "collapsed": true
   },
   "outputs": [],
   "source": [
    "retinas = {\n",
    "    'retina0':retina0,\n",
    "    'retina1':retina1,\n",
    "}"
   ]
  },
  {
   "cell_type": "markdown",
   "metadata": {},
   "source": [
    "## обработка"
   ]
  },
  {
   "cell_type": "code",
   "execution_count": 12,
   "metadata": {
    "collapsed": false
   },
   "outputs": [],
   "source": [
    "\n",
    "\n",
    "input_folders = \"/mnt/KSfinder/mc_bg_down_hits/\",\"/mnt/KSfinder/mc_bg_up_hits/\",\"/mnt/KSfinder/mc_sig_hits/\"\n",
    "output_names = \"mc_bg_down\",\"mc_bg_up\",\"mc_sig\"\n",
    "output_folder = \"/mnt/KSfinder/\"\n",
    "\n",
    "\n"
   ]
  },
  {
   "cell_type": "code",
   "execution_count": 13,
   "metadata": {
    "collapsed": false
   },
   "outputs": [
    {
     "name": "stdout",
     "output_type": "stream",
     "text": [
      "retinizing up to 5000 events from /mnt/KSfinder/mc_bg_down_hits/\n",
      "using retina0\n",
      "applying retina...\n",
      "saving...\n",
      "done\n",
      "retina images saved as /mnt/KSfinder/mc_bg_down_retina0.npy\n",
      "\n",
      "using retina1\n",
      "applying retina...\n",
      "saving...\n",
      "done\n",
      "retina images saved as /mnt/KSfinder/mc_bg_down_retina1.npy\n",
      "\n",
      "retinizing up to 5000 events from /mnt/KSfinder/mc_bg_up_hits/\n",
      "using retina0\n",
      "applying retina...\n",
      "saving...\n",
      "done\n",
      "retina images saved as /mnt/KSfinder/mc_bg_up_retina0.npy\n",
      "\n",
      "using retina1\n",
      "applying retina...\n",
      "saving...\n",
      "done\n",
      "retina images saved as /mnt/KSfinder/mc_bg_up_retina1.npy\n",
      "\n",
      "retinizing up to 5000 events from /mnt/KSfinder/mc_sig_hits/\n",
      "using retina0\n",
      "applying retina...\n",
      "saving...\n",
      "done\n",
      "retina images saved as /mnt/KSfinder/mc_sig_retina0.npy\n",
      "\n",
      "using retina1\n",
      "applying retina...\n",
      "saving...\n",
      "done\n",
      "retina images saved as /mnt/KSfinder/mc_sig_retina1.npy\n",
      "\n"
     ]
    }
   ],
   "source": [
    "from retinize import retinize_folder\n",
    "\n",
    "n_events = 5000\n",
    "\n",
    "for folder, out_name in zip(input_folders,output_names):\n",
    "    print \"retinizing up to %i events from %s\"%(n_events,folder)\n",
    "\n",
    "    for retina_name, retina in retinas.items():\n",
    "    \n",
    "        output_path = os.path.join(output_folder,out_name+\"_\"+retina_name+\".npy\")\n",
    "        \n",
    "        print 'using',retina_name\n",
    "\n",
    "        _ = retinize_folder(folder, retina, out_file=output_path, max_rows=n_events )\n",
    "\n",
    "        print \"retina images saved as\",output_path\n",
    "        print\n"
   ]
  },
  {
   "cell_type": "code",
   "execution_count": null,
   "metadata": {
    "collapsed": true
   },
   "outputs": [],
   "source": []
  }
 ],
 "metadata": {
  "kernelspec": {
   "display_name": "Python 2",
   "language": "python",
   "name": "python2"
  },
  "language_info": {
   "codemirror_mode": {
    "name": "ipython",
    "version": 2
   },
   "file_extension": ".py",
   "mimetype": "text/x-python",
   "name": "python",
   "nbconvert_exporter": "python",
   "pygments_lexer": "ipython2",
   "version": "2.7.6"
  }
 },
 "nbformat": 4,
 "nbformat_minor": 0
}
