{
 "cells": [
  {
   "cell_type": "code",
   "execution_count": 1,
   "metadata": {
    "collapsed": false
   },
   "outputs": [],
   "source": [
    "import numpy as np\n",
    "\n",
    "from matplotlib import pyplot as plt\n",
    "%matplotlib inline\n",
    "\n"
   ]
  },
  {
   "cell_type": "markdown",
   "metadata": {},
   "source": [
    "# retinas"
   ]
  },
  {
   "cell_type": "code",
   "execution_count": 2,
   "metadata": {
    "collapsed": false
   },
   "outputs": [
    {
     "name": "stdout",
     "output_type": "stream",
     "text": [
      "Couldn't import dot_parser, loading of dot files will not be possible.\n"
     ]
    }
   ],
   "source": [
    "from retina.retina_theanized import Retina"
   ]
  },
  {
   "cell_type": "code",
   "execution_count": 3,
   "metadata": {
    "collapsed": true
   },
   "outputs": [],
   "source": [
    "#retina testing\n",
    "\n",
    "def test(retina):\n",
    "    from retinize import retinize_folder\n",
    "    imgs= retinize_folder(\"/mnt/KSfinder/mc_sig_hits/\", retina, out_file=None, max_rows=8 ,n_shards=8)\n",
    "\n",
    "    for i in range(len(imgs)):\n",
    "        from matplotlib import pyplot as plt\n",
    "        %matplotlib inline\n",
    "        plt.imshow(imgs[i].reshape(32,32))\n",
    "        plt.show()"
   ]
  },
  {
   "cell_type": "code",
   "execution_count": 4,
   "metadata": {
    "collapsed": true
   },
   "outputs": [],
   "source": [
    "# retina that sits after VELO\n",
    "ks = np.zeros(3)\n",
    "ks[2]+=2000\n",
    "xdim = ydim = 32\n",
    "dalpha = np.pi/8\n",
    "dbeta = np.pi/8\n",
    "alpha = 0\n",
    "beta = 0\n",
    "alphas = np.linspace(-dalpha+alpha, alpha+dalpha,num=xdim)\n",
    "bethas = np.linspace(-dbeta+beta, beta+dbeta,num=ydim)\n",
    "sigma = 50\n",
    "#ks = KS[evtids_ks[i]][2]\n",
    "\n",
    "retina_afterVelo = Retina(ks,alphas,bethas,variance=sigma)"
   ]
  },
  {
   "cell_type": "code",
   "execution_count": 5,
   "metadata": {
    "collapsed": true
   },
   "outputs": [],
   "source": [
    "# retina that looks around ECAL\n",
    "ks = np.zeros(3)\n",
    "xdim = ydim = 32\n",
    "ks[0] = 1016.31\n",
    "ks[1] = 172.755\n",
    "ks[2] = 12969.2\n",
    "dalpha = 1.0472\n",
    "dbeta = 1.0472\n",
    "alpha = 0.393943\n",
    "beta = 0.0705397\n",
    "alphas = np.linspace(-dalpha+alpha, alpha+dalpha,num=xdim)\n",
    "bethas = np.linspace(-dbeta+beta, beta+dbeta,num=ydim)\n",
    "sigma = 500\n",
    "\n",
    "retina_nearECAL = Retina(ks,alphas,bethas,variance=sigma)"
   ]
  },
  {
   "cell_type": "code",
   "execution_count": 6,
   "metadata": {
    "collapsed": true
   },
   "outputs": [],
   "source": [
    "# retina that sits before TT\n",
    "ks = np.zeros(3)\n",
    "ks[2]+= -200\n",
    "xdim = ydim = 32\n",
    "dalpha = np.pi/8\n",
    "dbeta = np.pi/8\n",
    "alpha = 0\n",
    "beta = 0\n",
    "alphas = np.linspace(-dalpha+alpha, alpha+dalpha,num=xdim)\n",
    "bethas = np.linspace(-dbeta+beta, beta+dbeta,num=ydim)\n",
    "sigma = 50\n",
    "#ks = KS[evtids_ks[i]][2]\n",
    "\n",
    "retina_beforeTT = Retina(ks,alphas,bethas,variance=sigma)"
   ]
  },
  {
   "cell_type": "code",
   "execution_count": 7,
   "metadata": {
    "collapsed": true
   },
   "outputs": [],
   "source": [
    "ks = np.zeros(3)\n",
    "xdim = ydim = 32\n",
    "ks[0] = 0\n",
    "ks[1] = 500\n",
    "ks[2] = 6000\n",
    "dalpha = 0.5472\n",
    "dbeta = 0.5472\n",
    "alpha = 0\n",
    "beta = 0\n",
    "alphas = np.linspace(-dalpha+alpha, alpha+dalpha,num=xdim)\n",
    "bethas = np.linspace(-dbeta+beta, beta+dbeta,num=ydim)\n",
    "sigma = 500\n",
    "\n",
    "\n",
    "retina_middle = Retina(ks,alphas,bethas,variance=sigma)"
   ]
  },
  {
   "cell_type": "code",
   "execution_count": 8,
   "metadata": {
    "collapsed": true
   },
   "outputs": [],
   "source": [
    "# retina that sits before TT\n",
    "ks = np.zeros(3)\n",
    "ks[2]+= -100\n",
    "ks[0] += -100\n",
    "xdim = ydim = 32\n",
    "dalpha = np.pi/8\n",
    "dbeta = np.pi/8\n",
    "alpha = -0.5\n",
    "beta = 0\n",
    "alphas = np.linspace(-dalpha+alpha, alpha+dalpha,num=xdim)\n",
    "bethas = np.linspace(-dbeta+beta, beta+dbeta,num=ydim)\n",
    "sigma = 20\n",
    "#ks = KS[evtids_ks[i]][2]\n",
    "\n",
    "retina_beforeTT = Retina(ks,alphas,bethas,variance=sigma)\n"
   ]
  },
  {
   "cell_type": "code",
   "execution_count": 9,
   "metadata": {
    "collapsed": true
   },
   "outputs": [],
   "source": [
    "retinas = {\n",
    "    \"retina_after_velo\":retina_afterVelo,\n",
    "    \"retina_middle\":retina_middle,\n",
    "    \"retina_near_Ecal\":retina_nearECAL,\n",
    "    \"retina_before_TT\":retina_beforeTT\n",
    "    \n",
    "}"
   ]
  },
  {
   "cell_type": "markdown",
   "metadata": {},
   "source": [
    "# prepare metadata"
   ]
  },
  {
   "cell_type": "code",
   "execution_count": 10,
   "metadata": {
    "collapsed": false
   },
   "outputs": [],
   "source": [
    "sig_folder = \"/mnt/KSfinder/mc_sig_hits/\"\n",
    "output_folder = \"/mnt/KSfinder/\""
   ]
  },
  {
   "cell_type": "markdown",
   "metadata": {},
   "source": [
    "### save retinas themselves"
   ]
  },
  {
   "cell_type": "code",
   "execution_count": 11,
   "metadata": {
    "collapsed": false
   },
   "outputs": [
    {
     "name": "stdout",
     "output_type": "stream",
     "text": [
      "saved retina_before_TT to /mnt/KSfinder/retina_before_TT.pcl\n",
      "saved retina_middle to /mnt/KSfinder/retina_middle.pcl\n",
      "saved retina_after_velo to /mnt/KSfinder/retina_after_velo.pcl\n",
      "saved retina_near_Ecal to /mnt/KSfinder/retina_near_Ecal.pcl\n"
     ]
    }
   ],
   "source": [
    "import pickle\n",
    "import os\n",
    "for retina_name, retina in retinas.items():\n",
    "    \n",
    "    fpath = os.path.join(output_folder,retina_name+'.pcl')\n",
    "    with open(fpath,'w')as fout:\n",
    "        pickle.dump(retina,fout)\n",
    "        print \"saved\",retina_name, 'to',fpath\n",
    "\n",
    "    "
   ]
  },
  {
   "cell_type": "markdown",
   "metadata": {},
   "source": [
    "### retinize hits, save both hits and names"
   ]
  },
  {
   "cell_type": "code",
   "execution_count": null,
   "metadata": {
    "collapsed": false,
    "scrolled": true
   },
   "outputs": [
    {
     "name": "stdout",
     "output_type": "stream",
     "text": [
      "processing retina_before_TT\n",
      "applying retina...\n"
     ]
    }
   ],
   "source": [
    "from retinize import retinize_folder\n",
    "for retina_name, retina in retinas.items():\n",
    "    \n",
    "    print \"processing\", retina_name\n",
    "    \n",
    "    names,images = retinize_folder(sig_folder,retina,\n",
    "                              max_rows = float('inf'),\n",
    "                             out_file = None,\n",
    "                             return_names = True,)\n",
    "    #save representations\n",
    "    print \"saving...\"\n",
    "    img_fpath = os.path.join(output_folder,\"images_from_\"+retina_name+'.npy')\n",
    "    np.save(img_fpath,images)\n",
    "    print 'images saved at',img_fpath\n",
    "    \n",
    "    name_fpath = os.path.join(output_folder,\"image_event_names_from_\"+retina_name+'.pcl')\n",
    "    with open(name_fpath,'w') as fout:\n",
    "        pickle.dump(names,fout)\n",
    "    print 'names saved at',name_fpath\n",
    "    print \"done\"\n",
    "                              \n",
    "    "
   ]
  },
  {
   "cell_type": "code",
   "execution_count": null,
   "metadata": {
    "collapsed": false
   },
   "outputs": [],
   "source": [
    "#assemble them into a single dataset\n",
    "name_sequences = []\n",
    "image_sequences = []\n",
    "for retina_name, retina in retinas.items():\n",
    "    \n",
    "    print \"loading\", retina_name,'data'\n",
    "    with open(os.path.join(output_folder,\"image_event_names_from_\"+retina_name+'.pcl')) as fnames:\n",
    "        name_sequences.append(pickle.load(fnames))\n",
    "    \n",
    "    \n",
    "    image_sequences.append( np.load( os.path.join(output_folder,\"images_from_\"+retina_name+'.npy') ) )\n",
    "    \n",
    "    \n",
    "    "
   ]
  },
  {
   "cell_type": "code",
   "execution_count": null,
   "metadata": {
    "collapsed": false
   },
   "outputs": [],
   "source": [
    "#assert that the names go in the same order\n",
    "reference_names = names = name_sequences[0]\n",
    "for seq in name_sequences:\n",
    "    assert reference_names == seq\n",
    "print \"all sequences are aligned correctly\""
   ]
  },
  {
   "cell_type": "code",
   "execution_count": null,
   "metadata": {
    "collapsed": false
   },
   "outputs": [],
   "source": [
    "#get the order of (runIDs,eventIDs) of the images\n",
    "run_event_pairs = map(lambda name: name.split(\".\")[0].split(\"_\"), names)\n",
    "runIDs,eventIDs =  zip(*run_event_pairs)\n",
    "runIDs = map(int,runIDs)\n",
    "eventIDs = map(int,eventIDs)"
   ]
  },
  {
   "cell_type": "code",
   "execution_count": null,
   "metadata": {
    "collapsed": false
   },
   "outputs": [],
   "source": [
    "#aggregate images from all retinas\n",
    "joint_images = map( np.concatenate, zip(*image_sequences))\n",
    "joint_images = np.vstack(joint_images)\n",
    "\n",
    "xdim=ydim=32\n",
    "\n",
    "joint_images = joint_images.reshape(-1,len(image_sequences),xdim,ydim)"
   ]
  },
  {
   "cell_type": "code",
   "execution_count": null,
   "metadata": {
    "collapsed": false
   },
   "outputs": [],
   "source": [
    "print joint_images.shape\n",
    "#sanity check: sample image tuple, stacked horizontally\n",
    "plt.imshow(np.hstack(joint_images[0]))"
   ]
  },
  {
   "cell_type": "markdown",
   "metadata": {},
   "source": [
    "### read decays"
   ]
  },
  {
   "cell_type": "code",
   "execution_count": null,
   "metadata": {
    "collapsed": false
   },
   "outputs": [],
   "source": [
    "#auxilary functions to preprocess decay data\n",
    "import pandas as pd\n",
    "def decayQuality(decayString):\n",
    "    '''how orthodoxal KS is [lower = better]'''\n",
    "    particle_codes = decayString.split('&')\n",
    "    piplus_count = particle_codes.count('211')\n",
    "    piminus_count = particle_codes.count('-211')\n",
    "    \n",
    "    if piplus_count ==0 and piminus_count ==0: return float('inf')\n",
    "    \n",
    "    return len(particle_codes) - piplus_count - piminus_count\n",
    "def preprocess_decay_data(df_path,\n",
    "                          min_decay_z = 500,\n",
    "                          max_quality = 3,\n",
    "                          max_origin_distance=500,\n",
    "                          min_flight_distance = 0,\n",
    "                          ):\n",
    "    \"\"\"load KS decay dataframe generated by /preprocess/KS_extractor.py \n",
    "    and filter out irrelevant decays (e.g. Ks->2pi0)\"\"\"\n",
    "    \n",
    "    print \"reading\",df_path\n",
    "\n",
    "    \n",
    "    decay_df = pd.DataFrame.from_csv(df_path,index_col=None,sep=';')\n",
    "    decay_df.children = decay_df.children.astype(np.string_)\n",
    "\n",
    "    print len(np.unique( (decay_df.runID,decay_df.eventID))),'events in dataframe'\n",
    "\n",
    "\n",
    "    decay_df[\"originDistanceZ\"] = (decay_df.originZ - decay_df.primaryZ)\n",
    "    \n",
    "    decay_df[\"decayQuality\"] = map(decayQuality,decay_df.children)\n",
    "    \n",
    "    decay_vectors = decay_df[[\"decayX\",\"decayY\",\"decayZ\"]].values\n",
    "    origin_vectors = decay_df[[\"originX\",\"originY\",\"originZ\"]].values\n",
    "    decay_df[\"flightDistance\"] = np.linalg.norm(decay_vectors-origin_vectors,axis=1)\n",
    "    \n",
    "    \n",
    "    isGood = np.logical_and.reduce([\n",
    "        decay_df.decayQuality <=max_quality,\n",
    "        decay_df.originDistanceZ.abs() <= max_origin_distance,\n",
    "        decay_df.flightDistance >= min_flight_distance,\n",
    "        decay_df.decayZ >= min_decay_z\n",
    "    ])\n",
    "    good_decay_df = decay_df[isGood]\n",
    "    print len(np.unique( (good_decay_df.runID,good_decay_df.eventID))),'events left with relevant decays'\n",
    "    return good_decay_df"
   ]
  },
  {
   "cell_type": "code",
   "execution_count": null,
   "metadata": {
    "collapsed": false
   },
   "outputs": [],
   "source": [
    "decay_df_paths = [\"/mnt/KSfinder/mc_sig/KS_decays_5.csv\",\"/mnt/KSfinder/mc_sig/KS_decays_6.csv\"]\n",
    "\n",
    "decay_dataframe_shards = map(preprocess_decay_data,decay_df_paths)\n",
    "\n",
    "decays = pd.concat(decay_dataframe_shards)\n",
    "\n",
    "print len(decays),'relevant decays total in all dataframes'\n",
    "print 'grouping...'\n",
    "\n",
    "#function (runID(int),eventID(int)) -> decays for this pair(df)\n",
    "decay_groups = decays.groupby([\"runID\",\"eventID\"],as_index=True)\n",
    "\n",
    "#strip unused columns\n",
    "decay_groups = decay_groups[[u'decayX',u'decayY',u'decayZ',u'children',u'flightDistance']]\n",
    "\n",
    "#e.g. decay_groups.get_group((3695761 ,485762))\n",
    "print 'done'"
   ]
  },
  {
   "cell_type": "markdown",
   "metadata": {},
   "source": [
    "# generate output via percentile mappers"
   ]
  },
  {
   "cell_type": "code",
   "execution_count": null,
   "metadata": {
    "collapsed": false
   },
   "outputs": [],
   "source": [
    "from retina.percentile_grid import PercentileSpaceMapper1D\n",
    "#on what PercentileSpaceMapper does, see percentile-mapper-tests.ipynb\n",
    "\n",
    "xmapper = PercentileSpaceMapper1D(decays.decayX,n_centers=50,sigma=3.)\n",
    "ymapper = PercentileSpaceMapper1D(decays.decayY,n_centers=50,sigma=3.)\n",
    "zmapper = PercentileSpaceMapper1D(decays.decayZ,n_centers=50,sigma = 3.)\n"
   ]
  },
  {
   "cell_type": "markdown",
   "metadata": {},
   "source": [
    "# Aggregation"
   ]
  },
  {
   "cell_type": "code",
   "execution_count": null,
   "metadata": {
    "collapsed": false
   },
   "outputs": [],
   "source": [
    "%%time\n",
    "\n",
    "#aligning images with decays\n",
    "# sorry i'm just too lazy to implement joblib parallelism here, \n",
    "# even so, it takes a tea cup to process 30k events\n",
    "\n",
    "\n",
    "#runIDs,eventIDs are left from retina image preprocessing phase\n",
    "\n",
    "X_images = []\n",
    "y_images = []\n",
    "for i,(runID,eventID,image_set) in enumerate(zip(runIDs,eventIDs,joint_images)):\n",
    "    \n",
    "    if (runID,eventID) not in decay_groups.groups:\n",
    "        continue\n",
    "    \n",
    "    event_decays = decay_groups.get_group((runID,eventID))\n",
    "    \n",
    "    xmap = xmapper.get_activity_percentile(event_decays.decayX.values)\n",
    "    ymap = ymapper.get_activity_percentile(event_decays.decayY.values)\n",
    "    zmap = zmapper.get_activity_percentile(event_decays.decayZ.values)\n",
    "    \n",
    "    target = np.vstack([xmap,ymap,zmap])\n",
    "    \n",
    "    X_images.append(image_set)\n",
    "    y_images.append(target)\n",
    "    \n",
    "    if i%1000==0:\n",
    "        plt.figure(figsize = [10,3])\n",
    "        plt.title(\"input %s/%s\"%(i,len(joint_images)))\n",
    "        plt.imshow(np.hstack(image_set))\n",
    "        plt.show()\n",
    "\n",
    "        plt.figure(figsize = [10,3])\n",
    "        plt.title(\"target %s/%s\"%(i,len(joint_images)))\n",
    "        plt.imshow(target,interpolation='none')\n",
    "        plt.show()\n",
    "    \n",
    "    "
   ]
  },
  {
   "cell_type": "code",
   "execution_count": null,
   "metadata": {
    "collapsed": false
   },
   "outputs": [],
   "source": [
    "prepend_dim = lambda img:img[np.newaxis,...]\n",
    "\n",
    "X = np.concatenate(map(prepend_dim,X_images))\n",
    "y = np.concatenate(map(prepend_dim,y_images))\n",
    "print X.shape, y.shape"
   ]
  },
  {
   "cell_type": "code",
   "execution_count": null,
   "metadata": {
    "collapsed": true
   },
   "outputs": [],
   "source": [
    "np.save(os.path.join(output_folder,\"ksfinder_images.npy\"),X)\n",
    "np.save(os.path.join(output_folder,\"ksfinder_targets.npy\"),y)"
   ]
  },
  {
   "cell_type": "code",
   "execution_count": null,
   "metadata": {
    "collapsed": true
   },
   "outputs": [],
   "source": []
  },
  {
   "cell_type": "code",
   "execution_count": null,
   "metadata": {
    "collapsed": true
   },
   "outputs": [],
   "source": []
  }
 ],
 "metadata": {
  "kernelspec": {
   "display_name": "Python 2",
   "language": "python",
   "name": "python2"
  },
  "language_info": {
   "codemirror_mode": {
    "name": "ipython",
    "version": 2
   },
   "file_extension": ".py",
   "mimetype": "text/x-python",
   "name": "python",
   "nbconvert_exporter": "python",
   "pygments_lexer": "ipython2",
   "version": "2.7.6"
  }
 },
 "nbformat": 4,
 "nbformat_minor": 0
}
