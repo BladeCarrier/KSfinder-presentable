{
 "cells": [
  {
   "cell_type": "code",
   "execution_count": 1,
   "metadata": {
    "collapsed": false
   },
   "outputs": [
    {
     "name": "stdout",
     "output_type": "stream",
     "text": [
      "/home/jheuristic/yozhik/ksfinder\n"
     ]
    }
   ],
   "source": [
    "%load_ext autoreload\n",
    "%autoreload 2\n",
    "%cd ..\n",
    "\n",
    "import os\n",
    "import numpy as np\n",
    "import pandas as pd\n",
    "import matplotlib.pyplot as plt\n",
    "%matplotlib inline\n",
    "\n",
    "\n",
    "experiment_name = \"baseline.classifier.mine_retinas\"\n",
    "data_path = \"./data/sig56/\"\n",
    "\n",
    "reference_df_path = \"data/decays/long_ks_counts_56.csv\"\n",
    "\n",
    "\n",
    "output_path = os.path.join(\"data\",experiment_name)\n",
    "\n",
    "try:\n",
    "    os.mkdir(output_path)\n",
    "except:\n",
    "    pass"
   ]
  },
  {
   "cell_type": "code",
   "execution_count": 2,
   "metadata": {
    "collapsed": false
   },
   "outputs": [
    {
     "name": "stdout",
     "output_type": "stream",
     "text": [
      "env: THEANO_FLAGS=\"device=gpu3\"\n"
     ]
    },
    {
     "name": "stderr",
     "output_type": "stream",
     "text": [
      "Using gpu device 3: Tesla K40m (CNMeM is disabled, CuDNN 4004)\n"
     ]
    }
   ],
   "source": [
    "#import theano stack\n",
    "%env THEANO_FLAGS=\"device=gpu3\"\n",
    "\n",
    "import lasagne\n",
    "import theano\n",
    "import theano.tensor as T\n",
    "from lib.retina_compiled import retinize_events\n",
    "\n",
    "floatX = theano.config.floatX\n"
   ]
  },
  {
   "cell_type": "markdown",
   "metadata": {},
   "source": [
    "## Preprocess/Load data"
   ]
  },
  {
   "cell_type": "code",
   "execution_count": 3,
   "metadata": {
    "collapsed": true
   },
   "outputs": [],
   "source": [
    "from lib.retina_compiled import retina_view\n",
    "def random_retina(seed =None, xdim=32,ydim=32, dalpha = np.pi/3,dbeta = np.pi/3,return_params = True):\n",
    "    np.random.seed(seed)\n",
    "    x0 = np.random.normal(0,1000)\n",
    "    y0 = np.random.normal(0,1000)\n",
    "    z0 = np.random.uniform(-100,15000)\n",
    "    \n",
    "    z_c = np.random.uniform(z0-3000,z0+3000)\n",
    "    alpha = np.arctan(-x0/(z_c-z0))\n",
    "    beta = np.arctan(-y0/(z_c-z0))\n",
    "    \n",
    "    \n",
    "    variance = np.random.choice([10,50,75,100,250,500])**.5\n",
    "    \n",
    "    retina = retina_view(x0,y0,z0,alpha,beta,variance,\n",
    "                                xdim,ydim,dalpha,dbeta)\n",
    "    params = x0,y0,z0,alpha,beta,variance,xdim,ydim,dalpha,dbeta\n",
    "    return retina if not return_params else retina,params\n"
   ]
  },
  {
   "cell_type": "code",
   "execution_count": 4,
   "metadata": {
    "collapsed": true
   },
   "outputs": [],
   "source": [
    "from sklearn.cross_validation import train_test_split\n",
    "from sklearn.metrics import roc_auc_score,accuracy_score\n",
    "from sklearn.linear_model import LogisticRegressionCV\n",
    "from collections import OrderedDict\n",
    "\n",
    "\n",
    "def evaluate_retinas(X_retinas,y,verbose = True,test_size=0.25,cv=10):\n",
    "    \"\"\"evaluates retinas individually by training logistic regression on them.\n",
    "    X_retinas - a list of [n_samples,*] for each retina\n",
    "    y - classification target\n",
    "    verbose - whether to print progress\n",
    "    test_size = what fraction of X to take as a final test\n",
    "    cv = how many folds to crossvalidate when setting up regularizer for logistic regression\n",
    "    returns: list of dicts of metrics of Accuracy and Auc on train and test\"\"\"\n",
    "    results = []\n",
    "\n",
    "    for r_i in range(len(X_retinas)):\n",
    "        \n",
    "        print \"processing retina\",r_i\n",
    "        \n",
    "        X_i = X_retinas[r_i].reshape([len(X_retinas[r_i]),-1])\n",
    "        \n",
    "        Xtr, Xts, Ytr,Yts = train_test_split(X_i,y,test_size=test_size,random_state=1337)\n",
    "\n",
    "        print Ytr.shape,Yts.shape\n",
    "        lr = LogisticRegressionCV(cv=cv).fit(Xtr,Ytr)\n",
    "\n",
    "        Ytr_pred = lr.predict_proba(Xtr)[:,1]\n",
    "        Yts_pred = lr.predict_proba(Xts)[:,1]\n",
    "\n",
    "        metrics = [accuracy_score(Ytr,Ytr_pred>0.5),roc_auc_score(Ytr,Ytr_pred),\n",
    "                   accuracy_score(Yts,Yts_pred>0.5),roc_auc_score(Yts,Yts_pred)]\n",
    "\n",
    "        metric_names = ['acc train','auc train','acc test','auc test',]\n",
    "\n",
    "\n",
    "        report = OrderedDict(zip(metric_names,metrics))\n",
    "        \n",
    "        if verbose:\n",
    "            for m_name, m_val in report.items():\n",
    "                print \"%s: %.5f\"%(m_name,m_val)\n",
    "        results.append(report)\n",
    "    return results"
   ]
  },
  {
   "cell_type": "code",
   "execution_count": 5,
   "metadata": {
    "collapsed": true
   },
   "outputs": [],
   "source": [
    "def evaluate_random_retinas(event_names,y,n_retinas,seeds = None,batch_size = 8):\n",
    "    \n",
    "    if seeds is None:\n",
    "        seeds = [None]*n_retinas #Nonecat\n",
    "        \n",
    "    retinas,retina_params =  zip(*map(random_retina, seeds))\n",
    "\n",
    "        \n",
    "    #batch_size = a number of retinas computed in a single batch\n",
    "    n_batches = (len(retinas)-1)/batch_size +1\n",
    "    \n",
    "    reports = []\n",
    "    \n",
    "    for b_i in range(n_batches):\n",
    "        #concatenate all lines among grids in batches of 6 retinas each but for optionally the last one\n",
    "        \n",
    "        batch_retinas = retinas[batch_size*b_i:batch_size*(b_i+1)]\n",
    "\n",
    "\n",
    "        X_batch = retinize_events(event_names,data_path,\n",
    "                                  retina_views= batch_retinas,\n",
    "                                  max_hits_block=5000,report_rate=100)\n",
    "        \n",
    "        X_batch = X_batch.reshape([len(X_batch),len(batch_retinas),-1])\n",
    "        \n",
    "        X_retinas = [X_batch[:,r_i] for r_i in range(X_batch.shape[1])]\n",
    "    \n",
    "        reports += evaluate_retinas(X_retinas,y)\n",
    "\n",
    "    return retinas,retina_params,reports\n",
    "    \n",
    "    \n",
    "    "
   ]
  },
  {
   "cell_type": "code",
   "execution_count": 6,
   "metadata": {
    "collapsed": false
   },
   "outputs": [],
   "source": [
    "df_ref = pd.DataFrame.from_csv(reference_df_path,index_col=None)"
   ]
  },
  {
   "cell_type": "code",
   "execution_count": 7,
   "metadata": {
    "collapsed": true
   },
   "outputs": [],
   "source": [
    "def next_batch_name(path,postfix=\".npy\"):\n",
    "    index = 0\n",
    "    while True:\n",
    "        candidate = os.path.join(path,\"batch\"+str(index)+postfix)\n",
    "        \n",
    "        if not os.path.exists(candidate):\n",
    "            return candidate\n",
    "        index +=1\n"
   ]
  },
  {
   "cell_type": "code",
   "execution_count": 8,
   "metadata": {
    "collapsed": false
   },
   "outputs": [
    {
     "name": "stdout",
     "output_type": "stream",
     "text": [
      "processing events: 100/1000\n",
      "processing events: 200/1000\n",
      "processing events: 300/1000\n"
     ]
    },
    {
     "ename": "KeyboardInterrupt",
     "evalue": "",
     "output_type": "error",
     "traceback": [
      "\u001b[1;31m---------------------------------------------------------------------------\u001b[0m",
      "\u001b[1;31mKeyboardInterrupt\u001b[0m                         Traceback (most recent call last)",
      "\u001b[1;32m<ipython-input-8-c01e3ac302f5>\u001b[0m in \u001b[0;36m<module>\u001b[1;34m()\u001b[0m\n\u001b[0;32m      2\u001b[0m     res=evaluate_random_retinas(df_ref.X_filename[:1000],\n\u001b[0;32m      3\u001b[0m                             \u001b[0mdf_ref\u001b[0m\u001b[1;33m.\u001b[0m\u001b[0mrelevant_decay_count\u001b[0m\u001b[1;33m[\u001b[0m\u001b[1;33m:\u001b[0m\u001b[1;36m1000\u001b[0m\u001b[1;33m]\u001b[0m\u001b[1;33m>\u001b[0m\u001b[1;36m0\u001b[0m\u001b[1;33m,\u001b[0m\u001b[1;33m\u001b[0m\u001b[0m\n\u001b[1;32m----> 4\u001b[1;33m                             n_retinas= 32)\n\u001b[0m\u001b[0;32m      5\u001b[0m \u001b[1;33m\u001b[0m\u001b[0m\n\u001b[0;32m      6\u001b[0m     \u001b[0mretinas\u001b[0m\u001b[1;33m,\u001b[0m\u001b[0mretina_params\u001b[0m\u001b[1;33m,\u001b[0m\u001b[0mreports\u001b[0m\u001b[1;33m=\u001b[0m\u001b[0mres\u001b[0m\u001b[1;33m\u001b[0m\u001b[0m\n",
      "\u001b[1;32m<ipython-input-5-d934894494c1>\u001b[0m in \u001b[0;36mevaluate_random_retinas\u001b[1;34m(event_names, y, n_retinas, seeds, batch_size)\u001b[0m\n\u001b[0;32m     20\u001b[0m         X_batch = retinize_events(event_names,data_path,\n\u001b[0;32m     21\u001b[0m                                   \u001b[0mretina_views\u001b[0m\u001b[1;33m=\u001b[0m \u001b[0mbatch_retinas\u001b[0m\u001b[1;33m,\u001b[0m\u001b[1;33m\u001b[0m\u001b[0m\n\u001b[1;32m---> 22\u001b[1;33m                                   max_hits_block=5000,report_rate=100)\n\u001b[0m\u001b[0;32m     23\u001b[0m \u001b[1;33m\u001b[0m\u001b[0m\n\u001b[0;32m     24\u001b[0m         \u001b[0mX_batch\u001b[0m \u001b[1;33m=\u001b[0m \u001b[0mX_batch\u001b[0m\u001b[1;33m.\u001b[0m\u001b[0mreshape\u001b[0m\u001b[1;33m(\u001b[0m\u001b[1;33m[\u001b[0m\u001b[0mlen\u001b[0m\u001b[1;33m(\u001b[0m\u001b[0mX_batch\u001b[0m\u001b[1;33m)\u001b[0m\u001b[1;33m,\u001b[0m\u001b[0mlen\u001b[0m\u001b[1;33m(\u001b[0m\u001b[0mbatch_retinas\u001b[0m\u001b[1;33m)\u001b[0m\u001b[1;33m,\u001b[0m\u001b[1;33m-\u001b[0m\u001b[1;36m1\u001b[0m\u001b[1;33m]\u001b[0m\u001b[1;33m)\u001b[0m\u001b[1;33m\u001b[0m\u001b[0m\n",
      "\u001b[1;32m/home/jheuristic/yozhik/ksfinder/lib/retina_compiled.pyc\u001b[0m in \u001b[0;36mretinize_events\u001b[1;34m(event_names, event_folder, retina_views, max_hits_block, max_hits_batch, report_rate)\u001b[0m\n\u001b[0;32m    266\u001b[0m \u001b[1;33m\u001b[0m\u001b[0m\n\u001b[0;32m    267\u001b[0m         \u001b[0mevtbatch\u001b[0m\u001b[1;33m.\u001b[0m\u001b[0mload_events\u001b[0m\u001b[1;33m(\u001b[0m\u001b[0mbatch_hit_xyz\u001b[0m\u001b[1;33m)\u001b[0m\u001b[1;33m\u001b[0m\u001b[0m\n\u001b[1;32m--> 268\u001b[1;33m         \u001b[0mretina_image_batch\u001b[0m \u001b[1;33m=\u001b[0m \u001b[0mprocess_event_batch\u001b[0m\u001b[1;33m(\u001b[0m\u001b[1;33m)\u001b[0m\u001b[1;33m\u001b[0m\u001b[0m\n\u001b[0m\u001b[0;32m    269\u001b[0m \u001b[1;33m\u001b[0m\u001b[0m\n\u001b[0;32m    270\u001b[0m \u001b[1;33m\u001b[0m\u001b[0m\n",
      "\u001b[1;32m/home/jheuristic/thenv/local/lib/python2.7/site-packages/theano/compile/function_module.pyc\u001b[0m in \u001b[0;36m__call__\u001b[1;34m(self, *args, **kwargs)\u001b[0m\n\u001b[0;32m    857\u001b[0m         \u001b[0mt0_fn\u001b[0m \u001b[1;33m=\u001b[0m \u001b[0mtime\u001b[0m\u001b[1;33m.\u001b[0m\u001b[0mtime\u001b[0m\u001b[1;33m(\u001b[0m\u001b[1;33m)\u001b[0m\u001b[1;33m\u001b[0m\u001b[0m\n\u001b[0;32m    858\u001b[0m         \u001b[1;32mtry\u001b[0m\u001b[1;33m:\u001b[0m\u001b[1;33m\u001b[0m\u001b[0m\n\u001b[1;32m--> 859\u001b[1;33m             \u001b[0moutputs\u001b[0m \u001b[1;33m=\u001b[0m \u001b[0mself\u001b[0m\u001b[1;33m.\u001b[0m\u001b[0mfn\u001b[0m\u001b[1;33m(\u001b[0m\u001b[1;33m)\u001b[0m\u001b[1;33m\u001b[0m\u001b[0m\n\u001b[0m\u001b[0;32m    860\u001b[0m         \u001b[1;32mexcept\u001b[0m \u001b[0mException\u001b[0m\u001b[1;33m:\u001b[0m\u001b[1;33m\u001b[0m\u001b[0m\n\u001b[0;32m    861\u001b[0m             \u001b[1;32mif\u001b[0m \u001b[0mhasattr\u001b[0m\u001b[1;33m(\u001b[0m\u001b[0mself\u001b[0m\u001b[1;33m.\u001b[0m\u001b[0mfn\u001b[0m\u001b[1;33m,\u001b[0m \u001b[1;34m'position_of_error'\u001b[0m\u001b[1;33m)\u001b[0m\u001b[1;33m:\u001b[0m\u001b[1;33m\u001b[0m\u001b[0m\n",
      "\u001b[1;32m/home/jheuristic/thenv/local/lib/python2.7/site-packages/theano/scan_module/scan_op.pyc\u001b[0m in \u001b[0;36mrval\u001b[1;34m(p, i, o, n, allow_gc)\u001b[0m\n\u001b[0;32m    949\u001b[0m         def rval(p=p, i=node_input_storage, o=node_output_storage, n=node,\n\u001b[0;32m    950\u001b[0m                  allow_gc=allow_gc):\n\u001b[1;32m--> 951\u001b[1;33m             \u001b[0mr\u001b[0m \u001b[1;33m=\u001b[0m \u001b[0mp\u001b[0m\u001b[1;33m(\u001b[0m\u001b[0mn\u001b[0m\u001b[1;33m,\u001b[0m \u001b[1;33m[\u001b[0m\u001b[0mx\u001b[0m\u001b[1;33m[\u001b[0m\u001b[1;36m0\u001b[0m\u001b[1;33m]\u001b[0m \u001b[1;32mfor\u001b[0m \u001b[0mx\u001b[0m \u001b[1;32min\u001b[0m \u001b[0mi\u001b[0m\u001b[1;33m]\u001b[0m\u001b[1;33m,\u001b[0m \u001b[0mo\u001b[0m\u001b[1;33m)\u001b[0m\u001b[1;33m\u001b[0m\u001b[0m\n\u001b[0m\u001b[0;32m    952\u001b[0m             \u001b[1;32mfor\u001b[0m \u001b[0mo\u001b[0m \u001b[1;32min\u001b[0m \u001b[0mnode\u001b[0m\u001b[1;33m.\u001b[0m\u001b[0moutputs\u001b[0m\u001b[1;33m:\u001b[0m\u001b[1;33m\u001b[0m\u001b[0m\n\u001b[0;32m    953\u001b[0m                 \u001b[0mcompute_map\u001b[0m\u001b[1;33m[\u001b[0m\u001b[0mo\u001b[0m\u001b[1;33m]\u001b[0m\u001b[1;33m[\u001b[0m\u001b[1;36m0\u001b[0m\u001b[1;33m]\u001b[0m \u001b[1;33m=\u001b[0m \u001b[0mTrue\u001b[0m\u001b[1;33m\u001b[0m\u001b[0m\n",
      "\u001b[1;32m/home/jheuristic/thenv/local/lib/python2.7/site-packages/theano/scan_module/scan_op.pyc\u001b[0m in \u001b[0;36m<lambda>\u001b[1;34m(node, args, outs)\u001b[0m\n\u001b[0;32m    938\u001b[0m                         \u001b[0margs\u001b[0m\u001b[1;33m,\u001b[0m\u001b[1;33m\u001b[0m\u001b[0m\n\u001b[0;32m    939\u001b[0m                         \u001b[0mouts\u001b[0m\u001b[1;33m,\u001b[0m\u001b[1;33m\u001b[0m\u001b[0m\n\u001b[1;32m--> 940\u001b[1;33m                         self, node)\n\u001b[0m\u001b[0;32m    941\u001b[0m         \u001b[1;32mexcept\u001b[0m \u001b[1;33m(\u001b[0m\u001b[0mImportError\u001b[0m\u001b[1;33m,\u001b[0m \u001b[0mtheano\u001b[0m\u001b[1;33m.\u001b[0m\u001b[0mgof\u001b[0m\u001b[1;33m.\u001b[0m\u001b[0mcmodule\u001b[0m\u001b[1;33m.\u001b[0m\u001b[0mMissingGXX\u001b[0m\u001b[1;33m)\u001b[0m\u001b[1;33m:\u001b[0m\u001b[1;33m\u001b[0m\u001b[0m\n\u001b[0;32m    942\u001b[0m             \u001b[0mp\u001b[0m \u001b[1;33m=\u001b[0m \u001b[0mself\u001b[0m\u001b[1;33m.\u001b[0m\u001b[0mexecute\u001b[0m\u001b[1;33m\u001b[0m\u001b[0m\n",
      "\u001b[1;31mKeyboardInterrupt\u001b[0m: "
     ]
    }
   ],
   "source": [
    "while True:\n",
    "    res=evaluate_random_retinas(df_ref.X_filename[:1000],\n",
    "                            df_ref.relevant_decay_count[:1000]>0,\n",
    "                            n_retinas= 32)\n",
    "\n",
    "    retinas,retina_params,reports=res\n",
    "\n",
    "    auc_threshold = 0.525\n",
    "    saved_retinas = {}\n",
    "\n",
    "\n",
    "    aucs = [report[\"auc test\"] for report in reports]\n",
    "    for retina,params,report,auc in zip(retinas,retina_params,reports,aucs):\n",
    "\n",
    "        if auc > auc_threshold:\n",
    "            saved_retinas[params]= (retina,report)\n",
    "\n",
    "\n",
    "\n",
    "    import pickle\n",
    "    with open(next_batch_name(os.path.join(\"data\",experiment_name)),'w') as fout:\n",
    "        pickle.dump(saved_retinas,fout)\n",
    "\n"
   ]
  },
  {
   "cell_type": "code",
   "execution_count": null,
   "metadata": {
    "collapsed": true
   },
   "outputs": [],
   "source": []
  }
 ],
 "metadata": {
  "kernelspec": {
   "display_name": "Python 2",
   "language": "python",
   "name": "python2"
  },
  "language_info": {
   "codemirror_mode": {
    "name": "ipython",
    "version": 2
   },
   "file_extension": ".py",
   "mimetype": "text/x-python",
   "name": "python",
   "nbconvert_exporter": "python",
   "pygments_lexer": "ipython2",
   "version": "2.7.3"
  }
 },
 "nbformat": 4,
 "nbformat_minor": 0
}
