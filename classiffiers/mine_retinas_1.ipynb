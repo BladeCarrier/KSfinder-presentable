{
 "cells": [
  {
   "cell_type": "code",
   "execution_count": 1,
   "metadata": {
    "collapsed": false
   },
   "outputs": [
    {
     "name": "stdout",
     "output_type": "stream",
     "text": [
      "/home/jheuristic/yozhik/ksfinder\n"
     ]
    }
   ],
   "source": [
    "%load_ext autoreload\n",
    "%autoreload 2\n",
    "%cd ..\n",
    "\n",
    "import os\n",
    "import numpy as np\n",
    "import pandas as pd\n",
    "import matplotlib.pyplot as plt\n",
    "%matplotlib inline\n",
    "\n",
    "\n",
    "experiment_name = \"baseline.classifier.mine_retinas\"\n",
    "data_path = \"./data/sig56/\"\n",
    "\n",
    "reference_df_path = \"data/decays/long_ks_counts_56.csv\"\n",
    "\n",
    "\n",
    "output_path = os.path.join(\"data\",experiment_name)\n",
    "\n",
    "try:\n",
    "    os.mkdir(output_path)\n",
    "except:\n",
    "    pass"
   ]
  },
  {
   "cell_type": "code",
   "execution_count": 2,
   "metadata": {
    "collapsed": false
   },
   "outputs": [
    {
     "name": "stdout",
     "output_type": "stream",
     "text": [
      "env: THEANO_FLAGS=\"device=gpu3\"\n"
     ]
    },
    {
     "name": "stderr",
     "output_type": "stream",
     "text": [
      "Using gpu device 3: Tesla K40m (CNMeM is disabled, CuDNN 4004)\n"
     ]
    }
   ],
   "source": [
    "#import theano stack\n",
    "%env THEANO_FLAGS=\"device=gpu3\"\n",
    "\n",
    "import lasagne\n",
    "import theano\n",
    "import theano.tensor as T\n",
    "from lib.retina_compiled import retinize_events\n",
    "\n",
    "floatX = theano.config.floatX\n"
   ]
  },
  {
   "cell_type": "markdown",
   "metadata": {},
   "source": [
    "## Preprocess/Load data"
   ]
  },
  {
   "cell_type": "code",
   "execution_count": 3,
   "metadata": {
    "collapsed": true
   },
   "outputs": [],
   "source": [
    "from lib.retina_compiled import retina_view\n",
    "def random_retina(seed =None, xdim=32,ydim=32, dalpha = np.pi/3,dbeta = np.pi/3,return_params = True):\n",
    "    np.random.seed(seed)\n",
    "    x0 = np.random.normal(0,1000)\n",
    "    y0 = np.random.normal(0,1000)\n",
    "    z0 = np.random.uniform(-100,15000)\n",
    "    \n",
    "    z_c = np.random.uniform(z0-3000,z0+3000)\n",
    "    alpha = np.arctan(-x0/(z_c-z0))\n",
    "    beta = np.arctan(-y0/(z_c-z0))\n",
    "    \n",
    "    \n",
    "    sigma = np.random.choice([10,50,75,100,250,500])\n",
    "    \n",
    "    retina = retina_view(x0,y0,z0,alpha,beta,sigma,\n",
    "                                xdim,ydim,dalpha,dbeta)\n",
    "    params = x0,y0,z0,alpha,beta,sigma,xdim,ydim,dalpha,dbeta\n",
    "    return retina if not return_params else retina,params\n"
   ]
  },
  {
   "cell_type": "code",
   "execution_count": 4,
   "metadata": {
    "collapsed": true
   },
   "outputs": [],
   "source": [
    "from sklearn.cross_validation import train_test_split\n",
    "from sklearn.metrics import roc_auc_score,accuracy_score\n",
    "from sklearn.linear_model import LogisticRegressionCV\n",
    "from collections import OrderedDict\n",
    "\n",
    "\n",
    "def evaluate_retinas(X_retinas,y,verbose = True,test_size=0.25,cv=10):\n",
    "    \"\"\"evaluates retinas individually by training logistic regression on them.\n",
    "    X_retinas - a list of [n_samples,*] for each retina\n",
    "    y - classification target\n",
    "    verbose - whether to print progress\n",
    "    test_size = what fraction of X to take as a final test\n",
    "    cv = how many folds to crossvalidate when setting up regularizer for logistic regression\n",
    "    returns: list of dicts of metrics of Accuracy and Auc on train and test\"\"\"\n",
    "    results = []\n",
    "\n",
    "    for r_i in range(len(X_retinas)):\n",
    "        \n",
    "        print \"processing retina\",r_i\n",
    "        \n",
    "        X_i = X_retinas[r_i].reshape([len(X_retinas[r_i]),-1])\n",
    "        \n",
    "        Xtr, Xts, Ytr,Yts = train_test_split(X_i,y,test_size=test_size,random_state=1337)\n",
    "\n",
    "        print Ytr.shape,Yts.shape\n",
    "        lr = LogisticRegressionCV(cv=cv).fit(Xtr,Ytr)\n",
    "\n",
    "        Ytr_pred = lr.predict_proba(Xtr)[:,1]\n",
    "        Yts_pred = lr.predict_proba(Xts)[:,1]\n",
    "\n",
    "        metrics = [accuracy_score(Ytr,Ytr_pred>0.5),roc_auc_score(Ytr,Ytr_pred),\n",
    "                   accuracy_score(Yts,Yts_pred>0.5),roc_auc_score(Yts,Yts_pred)]\n",
    "\n",
    "        metric_names = ['acc train','auc train','acc test','auc test',]\n",
    "\n",
    "\n",
    "        report = OrderedDict(zip(metric_names,metrics))\n",
    "        \n",
    "        if verbose:\n",
    "            for m_name, m_val in report.items():\n",
    "                print \"%s: %.5f\"%(m_name,m_val)\n",
    "        results.append(report)\n",
    "    return results"
   ]
  },
  {
   "cell_type": "code",
   "execution_count": 5,
   "metadata": {
    "collapsed": true
   },
   "outputs": [],
   "source": [
    "def evaluate_random_retinas(event_names,y,n_retinas,seeds = None,batch_size = 8):\n",
    "    \n",
    "    if seeds is None:\n",
    "        seeds = [None]*n_retinas #Nonecat\n",
    "        \n",
    "    retinas,retina_params =  zip(*map(random_retina, seeds))\n",
    "\n",
    "        \n",
    "    #batch_size = a number of retinas computed in a single batch\n",
    "    n_batches = (len(retinas)-1)/batch_size +1\n",
    "    \n",
    "    reports = []\n",
    "    \n",
    "    for b_i in range(n_batches):\n",
    "        #concatenate all lines among grids in batches of 6 retinas each but for optionally the last one\n",
    "        \n",
    "        batch_retinas = retinas[batch_size*b_i:batch_size*(b_i+1)]\n",
    "\n",
    "\n",
    "        X_batch = retinize_events(event_names,data_path,\n",
    "                                  retina_views= batch_retinas,\n",
    "                                  max_hits_block=5000,report_rate=100)\n",
    "        \n",
    "        X_batch = X_batch.reshape([len(X_batch),len(batch_retinas),-1])\n",
    "        \n",
    "        X_retinas = [X_batch[:,r_i] for r_i in range(X_batch.shape[1])]\n",
    "    \n",
    "        reports += evaluate_retinas(X_retinas,y)\n",
    "\n",
    "    return retinas,retina_params,reports\n",
    "    \n",
    "    \n",
    "    "
   ]
  },
  {
   "cell_type": "code",
   "execution_count": 6,
   "metadata": {
    "collapsed": false
   },
   "outputs": [],
   "source": [
    "df_ref = pd.DataFrame.from_csv(reference_df_path,index_col=None)"
   ]
  },
  {
   "cell_type": "code",
   "execution_count": null,
   "metadata": {
    "collapsed": true
   },
   "outputs": [],
   "source": [
    "def next_batch_name(path,postfix=\".npy\"):\n",
    "    index = 0\n",
    "    while True:\n",
    "        candidate = os.path.join(path,\"batch\"+str(index)+postfix)\n",
    "        \n",
    "        if not os.path.exists(candidate):\n",
    "            return candidate\n",
    "        index +=1\n"
   ]
  },
  {
   "cell_type": "code",
   "execution_count": null,
   "metadata": {
    "collapsed": false
   },
   "outputs": [],
   "source": [
    "while True:\n",
    "    res=evaluate_random_retinas(df_ref.X_filename[:1000],\n",
    "                            df_ref.relevant_decay_count[:1000]>0,\n",
    "                            n_retinas= 32)\n",
    "\n",
    "    retinas,retina_params,reports=res\n",
    "\n",
    "    auc_threshold = 0.525\n",
    "    saved_retinas = {}\n",
    "\n",
    "\n",
    "    aucs = [report[\"auc test\"] for report in reports]\n",
    "    for retina,params,report,auc in zip(retinas,retina_params,reports,aucs):\n",
    "\n",
    "        if auc > auc_threshold:\n",
    "            saved_retinas[params]= (retina,report)\n",
    "\n",
    "\n",
    "\n",
    "    import pickle\n",
    "    with open(next_batch_name(os.path.join(\"data\",experiment_name)),'w') as fout:\n",
    "        pickle.dump(saved_retinas,fout)\n",
    "\n"
   ]
  },
  {
   "cell_type": "code",
   "execution_count": null,
   "metadata": {
    "collapsed": true
   },
   "outputs": [],
   "source": []
  }
 ],
 "metadata": {
  "kernelspec": {
   "display_name": "Python 2",
   "language": "python",
   "name": "python2"
  },
  "language_info": {
   "codemirror_mode": {
    "name": "ipython",
    "version": 2
   },
   "file_extension": ".py",
   "mimetype": "text/x-python",
   "name": "python",
   "nbconvert_exporter": "python",
   "pygments_lexer": "ipython2",
   "version": "2.7.3"
  }
 },
 "nbformat": 4,
 "nbformat_minor": 0
}
