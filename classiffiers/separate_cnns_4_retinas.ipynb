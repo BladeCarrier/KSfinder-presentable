{
 "cells": [
  {
   "cell_type": "code",
   "execution_count": 1,
   "metadata": {
    "collapsed": false
   },
   "outputs": [
    {
     "name": "stdout",
     "output_type": "stream",
     "text": [
      "/home/jheuristic/yozhik/ksfinder\n"
     ]
    }
   ],
   "source": [
    "%load_ext autoreload\n",
    "%autoreload 2\n",
    "%cd ..\n",
    "\n",
    "import os\n",
    "import numpy as np\n",
    "import pandas as pd\n",
    "import matplotlib.pyplot as plt\n",
    "%matplotlib inline\n",
    "\n",
    "\n",
    "experiment_name = \"baseline.classifier.cnn_4_retinas.vggsmall\"\n",
    "metadata_path = \"data/mined_retinas_0\"\n",
    "data_path = \"./data/sig56/\"\n",
    "\n",
    "reference_df_path = \"data/decays/long_ks_counts_56.csv\"\n",
    "\n",
    "\n",
    "generate_metadata = not os.path.exists(metadata_path)\n",
    "\n",
    "if generate_metadata:\n",
    "    print \"Metadata does not exist. This run might be MUCH longer due to preprocessing the data.\""
   ]
  },
  {
   "cell_type": "code",
   "execution_count": 2,
   "metadata": {
    "collapsed": false
   },
   "outputs": [
    {
     "name": "stdout",
     "output_type": "stream",
     "text": [
      "env: THEANO_FLAGS=\"device=gpu2\"\n"
     ]
    },
    {
     "name": "stderr",
     "output_type": "stream",
     "text": [
      "Using gpu device 2: Tesla K40m (CNMeM is disabled, CuDNN 4004)\n"
     ]
    }
   ],
   "source": [
    "#import theano stack\n",
    "%env THEANO_FLAGS=\"device=gpu2\"\n",
    "\n",
    "import lasagne\n",
    "import theano\n",
    "import theano.tensor as T\n",
    "from lib.retina_compiled import retinize_events\n",
    "\n",
    "floatX = theano.config.floatX\n"
   ]
  },
  {
   "cell_type": "code",
   "execution_count": null,
   "metadata": {
    "collapsed": true
   },
   "outputs": [],
   "source": []
  },
  {
   "cell_type": "markdown",
   "metadata": {},
   "source": [
    "## Preprocess/Load data"
   ]
  },
  {
   "cell_type": "code",
   "execution_count": 3,
   "metadata": {
    "collapsed": false
   },
   "outputs": [],
   "source": [
    "from lib.retina_compiled import retina_view\n",
    "\n",
    "retina_images_path = os.path.join(metadata_path,\"retina_images.npy\")\n",
    "answers_path = os.path.join(metadata_path,\"decay_counts.npy\")\n",
    "\n",
    "if generate_metadata:\n",
    "    \n",
    "\n",
    "    #event names\n",
    "    df_ref = pd.DataFrame.from_csv(reference_df_path,index_col=None)\n",
    "\n",
    "    param_df = pd.DataFrame.from_csv(\"./baseline_mined_retina_params.csv\")\n",
    "    #param_df.xdim=64\n",
    "    #param_df.ydim=64\n",
    "    retinas = [retina_view(*params) for params in param_df.values]\n",
    "\n",
    "    X = retinize_events(df_ref.X_filename.values[:5000],\n",
    "                             data_path,retina_views=retinas,\n",
    "                             max_hits_block=15000,report_rate=100)\n",
    "    \n",
    "    y = df_ref.relevant_decay_count.values[:5000] >0\n",
    "    \n",
    "    os.mkdir(metadata_path)\n",
    "    np.save(retina_images_path,X)\n",
    "    np.save(answers_path, y)\n",
    "    \n",
    "    generate_metadata = False\n",
    "else:\n",
    "    #load metadata\n",
    "    X = np.load(retina_images_path)\n",
    "    y = np.load(answers_path)"
   ]
  },
  {
   "cell_type": "code",
   "execution_count": 4,
   "metadata": {
    "collapsed": false
   },
   "outputs": [
    {
     "data": {
      "text/plain": [
       "(5000, 10240)"
      ]
     },
     "execution_count": 4,
     "metadata": {},
     "output_type": "execute_result"
    }
   ],
   "source": [
    "X.shape"
   ]
  },
  {
   "cell_type": "code",
   "execution_count": 5,
   "metadata": {
    "collapsed": false
   },
   "outputs": [],
   "source": [
    "X = X.reshape([5000,-1,32,32])\n",
    "\n",
    "X = X.astype(floatX)\n",
    "y = y.astype('int32')"
   ]
  },
  {
   "cell_type": "code",
   "execution_count": 6,
   "metadata": {
    "collapsed": false
   },
   "outputs": [
    {
     "name": "stdout",
     "output_type": "stream",
     "text": [
      "(3750,) (1250,)\n"
     ]
    }
   ],
   "source": [
    "from sklearn.cross_validation import train_test_split\n",
    "Xtr, Xts, Ytr,Yts = train_test_split(X,y,test_size=0.25,random_state=1337)\n",
    "\n",
    "print Ytr.shape,Yts.shape"
   ]
  },
  {
   "cell_type": "code",
   "execution_count": 7,
   "metadata": {
    "collapsed": false
   },
   "outputs": [
    {
     "name": "stderr",
     "output_type": "stream",
     "text": [
      "/home/jheuristic/thenv/local/lib/python2.7/site-packages/sklearn/linear_model/logistic.py:701: UserWarning: lbfgs failed to converge. Increase the number of iterations.\n",
      "  warnings.warn(\"lbfgs failed to converge. Increase the number \"\n",
      "[Parallel(n_jobs=1)]: Done   3 out of   3 | elapsed:  2.7min finished\n"
     ]
    }
   ],
   "source": [
    "from sklearn.linear_model import LogisticRegressionCV\n",
    "lr = LogisticRegressionCV(verbose=True).fit(Xtr.reshape([len(Xtr),-1]),Ytr)\n",
    "Yts_pred = lr.predict_proba(Xts.reshape([len(Xts),-1]))[:,1]\n",
    "Ytr_pred = lr.predict_proba(Xtr.reshape([len(Xtr),-1]))[:,1]"
   ]
  },
  {
   "cell_type": "code",
   "execution_count": 8,
   "metadata": {
    "collapsed": false
   },
   "outputs": [
    {
     "name": "stdout",
     "output_type": "stream",
     "text": [
      "0.518127720183\n",
      "0.651226973617\n"
     ]
    }
   ],
   "source": [
    "from sklearn.metrics import roc_auc_score\n",
    "print roc_auc_score(Yts,Yts_pred)\n",
    "print roc_auc_score(Ytr,Ytr_pred)"
   ]
  },
  {
   "cell_type": "markdown",
   "metadata": {},
   "source": [
    "# define NN"
   ]
  },
  {
   "cell_type": "code",
   "execution_count": 21,
   "metadata": {
    "collapsed": false
   },
   "outputs": [],
   "source": [
    "input_dim = (None,)+X.shape[1:]\n",
    "\n",
    "retina_dim = (None,1) + X.shape[2:]\n",
    "\n",
    "retina_images = T.tensor4(\"input_images\",\"floatX\")\n",
    "\n",
    "any_interesting_decays = T.ivector(\"mctruith_any_decays\")"
   ]
  },
  {
   "cell_type": "code",
   "execution_count": 55,
   "metadata": {
    "collapsed": false
   },
   "outputs": [],
   "source": [
    "concatenated_retinas = retina_images.reshape([retina_images.shape[0],1,-1,retina_images.shape[-1]])\n",
    "\n",
    "concatenated_dim = (None,1,np.prod(X.shape[1:-1]),X.shape[-1])"
   ]
  },
  {
   "cell_type": "code",
   "execution_count": 152,
   "metadata": {
    "collapsed": false
   },
   "outputs": [],
   "source": [
    "from lasagne.layers import InputLayer\n",
    "from lasagne.layers import Conv2DLayer as ConvLayer\n",
    "from lasagne.layers import MaxPool2DLayer as PoolLayer\n",
    "from lasagne.layers import DenseLayer, DropoutLayer\n",
    "\n",
    "#nn where each retina is processed with a separate CNN\n",
    "\n",
    "net = {}\n",
    "\n",
    "net['input'] = InputLayer(concatenated_dim,input_var=concatenated_retinas)\n",
    "net['conv1_1'] = ConvLayer(\n",
    "            net['input'], 256, 5, pad=1, flip_filters=False)\n",
    "net['pool1'] = PoolLayer(net['conv1_1'], 3)\n",
    "net['conv2_1'] = ConvLayer(\n",
    "            net['pool1'], 256, 5, pad=1, flip_filters=False)\n",
    "net['pool2'] = PoolLayer(net['conv2_1'], 3)\n",
    "    \n",
    "net['fc6'] = DenseLayer(net[\"pool2\"], num_units=1024)\n",
    "#net['fc6_dropout'] = DropoutLayer(net['fc6'], p=0.1)\n",
    "\n",
    "net['out'] = DenseLayer(net['fc6'], num_units=2, \n",
    "                        nonlinearity=lasagne.nonlinearities.softmax)\n",
    "\n"
   ]
  },
  {
   "cell_type": "code",
   "execution_count": 153,
   "metadata": {
    "collapsed": false
   },
   "outputs": [
    {
     "data": {
      "text/plain": [
       "[W, b, W, b, W, b, W, b]"
      ]
     },
     "execution_count": 153,
     "metadata": {},
     "output_type": "execute_result"
    }
   ],
   "source": [
    "weights = lasagne.layers.get_all_params(net[\"out\"],trainable=True)\n",
    "weights"
   ]
  },
  {
   "cell_type": "markdown",
   "metadata": {},
   "source": [
    "# train updates"
   ]
  },
  {
   "cell_type": "code",
   "execution_count": 163,
   "metadata": {
    "collapsed": false
   },
   "outputs": [],
   "source": [
    "train_prediction = lasagne.layers.get_output(net[\"out\"])\n",
    "train_loss_ce = lasagne.objectives.categorical_crossentropy(train_prediction,any_interesting_decays).mean()\n",
    "train_accuracy = lasagne.objectives.categorical_accuracy(train_prediction,any_interesting_decays).mean()\n",
    "updates = lasagne.updates.rmsprop(train_loss_ce,weights,learning_rate=0.001) \n",
    "#ik that lr does not matter. I just dont want an explosion."
   ]
  },
  {
   "cell_type": "code",
   "execution_count": 164,
   "metadata": {
    "collapsed": true
   },
   "outputs": [],
   "source": [
    "train_fun = theano.function([retina_images,any_interesting_decays],[train_loss_ce,train_accuracy,train_prediction[:,1]], updates=updates)"
   ]
  },
  {
   "cell_type": "markdown",
   "metadata": {},
   "source": [
    "# evaluation"
   ]
  },
  {
   "cell_type": "code",
   "execution_count": 165,
   "metadata": {
    "collapsed": true
   },
   "outputs": [],
   "source": [
    "prediction = lasagne.layers.get_output(net[\"out\"],deterministic=True)\n",
    "loss_ce = lasagne.objectives.categorical_crossentropy(prediction,any_interesting_decays).mean()\n",
    "accuracy = lasagne.objectives.categorical_accuracy(prediction,any_interesting_decays).mean()"
   ]
  },
  {
   "cell_type": "code",
   "execution_count": 166,
   "metadata": {
    "collapsed": false
   },
   "outputs": [],
   "source": [
    "eval_fun = theano.function([retina_images,any_interesting_decays], [loss_ce,accuracy,prediction[:,1]])\n",
    "predict_fun = theano.function([retina_images],prediction)"
   ]
  },
  {
   "cell_type": "markdown",
   "metadata": {},
   "source": [
    "# main loop\n",
    "* almost copies the layout of lasagne basic training "
   ]
  },
  {
   "cell_type": "code",
   "execution_count": 167,
   "metadata": {
    "collapsed": true
   },
   "outputs": [],
   "source": [
    "def iterate_minibatches(inputs, targets, batchsize, shuffle=False,crop_at=None):\n",
    "    assert len(inputs) == len(targets)\n",
    "    if shuffle:\n",
    "        indices = np.arange(len(inputs))\n",
    "        np.random.shuffle(indices)\n",
    "    for start_idx in range(0, len(inputs) - batchsize + 1, batchsize):\n",
    "        if crop_at == start_idx:\n",
    "            break\n",
    "        if shuffle:\n",
    "            excerpt = indices[start_idx:start_idx + batchsize]\n",
    "        else:\n",
    "            excerpt = slice(start_idx, start_idx + batchsize)\n",
    "        yield inputs[excerpt], targets[excerpt]\n",
    "        \n"
   ]
  },
  {
   "cell_type": "code",
   "execution_count": 171,
   "metadata": {
    "collapsed": false
   },
   "outputs": [
    {
     "name": "stdout",
     "output_type": "stream",
     "text": [
      "Epoch 1 of 100 took 38.080s\n",
      "  training loss:\t\t0.697189\n",
      "  training accuracy:\t\t51.15 %\n",
      "  training ROC AUC:\t\t0.516 %\n",
      "  validation loss:\t\t0.694561\n",
      "  validation accuracy:\t\t51.04 %\n",
      "  validation ROC AUC:\t\t0.503 %\n",
      "Epoch 2 of 100 took 37.949s\n",
      "  training loss:\t\t0.721967\n",
      "  training accuracy:\t\t51.28 %\n",
      "  training ROC AUC:\t\t0.505 %\n",
      "  validation loss:\t\t0.693005\n",
      "  validation accuracy:\t\t51.12 %\n",
      "  validation ROC AUC:\t\t0.518 %\n",
      "Epoch 3 of 100 took 38.029s\n",
      "  training loss:\t\t0.699088\n",
      "  training accuracy:\t\t50.85 %\n",
      "  training ROC AUC:\t\t0.500 %\n",
      "  validation loss:\t\t0.695418\n",
      "  validation accuracy:\t\t48.80 %\n",
      "  validation ROC AUC:\t\t0.470 %\n",
      "Epoch 4 of 100 took 37.865s\n",
      "  training loss:\t\t0.696616\n",
      "  training accuracy:\t\t51.44 %\n",
      "  training ROC AUC:\t\t0.499 %\n",
      "  validation loss:\t\t0.693947\n",
      "  validation accuracy:\t\t48.72 %\n",
      "  validation ROC AUC:\t\t0.497 %\n",
      "Epoch 5 of 100 took 37.758s\n",
      "  training loss:\t\t0.692954\n",
      "  training accuracy:\t\t50.03 %\n",
      "  training ROC AUC:\t\t0.495 %\n",
      "  validation loss:\t\t0.693958\n",
      "  validation accuracy:\t\t48.72 %\n",
      "  validation ROC AUC:\t\t0.518 %\n",
      "Epoch 6 of 100 took 37.676s\n",
      "  training loss:\t\t0.692885\n",
      "  training accuracy:\t\t50.83 %\n",
      "  training ROC AUC:\t\t0.475 %\n",
      "  validation loss:\t\t0.693761\n",
      "  validation accuracy:\t\t48.72 %\n",
      "  validation ROC AUC:\t\t0.497 %\n",
      "Epoch 7 of 100 took 37.661s\n",
      "  training loss:\t\t0.692874\n",
      "  training accuracy:\t\t50.85 %\n",
      "  training ROC AUC:\t\t0.486 %\n",
      "  validation loss:\t\t0.706638\n",
      "  validation accuracy:\t\t51.04 %\n",
      "  validation ROC AUC:\t\t0.504 %\n",
      "Epoch 8 of 100 took 37.696s\n",
      "  training loss:\t\t0.694032\n",
      "  training accuracy:\t\t50.85 %\n",
      "  training ROC AUC:\t\t0.482 %\n",
      "  validation loss:\t\t0.696193\n",
      "  validation accuracy:\t\t49.04 %\n",
      "  validation ROC AUC:\t\t0.502 %\n",
      "Epoch 9 of 100 took 37.676s\n",
      "  training loss:\t\t0.693375\n",
      "  training accuracy:\t\t50.88 %\n",
      "  training ROC AUC:\t\t0.478 %\n",
      "  validation loss:\t\t0.693722\n",
      "  validation accuracy:\t\t48.80 %\n",
      "  validation ROC AUC:\t\t0.502 %\n",
      "Epoch 10 of 100 took 37.609s\n",
      "  training loss:\t\t1.217480\n",
      "  training accuracy:\t\t49.87 %\n",
      "  training ROC AUC:\t\t0.491 %\n",
      "  validation loss:\t\t0.698267\n",
      "  validation accuracy:\t\t48.88 %\n",
      "  validation ROC AUC:\t\t0.492 %\n",
      "Epoch 11 of 100 took 37.825s\n",
      "  training loss:\t\t0.702505\n",
      "  training accuracy:\t\t50.59 %\n",
      "  training ROC AUC:\t\t0.496 %\n",
      "  validation loss:\t\t0.697576\n",
      "  validation accuracy:\t\t48.88 %\n",
      "  validation ROC AUC:\t\t0.498 %\n",
      "Epoch 12 of 100 took 37.690s\n",
      "  training loss:\t\t0.699882\n",
      "  training accuracy:\t\t50.77 %\n",
      "  training ROC AUC:\t\t0.485 %\n",
      "  validation loss:\t\t0.694311\n",
      "  validation accuracy:\t\t48.88 %\n",
      "  validation ROC AUC:\t\t0.500 %\n",
      "Epoch 13 of 100 took 37.722s\n",
      "  training loss:\t\t0.711711\n",
      "  training accuracy:\t\t50.56 %\n",
      "  training ROC AUC:\t\t0.480 %\n",
      "  validation loss:\t\t0.695561\n",
      "  validation accuracy:\t\t48.80 %\n",
      "  validation ROC AUC:\t\t0.499 %\n",
      "Epoch 14 of 100 took 37.778s\n",
      "  training loss:\t\t0.696157\n",
      "  training accuracy:\t\t50.77 %\n",
      "  training ROC AUC:\t\t0.512 %\n",
      "  validation loss:\t\t0.696922\n",
      "  validation accuracy:\t\t48.72 %\n",
      "  validation ROC AUC:\t\t0.478 %\n",
      "Epoch 15 of 100 took 37.736s\n",
      "  training loss:\t\t0.693221\n",
      "  training accuracy:\t\t50.37 %\n",
      "  training ROC AUC:\t\t0.509 %\n",
      "  validation loss:\t\t0.693473\n",
      "  validation accuracy:\t\t48.72 %\n",
      "  validation ROC AUC:\t\t0.482 %\n",
      "Epoch 16 of 100 took 37.579s\n",
      "  training loss:\t\t0.692824\n",
      "  training accuracy:\t\t50.45 %\n",
      "  training ROC AUC:\t\t0.477 %\n",
      "  validation loss:\t\t0.693565\n",
      "  validation accuracy:\t\t48.72 %\n",
      "  validation ROC AUC:\t\t0.501 %\n",
      "Epoch 17 of 100 took 37.739s\n",
      "  training loss:\t\t0.692902\n",
      "  training accuracy:\t\t50.85 %\n",
      "  training ROC AUC:\t\t0.483 %\n",
      "  validation loss:\t\t0.693607\n",
      "  validation accuracy:\t\t48.72 %\n",
      "  validation ROC AUC:\t\t0.496 %\n",
      "Epoch 18 of 100 took 37.874s\n",
      "  training loss:\t\t0.763197\n",
      "  training accuracy:\t\t51.12 %\n",
      "  training ROC AUC:\t\t0.501 %\n",
      "  validation loss:\t\t0.693330\n",
      "  validation accuracy:\t\t48.96 %\n",
      "  validation ROC AUC:\t\t0.504 %\n",
      "Epoch 19 of 100 took 37.658s\n",
      "  training loss:\t\t0.801196\n",
      "  training accuracy:\t\t49.89 %\n",
      "  training ROC AUC:\t\t0.492 %\n",
      "  validation loss:\t\t0.694566\n",
      "  validation accuracy:\t\t49.28 %\n",
      "  validation ROC AUC:\t\t0.504 %\n",
      "Epoch 20 of 100 took 37.549s\n",
      "  training loss:\t\t0.707003\n",
      "  training accuracy:\t\t51.25 %\n",
      "  training ROC AUC:\t\t0.506 %\n",
      "  validation loss:\t\t0.694080\n",
      "  validation accuracy:\t\t49.04 %\n",
      "  validation ROC AUC:\t\t0.506 %\n",
      "Epoch 21 of 100 took 37.699s\n",
      "  training loss:\t\t0.697784\n",
      "  training accuracy:\t\t51.07 %\n",
      "  training ROC AUC:\t\t0.490 %\n",
      "  validation loss:\t\t3.896732\n",
      "  validation accuracy:\t\t51.28 %\n",
      "  validation ROC AUC:\t\t0.498 %\n",
      "Epoch 22 of 100 took 37.572s\n",
      "  training loss:\t\t0.734360\n",
      "  training accuracy:\t\t49.97 %\n",
      "  training ROC AUC:\t\t0.496 %\n",
      "  validation loss:\t\t0.696302\n",
      "  validation accuracy:\t\t48.88 %\n",
      "  validation ROC AUC:\t\t0.518 %\n",
      "Epoch 23 of 100 took 37.607s\n",
      "  training loss:\t\t0.693344\n",
      "  training accuracy:\t\t50.77 %\n",
      "  training ROC AUC:\t\t0.480 %\n",
      "  validation loss:\t\t0.693674\n",
      "  validation accuracy:\t\t48.80 %\n",
      "  validation ROC AUC:\t\t0.496 %\n",
      "Epoch 24 of 100 took 37.641s\n",
      "  training loss:\t\t0.695465\n",
      "  training accuracy:\t\t51.12 %\n",
      "  training ROC AUC:\t\t0.505 %\n",
      "  validation loss:\t\t0.694872\n",
      "  validation accuracy:\t\t48.80 %\n",
      "  validation ROC AUC:\t\t0.489 %\n",
      "Epoch 25 of 100 took 37.848s\n",
      "  training loss:\t\t0.693208\n",
      "  training accuracy:\t\t50.59 %\n",
      "  training ROC AUC:\t\t0.514 %\n",
      "  validation loss:\t\t0.695622\n",
      "  validation accuracy:\t\t48.88 %\n",
      "  validation ROC AUC:\t\t0.514 %\n",
      "Epoch 26 of 100 took 37.799s\n",
      "  training loss:\t\t0.693817\n",
      "  training accuracy:\t\t50.93 %\n",
      "  training ROC AUC:\t\t0.509 %\n",
      "  validation loss:\t\t0.693919\n",
      "  validation accuracy:\t\t48.72 %\n",
      "  validation ROC AUC:\t\t0.507 %\n",
      "Epoch 27 of 100 took 37.754s\n",
      "  training loss:\t\t0.692760\n",
      "  training accuracy:\t\t50.48 %\n",
      "  training ROC AUC:\t\t0.495 %\n",
      "  validation loss:\t\t0.695337\n",
      "  validation accuracy:\t\t49.68 %\n",
      "  validation ROC AUC:\t\t0.514 %\n",
      "Epoch 28 of 100 took 37.575s\n",
      "  training loss:\t\t0.901625\n",
      "  training accuracy:\t\t50.29 %\n",
      "  training ROC AUC:\t\t0.489 %\n",
      "  validation loss:\t\t0.694062\n",
      "  validation accuracy:\t\t48.64 %\n",
      "  validation ROC AUC:\t\t0.489 %\n",
      "Epoch 29 of 100 took 37.525s\n",
      "  training loss:\t\t0.755519\n",
      "  training accuracy:\t\t50.48 %\n",
      "  training ROC AUC:\t\t0.502 %\n",
      "  validation loss:\t\t0.702718\n",
      "  validation accuracy:\t\t48.32 %\n",
      "  validation ROC AUC:\t\t0.497 %\n",
      "Epoch 30 of 100 took 37.506s\n",
      "  training loss:\t\t0.703188\n",
      "  training accuracy:\t\t51.25 %\n",
      "  training ROC AUC:\t\t0.497 %\n",
      "  validation loss:\t\t0.696015\n",
      "  validation accuracy:\t\t49.04 %\n",
      "  validation ROC AUC:\t\t0.496 %\n",
      "Epoch 31 of 100 took 37.500s\n",
      "  training loss:\t\t0.697617\n",
      "  training accuracy:\t\t50.53 %\n",
      "  training ROC AUC:\t\t0.492 %\n",
      "  validation loss:\t\t0.693907\n",
      "  validation accuracy:\t\t48.96 %\n",
      "  validation ROC AUC:\t\t0.504 %\n",
      "Epoch 32 of 100 took 37.447s\n",
      "  training loss:\t\t0.773363\n",
      "  training accuracy:\t\t50.29 %\n",
      "  training ROC AUC:\t\t0.495 %\n",
      "  validation loss:\t\t0.711174\n",
      "  validation accuracy:\t\t49.12 %\n",
      "  validation ROC AUC:\t\t0.519 %\n",
      "Epoch 33 of 100 took 37.522s\n",
      "  training loss:\t\t0.694621\n",
      "  training accuracy:\t\t50.93 %\n",
      "  training ROC AUC:\t\t0.505 %\n",
      "  validation loss:\t\t0.710642\n",
      "  validation accuracy:\t\t52.56 %\n",
      "  validation ROC AUC:\t\t0.513 %\n",
      "Epoch 34 of 100 took 37.548s\n",
      "  training loss:\t\t0.694496\n",
      "  training accuracy:\t\t50.37 %\n",
      "  training ROC AUC:\t\t0.487 %\n",
      "  validation loss:\t\t0.695337\n",
      "  validation accuracy:\t\t48.80 %\n",
      "  validation ROC AUC:\t\t0.502 %\n",
      "Epoch 35 of 100 took 37.631s\n",
      "  training loss:\t\t0.705314\n",
      "  training accuracy:\t\t50.11 %\n",
      "  training ROC AUC:\t\t0.489 %\n",
      "  validation loss:\t\t0.694484\n",
      "  validation accuracy:\t\t48.96 %\n",
      "  validation ROC AUC:\t\t0.504 %\n",
      "Epoch 36 of 100 took 37.762s\n",
      "  training loss:\t\t0.702789\n",
      "  training accuracy:\t\t51.49 %\n",
      "  training ROC AUC:\t\t0.514 %\n",
      "  validation loss:\t\t0.696542\n",
      "  validation accuracy:\t\t48.96 %\n",
      "  validation ROC AUC:\t\t0.509 %\n",
      "Epoch 37 of 100 took 37.620s\n",
      "  training loss:\t\t0.697129\n",
      "  training accuracy:\t\t51.25 %\n",
      "  training ROC AUC:\t\t0.519 %\n",
      "  validation loss:\t\t0.693742\n",
      "  validation accuracy:\t\t48.88 %\n",
      "  validation ROC AUC:\t\t0.522 %\n",
      "Epoch 38 of 100 took 37.778s\n",
      "  training loss:\t\t0.700500\n",
      "  training accuracy:\t\t50.91 %\n",
      "  training ROC AUC:\t\t0.501 %\n",
      "  validation loss:\t\t0.695681\n",
      "  validation accuracy:\t\t48.72 %\n",
      "  validation ROC AUC:\t\t0.494 %\n",
      "Epoch 39 of 100 took 37.678s\n",
      "  training loss:\t\t0.692444\n",
      "  training accuracy:\t\t50.77 %\n",
      "  training ROC AUC:\t\t0.504 %\n",
      "  validation loss:\t\t0.697151\n",
      "  validation accuracy:\t\t48.80 %\n",
      "  validation ROC AUC:\t\t0.499 %\n",
      "Epoch 40 of 100 took 37.605s\n",
      "  training loss:\t\t0.693727\n",
      "  training accuracy:\t\t50.96 %\n",
      "  training ROC AUC:\t\t0.491 %\n",
      "  validation loss:\t\t0.696029\n",
      "  validation accuracy:\t\t48.96 %\n",
      "  validation ROC AUC:\t\t0.498 %\n",
      "Epoch 41 of 100 took 37.667s\n",
      "  training loss:\t\t0.696948\n",
      "  training accuracy:\t\t51.20 %\n",
      "  training ROC AUC:\t\t0.488 %\n",
      "  validation loss:\t\t0.695313\n",
      "  validation accuracy:\t\t48.88 %\n",
      "  validation ROC AUC:\t\t0.500 %\n",
      "Epoch 42 of 100 took 37.548s\n",
      "  training loss:\t\t0.697350\n",
      "  training accuracy:\t\t51.39 %\n",
      "  training ROC AUC:\t\t0.486 %\n",
      "  validation loss:\t\t0.694190\n",
      "  validation accuracy:\t\t48.80 %\n",
      "  validation ROC AUC:\t\t0.501 %\n",
      "Epoch 43 of 100 took 37.762s\n",
      "  training loss:\t\t0.691426\n",
      "  training accuracy:\t\t51.39 %\n",
      "  training ROC AUC:\t\t0.498 %\n",
      "  validation loss:\t\t0.694676\n",
      "  validation accuracy:\t\t48.96 %\n",
      "  validation ROC AUC:\t\t0.501 %\n",
      "Epoch 44 of 100 took 37.612s\n",
      "  training loss:\t\t0.691777\n",
      "  training accuracy:\t\t51.49 %\n",
      "  training ROC AUC:\t\t0.499 %\n",
      "  validation loss:\t\t0.705966\n",
      "  validation accuracy:\t\t48.72 %\n",
      "  validation ROC AUC:\t\t0.498 %\n",
      "Epoch 45 of 100 took 37.846s\n",
      "  training loss:\t\t0.698304\n",
      "  training accuracy:\t\t51.07 %\n",
      "  training ROC AUC:\t\t0.495 %\n",
      "  validation loss:\t\t0.704113\n",
      "  validation accuracy:\t\t48.88 %\n",
      "  validation ROC AUC:\t\t0.494 %\n",
      "Epoch 46 of 100 took 37.657s\n",
      "  training loss:\t\t0.692812\n",
      "  training accuracy:\t\t51.23 %\n",
      "  training ROC AUC:\t\t0.497 %\n",
      "  validation loss:\t\t0.700103\n",
      "  validation accuracy:\t\t49.04 %\n",
      "  validation ROC AUC:\t\t0.506 %\n",
      "Epoch 47 of 100 took 37.674s\n",
      "  training loss:\t\t0.696829\n",
      "  training accuracy:\t\t51.41 %\n",
      "  training ROC AUC:\t\t0.496 %\n",
      "  validation loss:\t\t0.704636\n",
      "  validation accuracy:\t\t48.56 %\n",
      "  validation ROC AUC:\t\t0.498 %\n",
      "Epoch 48 of 100 took 37.896s\n",
      "  training loss:\t\t0.693250\n",
      "  training accuracy:\t\t51.01 %\n",
      "  training ROC AUC:\t\t0.499 %\n",
      "  validation loss:\t\t0.700810\n",
      "  validation accuracy:\t\t49.12 %\n",
      "  validation ROC AUC:\t\t0.508 %\n",
      "Epoch 49 of 100 took 37.656s\n",
      "  training loss:\t\t0.695882\n",
      "  training accuracy:\t\t51.39 %\n",
      "  training ROC AUC:\t\t0.508 %\n",
      "  validation loss:\t\t0.721885\n",
      "  validation accuracy:\t\t51.60 %\n",
      "  validation ROC AUC:\t\t0.511 %\n",
      "Epoch 50 of 100 took 37.701s\n",
      "  training loss:\t\t0.692253\n",
      "  training accuracy:\t\t51.33 %\n",
      "  training ROC AUC:\t\t0.513 %\n",
      "  validation loss:\t\t0.698155\n",
      "  validation accuracy:\t\t48.48 %\n",
      "  validation ROC AUC:\t\t0.495 %\n",
      "Epoch 51 of 100 took 37.677s\n",
      "  training loss:\t\t0.689927\n",
      "  training accuracy:\t\t50.99 %\n",
      "  training ROC AUC:\t\t0.498 %\n",
      "  validation loss:\t\t0.699084\n",
      "  validation accuracy:\t\t48.72 %\n",
      "  validation ROC AUC:\t\t0.498 %\n",
      "Epoch 52 of 100 took 37.774s\n",
      "  training loss:\t\t0.692238\n",
      "  training accuracy:\t\t50.83 %\n",
      "  training ROC AUC:\t\t0.496 %\n",
      "  validation loss:\t\t0.701890\n",
      "  validation accuracy:\t\t48.88 %\n",
      "  validation ROC AUC:\t\t0.502 %\n",
      "Epoch 53 of 100 took 37.660s\n",
      "  training loss:\t\t0.693908\n",
      "  training accuracy:\t\t51.17 %\n",
      "  training ROC AUC:\t\t0.489 %\n",
      "  validation loss:\t\t0.704411\n",
      "  validation accuracy:\t\t48.56 %\n",
      "  validation ROC AUC:\t\t0.496 %\n",
      "Epoch 54 of 100 took 37.576s\n",
      "  training loss:\t\t0.686763\n",
      "  training accuracy:\t\t51.33 %\n",
      "  training ROC AUC:\t\t0.508 %\n",
      "  validation loss:\t\t0.699568\n",
      "  validation accuracy:\t\t48.72 %\n",
      "  validation ROC AUC:\t\t0.498 %\n",
      "Epoch 55 of 100 took 37.814s\n",
      "  training loss:\t\t0.691926\n",
      "  training accuracy:\t\t51.28 %\n",
      "  training ROC AUC:\t\t0.517 %\n",
      "  validation loss:\t\t0.699754\n",
      "  validation accuracy:\t\t48.80 %\n",
      "  validation ROC AUC:\t\t0.482 %\n",
      "Epoch 56 of 100 took 37.784s\n",
      "  training loss:\t\t0.690304\n",
      "  training accuracy:\t\t50.72 %\n",
      "  training ROC AUC:\t\t0.511 %\n",
      "  validation loss:\t\t0.707731\n",
      "  validation accuracy:\t\t48.96 %\n",
      "  validation ROC AUC:\t\t0.477 %\n",
      "Epoch 57 of 100 took 37.495s\n",
      "  training loss:\t\t0.687605\n",
      "  training accuracy:\t\t51.52 %\n",
      "  training ROC AUC:\t\t0.490 %\n",
      "  validation loss:\t\t0.725551\n",
      "  validation accuracy:\t\t48.64 %\n",
      "  validation ROC AUC:\t\t0.494 %\n",
      "Epoch 58 of 100 took 37.814s\n",
      "  training loss:\t\t0.701039\n",
      "  training accuracy:\t\t51.20 %\n",
      "  training ROC AUC:\t\t0.515 %\n",
      "  validation loss:\t\t0.705488\n",
      "  validation accuracy:\t\t49.20 %\n",
      "  validation ROC AUC:\t\t0.498 %\n",
      "Epoch 59 of 100 took 37.828s\n",
      "  training loss:\t\t0.690448\n",
      "  training accuracy:\t\t51.57 %\n",
      "  training ROC AUC:\t\t0.524 %\n",
      "  validation loss:\t\t0.720215\n",
      "  validation accuracy:\t\t48.64 %\n",
      "  validation ROC AUC:\t\t0.501 %\n",
      "Epoch 60 of 100 took 37.830s\n",
      "  training loss:\t\t0.690125\n",
      "  training accuracy:\t\t51.25 %\n",
      "  training ROC AUC:\t\t0.532 %\n",
      "  validation loss:\t\t0.701532\n",
      "  validation accuracy:\t\t48.24 %\n",
      "  validation ROC AUC:\t\t0.474 %\n",
      "Epoch 61 of 100 took 37.600s\n",
      "  training loss:\t\t0.693166\n",
      "  training accuracy:\t\t52.00 %\n",
      "  training ROC AUC:\t\t0.516 %\n",
      "  validation loss:\t\t0.694461\n",
      "  validation accuracy:\t\t48.88 %\n",
      "  validation ROC AUC:\t\t0.503 %\n"
     ]
    },
    {
     "ename": "KeyboardInterrupt",
     "evalue": "",
     "output_type": "error",
     "traceback": [
      "\u001b[1;31m---------------------------------------------------------------------------\u001b[0m",
      "\u001b[1;31mKeyboardInterrupt\u001b[0m                         Traceback (most recent call last)",
      "\u001b[1;32m<ipython-input-171-3542e29acb3f>\u001b[0m in \u001b[0;36m<module>\u001b[1;34m()\u001b[0m\n\u001b[0;32m     17\u001b[0m     \u001b[0my_ref_batches\u001b[0m \u001b[1;33m=\u001b[0m \u001b[1;33m[\u001b[0m\u001b[1;33m]\u001b[0m\u001b[1;33m\u001b[0m\u001b[0m\n\u001b[0;32m     18\u001b[0m     \u001b[1;32mfor\u001b[0m \u001b[0mbatch\u001b[0m \u001b[1;32min\u001b[0m \u001b[0miterate_minibatches\u001b[0m\u001b[1;33m(\u001b[0m\u001b[0mXtr\u001b[0m\u001b[1;33m,\u001b[0m \u001b[0mYtr\u001b[0m\u001b[1;33m,\u001b[0m \u001b[0mbatch_size\u001b[0m\u001b[1;33m,\u001b[0m \u001b[0mshuffle\u001b[0m\u001b[1;33m=\u001b[0m\u001b[0mTrue\u001b[0m\u001b[1;33m)\u001b[0m\u001b[1;33m:\u001b[0m\u001b[1;33m\u001b[0m\u001b[0m\n\u001b[1;32m---> 19\u001b[1;33m         \u001b[0mbatch_ce\u001b[0m\u001b[1;33m,\u001b[0m\u001b[0mbatch_acc\u001b[0m\u001b[1;33m,\u001b[0m\u001b[0mpred_batch\u001b[0m\u001b[1;33m=\u001b[0m \u001b[0mtrain_fun\u001b[0m\u001b[1;33m(\u001b[0m\u001b[1;33m*\u001b[0m\u001b[0mbatch\u001b[0m\u001b[1;33m)\u001b[0m\u001b[1;33m\u001b[0m\u001b[0m\n\u001b[0m\u001b[0;32m     20\u001b[0m         \u001b[0mtrain_err\u001b[0m \u001b[1;33m+=\u001b[0m\u001b[0mbatch_ce\u001b[0m\u001b[1;33m\u001b[0m\u001b[0m\n\u001b[0;32m     21\u001b[0m         \u001b[0mtrain_acc\u001b[0m \u001b[1;33m+=\u001b[0m\u001b[0mbatch_acc\u001b[0m\u001b[1;33m\u001b[0m\u001b[0m\n",
      "\u001b[1;32m/home/jheuristic/thenv/local/lib/python2.7/site-packages/theano/compile/function_module.pyc\u001b[0m in \u001b[0;36m__call__\u001b[1;34m(self, *args, **kwargs)\u001b[0m\n\u001b[0;32m    857\u001b[0m         \u001b[0mt0_fn\u001b[0m \u001b[1;33m=\u001b[0m \u001b[0mtime\u001b[0m\u001b[1;33m.\u001b[0m\u001b[0mtime\u001b[0m\u001b[1;33m(\u001b[0m\u001b[1;33m)\u001b[0m\u001b[1;33m\u001b[0m\u001b[0m\n\u001b[0;32m    858\u001b[0m         \u001b[1;32mtry\u001b[0m\u001b[1;33m:\u001b[0m\u001b[1;33m\u001b[0m\u001b[0m\n\u001b[1;32m--> 859\u001b[1;33m             \u001b[0moutputs\u001b[0m \u001b[1;33m=\u001b[0m \u001b[0mself\u001b[0m\u001b[1;33m.\u001b[0m\u001b[0mfn\u001b[0m\u001b[1;33m(\u001b[0m\u001b[1;33m)\u001b[0m\u001b[1;33m\u001b[0m\u001b[0m\n\u001b[0m\u001b[0;32m    860\u001b[0m         \u001b[1;32mexcept\u001b[0m \u001b[0mException\u001b[0m\u001b[1;33m:\u001b[0m\u001b[1;33m\u001b[0m\u001b[0m\n\u001b[0;32m    861\u001b[0m             \u001b[1;32mif\u001b[0m \u001b[0mhasattr\u001b[0m\u001b[1;33m(\u001b[0m\u001b[0mself\u001b[0m\u001b[1;33m.\u001b[0m\u001b[0mfn\u001b[0m\u001b[1;33m,\u001b[0m \u001b[1;34m'position_of_error'\u001b[0m\u001b[1;33m)\u001b[0m\u001b[1;33m:\u001b[0m\u001b[1;33m\u001b[0m\u001b[0m\n",
      "\u001b[1;31mKeyboardInterrupt\u001b[0m: "
     ]
    }
   ],
   "source": [
    "from collections import defaultdict\n",
    "from sklearn.metrics import roc_auc_score\n",
    "metrics = defaultdict(dict)\n",
    "\n",
    "import time\n",
    "num_epochs = 100\n",
    "batch_size = 50\n",
    "\n",
    "# We iterate over epochs:\n",
    "for epoch in range(num_epochs):\n",
    "    # In each epoch, we do a full pass over the training data:\n",
    "    train_err = 0\n",
    "    train_acc = 0\n",
    "    train_batches = 0\n",
    "    start_time = time.time()\n",
    "    y_pred_batches = []\n",
    "    y_ref_batches = []\n",
    "    for batch in iterate_minibatches(Xtr, Ytr, batch_size, shuffle=True):\n",
    "        batch_ce,batch_acc,pred_batch= train_fun(*batch)\n",
    "        train_err +=batch_ce\n",
    "        train_acc +=batch_acc\n",
    "        train_batches += 1\n",
    "        y_pred_batches.append(pred_batch)\n",
    "        y_ref_batches.append(batch[1])\n",
    "        \n",
    "    y_pred = np.concatenate(y_pred_batches)\n",
    "    y_ref = np.concatenate(y_ref_batches)\n",
    "    train_auc = roc_auc_score(y_ref,y_pred)\n",
    "\n",
    "    # And a full pass over the validation data:\n",
    "    val_err = 0\n",
    "    val_acc = 0\n",
    "    val_batches = 0\n",
    "    y_pred_batches = []\n",
    "    y_ref_batches = []\n",
    "    for batch in iterate_minibatches(Xts, Yts, batch_size, shuffle=False):\n",
    "        err, acc,pred_batch = eval_fun(*batch)\n",
    "        val_err += err\n",
    "        val_acc += acc\n",
    "        val_batches += 1\n",
    "        y_pred_batches.append(pred_batch)\n",
    "        y_ref_batches.append(batch[1])\n",
    "\n",
    "    y_pred = np.concatenate(y_pred_batches)\n",
    "    y_ref = np.concatenate(y_ref_batches)\n",
    "    val_auc = roc_auc_score(y_ref,y_pred)\n",
    "\n",
    "    metrics[\"acc_train\"][epoch] = train_acc\n",
    "    metrics[\"auc_train\"][epoch] = train_auc\n",
    "    metrics[\"acc_test\"][epoch] = val_acc\n",
    "    metrics[\"auc_test\"][epoch] = val_auc\n",
    "    \n",
    "    # Then we print the results for this epoch:\n",
    "    print(\"Epoch {} of {} took {:.3f}s\".format(\n",
    "        epoch + 1, num_epochs, time.time() - start_time))\n",
    "    print(\"  training loss:\\t\\t{:.6f}\".format(train_err / train_batches))\n",
    "    print(\"  training accuracy:\\t\\t{:.2f} %\".format(\n",
    "        train_acc / train_batches * 100))\n",
    "    print(\"  training ROC AUC:\\t\\t{:.3f} %\".format(\n",
    "        train_auc))\n",
    "    print(\"  validation loss:\\t\\t{:.6f}\".format(val_err / val_batches))\n",
    "    print(\"  validation accuracy:\\t\\t{:.2f} %\".format(\n",
    "        val_acc / val_batches * 100))\n",
    "    print(\"  validation ROC AUC:\\t\\t{:.3f} %\".format(\n",
    "        val_auc))\n",
    "\n"
   ]
  },
  {
   "cell_type": "code",
   "execution_count": null,
   "metadata": {
    "collapsed": true
   },
   "outputs": [],
   "source": []
  },
  {
   "cell_type": "code",
   "execution_count": null,
   "metadata": {
    "collapsed": false
   },
   "outputs": [],
   "source": [
    "# After training, we compute and print the test error:\n",
    "test_err = 0\n",
    "test_acc = 0\n",
    "test_batches = 0\n",
    "for batch in iterate_minibatches(Xts, Yts, batch_size, shuffle=False):\n",
    "    inputs, targets = batch\n",
    "    err, acc = eval_fun(inputs, targets)\n",
    "    test_err += err\n",
    "    test_acc += acc\n",
    "    test_batches += 1\n",
    "print(\"Final results:\")\n",
    "print(\"  test loss:\\t\\t\\t{:.6f}\".format(test_err / test_batches))\n",
    "print(\"  test accuracy:\\t\\t{:.2f} %\".format(\n",
    "    test_acc / test_batches * 100))"
   ]
  },
  {
   "cell_type": "code",
   "execution_count": null,
   "metadata": {
    "collapsed": true
   },
   "outputs": [],
   "source": []
  },
  {
   "cell_type": "code",
   "execution_count": null,
   "metadata": {
    "collapsed": true
   },
   "outputs": [],
   "source": []
  }
 ],
 "metadata": {
  "kernelspec": {
   "display_name": "Python 2",
   "language": "python",
   "name": "python2"
  },
  "language_info": {
   "codemirror_mode": {
    "name": "ipython",
    "version": 2
   },
   "file_extension": ".py",
   "mimetype": "text/x-python",
   "name": "python",
   "nbconvert_exporter": "python",
   "pygments_lexer": "ipython2",
   "version": "2.7.3"
  }
 },
 "nbformat": 4,
 "nbformat_minor": 0
}
