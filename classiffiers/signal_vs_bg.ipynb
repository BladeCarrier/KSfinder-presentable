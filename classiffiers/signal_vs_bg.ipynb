{
 "cells": [
  {
   "cell_type": "code",
   "execution_count": 1,
   "metadata": {
    "collapsed": false
   },
   "outputs": [],
   "source": [
    "experiment_name = \"baseline.classifier.cnn_4_retinas.sig56_vs_bg\"\n"
   ]
  },
  {
   "cell_type": "code",
   "execution_count": 2,
   "metadata": {
    "collapsed": false
   },
   "outputs": [
    {
     "name": "stdout",
     "output_type": "stream",
     "text": [
      "env: THEANO_FLAGS=\"device=gpu3\"\n"
     ]
    }
   ],
   "source": [
    "%load_ext autoreload\n",
    "%autoreload 2\n",
    "%env THEANO_FLAGS=\"device=gpu3\"\n",
    "\n",
    "import sys,os\n",
    "sys.path.append(\"..\")\n"
   ]
  },
  {
   "cell_type": "code",
   "execution_count": 3,
   "metadata": {
    "collapsed": true
   },
   "outputs": [],
   "source": [
    "#import theano stack\n",
    "import numpy as np\n",
    "import pandas as pd\n",
    "import matplotlib.pyplot as plt\n",
    "%matplotlib inline\n"
   ]
  },
  {
   "cell_type": "markdown",
   "metadata": {},
   "source": [
    "## Preprocess/Load data"
   ]
  },
  {
   "cell_type": "code",
   "execution_count": 4,
   "metadata": {
    "collapsed": false
   },
   "outputs": [],
   "source": [
    "from config import from_data\n",
    "data_path_sig = from_data(\"sig56/\")\n",
    "data_path_bg_up = from_data(\"bg_up/\")\n",
    "data_path_bg_down = from_data(\"bg_down/\")\n",
    "metadata_path = from_data(\"k0s_event_identification\")\n",
    "\n",
    "\n",
    "generate_metadata = not os.path.exists(metadata_path)\n",
    "if generate_metadata:\n",
    "    print \"Metadata does not exist. This run might be MUCH longer due to preprocessing the data.\""
   ]
  },
  {
   "cell_type": "code",
   "execution_count": 5,
   "metadata": {
    "collapsed": false
   },
   "outputs": [
    {
     "name": "stderr",
     "output_type": "stream",
     "text": [
      "Using gpu device 3: Tesla K40m (CNMeM is disabled, cuDNN Version is too old. Update to v5, was 4004.)\n"
     ]
    }
   ],
   "source": [
    "from lib.retina_compiled import retina_view, retinize_events\n",
    "import random\n",
    "get_random_ids = lambda path,k: random.sample(set(map(lambda s: s.split('.')[0],os.listdir(path))), k)\n",
    "\n",
    "\n",
    "\n",
    "retina_images_path = os.path.join(metadata_path,\"retina_images.npy\")\n",
    "answers_path = os.path.join(metadata_path,\"sig_or_bg.npy\")\n",
    "\n",
    "if generate_metadata:\n",
    "    \n",
    "\n",
    "\n",
    "    param_df = pd.DataFrame.from_csv(from_data(\"retinas/sig_vs_bg_0.csv\"))\n",
    "    retinas = [retina_view(*params) for params in param_df.values]\n",
    "\n",
    "\n",
    "    \n",
    "    sample_names = [\"signal\",\"bg_up\",\"bg_down\"]\n",
    "\n",
    "    sample_sizes = [10000,5000,5000]\n",
    "\n",
    "    y = map(np.repeat, sample_names,sample_sizes)\n",
    "    y = np.concatenate(y)\n",
    "\n",
    "    data_paths = [data_path_sig,data_path_bg_up,data_path_bg_down]\n",
    "\n",
    "    random.seed(7331)\n",
    "    #event ids : \"{runnumber}_{eventnumber}\"\n",
    "    data_runids = map(get_random_ids,data_paths,sample_sizes)\n",
    "\n",
    "    data_X = [\n",
    "        retinize_events(ids_i,path_i,retina_views=retinas,\n",
    "                                 max_hits_block=15000,report_rate=100)\n",
    "        for ids_i,path_i in zip(data_runids,data_paths)\n",
    "    ]\n",
    "\n",
    "    X = np.concatenate(data_X)\n",
    "\n",
    "\n",
    "    y = np.concatenate(map(np.repeat, sample_names,sample_sizes))\n",
    "    \n",
    "    \n",
    "    os.mkdir(metadata_path)\n",
    "    np.save(retina_images_path,X)\n",
    "    np.save(answers_path, y)\n",
    "    \n",
    "    generate_metadata = False\n",
    "else:\n",
    "    #load metadata\n",
    "    X = np.load(retina_images_path)\n",
    "    y = np.load(answers_path)"
   ]
  },
  {
   "cell_type": "code",
   "execution_count": 6,
   "metadata": {
    "collapsed": false
   },
   "outputs": [],
   "source": [
    "X = X.reshape([len(X),-1,32,32])\n",
    "\n",
    "X = X.astype(\"float32\")\n",
    "y = (y==\"signal\").astype('int32')"
   ]
  },
  {
   "cell_type": "code",
   "execution_count": 7,
   "metadata": {
    "collapsed": false
   },
   "outputs": [
    {
     "name": "stdout",
     "output_type": "stream",
     "text": [
      "(15000,) (5000,)\n"
     ]
    }
   ],
   "source": [
    "from sklearn.cross_validation import train_test_split\n",
    "Xtr, Xts, Ytr,Yts = train_test_split(X,y,test_size=0.25,random_state=1337)\n",
    "\n",
    "print Ytr.shape,Yts.shape"
   ]
  },
  {
   "cell_type": "markdown",
   "metadata": {},
   "source": [
    "# define NN"
   ]
  },
  {
   "cell_type": "code",
   "execution_count": 8,
   "metadata": {
    "collapsed": true
   },
   "outputs": [],
   "source": [
    "import lasagne\n",
    "import theano\n",
    "import theano.tensor as T\n",
    "\n",
    "floatX = theano.config.floatX\n"
   ]
  },
  {
   "cell_type": "code",
   "execution_count": 9,
   "metadata": {
    "collapsed": false
   },
   "outputs": [],
   "source": [
    "input_dim = (None,)+X.shape[1:]\n",
    "\n",
    "retina_dim = (None,1) + X.shape[2:]\n",
    "\n",
    "retina_images = T.tensor4(\"input_images\",\"floatX\")\n",
    "\n",
    "any_interesting_decays = T.ivector(\"event_has_k0s\")"
   ]
  },
  {
   "cell_type": "code",
   "execution_count": 10,
   "metadata": {
    "collapsed": false
   },
   "outputs": [],
   "source": [
    "concatenated_retinas = retina_images.reshape([retina_images.shape[0],1,-1,retina_images.shape[-1]])\n",
    "\n",
    "concatenated_dim = (None,1,np.prod(X.shape[1:-1]),X.shape[-1])"
   ]
  },
  {
   "cell_type": "code",
   "execution_count": 12,
   "metadata": {
    "collapsed": false
   },
   "outputs": [],
   "source": [
    "from lasagne.layers import InputLayer\n",
    "from lasagne.layers import Conv2DLayer as ConvLayer\n",
    "from lasagne.layers import MaxPool2DLayer as PoolLayer\n",
    "from lasagne.layers import DenseLayer, DropoutLayer\n",
    "from lasagne.layers import batch_norm\n",
    "\n",
    "#nn where each retina is processed with a separate CNN\n",
    "\n",
    "net = {}\n",
    "\n",
    "net['input'] = InputLayer(concatenated_dim,input_var=concatenated_retinas)\n",
    "net['conv1_1'] = ConvLayer(\n",
    "            net['input'], 256, 5, pad=1, flip_filters=False)\n",
    "net['pool1'] = PoolLayer(net['conv1_1'], 3)\n",
    "net['conv2_1'] = ConvLayer(\n",
    "            net['pool1'], 256, 5, pad=1, flip_filters=False)\n",
    "\n",
    "net['conv2_bn'] = batch_norm(net['conv2_1'])\n",
    "\n",
    "net['pool2'] = PoolLayer(net['conv2_bn'], 3)\n",
    "    \n",
    "net['fc0'] = DenseLayer(net[\"pool2\"], num_units=2048)\n",
    "net['fc0_dropout'] = DropoutLayer(net['fc0'], p=0.5)\n",
    "net['fc1'] = DenseLayer(net[\"fc0_dropout\"], num_units=2048)\n",
    "\n",
    "net['out'] = DenseLayer(net['fc1'], num_units=2, \n",
    "                        nonlinearity=lasagne.nonlinearities.softmax)\n",
    "\n"
   ]
  },
  {
   "cell_type": "code",
   "execution_count": 13,
   "metadata": {
    "collapsed": false
   },
   "outputs": [
    {
     "data": {
      "text/plain": [
       "[W, b, W, beta, gamma, W, b, W, b, W, b]"
      ]
     },
     "execution_count": 13,
     "metadata": {},
     "output_type": "execute_result"
    }
   ],
   "source": [
    "weights = lasagne.layers.get_all_params(net[\"out\"],trainable=True)\n",
    "weights"
   ]
  },
  {
   "cell_type": "markdown",
   "metadata": {},
   "source": [
    "# train updates"
   ]
  },
  {
   "cell_type": "code",
   "execution_count": 14,
   "metadata": {
    "collapsed": false
   },
   "outputs": [],
   "source": [
    "train_prediction = lasagne.layers.get_output(net[\"out\"])\n",
    "train_loss_ce = lasagne.objectives.categorical_crossentropy(train_prediction,any_interesting_decays).mean()\n",
    "train_accuracy = lasagne.objectives.categorical_accuracy(train_prediction,any_interesting_decays).mean()\n",
    "updates = lasagne.updates.rmsprop(train_loss_ce,weights,learning_rate=0.001) \n",
    "#ik that lr does not matter. I just dont want an explosion."
   ]
  },
  {
   "cell_type": "code",
   "execution_count": 15,
   "metadata": {
    "collapsed": true
   },
   "outputs": [],
   "source": [
    "train_fun = theano.function([retina_images,any_interesting_decays],[train_loss_ce,train_accuracy,train_prediction[:,1]], updates=updates)"
   ]
  },
  {
   "cell_type": "markdown",
   "metadata": {},
   "source": [
    "# evaluation"
   ]
  },
  {
   "cell_type": "code",
   "execution_count": 16,
   "metadata": {
    "collapsed": true
   },
   "outputs": [],
   "source": [
    "prediction = lasagne.layers.get_output(net[\"out\"],deterministic=True)\n",
    "loss_ce = lasagne.objectives.categorical_crossentropy(prediction,any_interesting_decays).mean()\n",
    "accuracy = lasagne.objectives.categorical_accuracy(prediction,any_interesting_decays).mean()"
   ]
  },
  {
   "cell_type": "code",
   "execution_count": 17,
   "metadata": {
    "collapsed": false
   },
   "outputs": [],
   "source": [
    "eval_fun = theano.function([retina_images,any_interesting_decays], [loss_ce,accuracy,prediction[:,1]])\n",
    "predict_fun = theano.function([retina_images],prediction)"
   ]
  },
  {
   "cell_type": "markdown",
   "metadata": {},
   "source": [
    "# main loop\n",
    "* almost copies the layout of lasagne basic training "
   ]
  },
  {
   "cell_type": "code",
   "execution_count": 18,
   "metadata": {
    "collapsed": true
   },
   "outputs": [],
   "source": [
    "def iterate_minibatches(inputs, targets, batchsize, shuffle=False,crop_at=None):\n",
    "    assert len(inputs) == len(targets)\n",
    "    if shuffle:\n",
    "        indices = np.arange(len(inputs))\n",
    "        np.random.shuffle(indices)\n",
    "    for start_idx in range(0, len(inputs) - batchsize + 1, batchsize):\n",
    "        if crop_at == start_idx:\n",
    "            break\n",
    "        if shuffle:\n",
    "            excerpt = indices[start_idx:start_idx + batchsize]\n",
    "        else:\n",
    "            excerpt = slice(start_idx, start_idx + batchsize)\n",
    "        yield inputs[excerpt], targets[excerpt]\n",
    "        \n"
   ]
  },
  {
   "cell_type": "code",
   "execution_count": 19,
   "metadata": {
    "collapsed": false
   },
   "outputs": [
    {
     "name": "stdout",
     "output_type": "stream",
     "text": [
      "Epoch 1 of 50 took 89.397s\n",
      "  training loss:\t\t1.168029\n",
      "  training accuracy:\t\t60.87 %\n",
      "  training ROC AUC:\t\t64.837 %\n",
      "  validation loss:\t\t0.508441\n",
      "  validation accuracy:\t\t81.160 %\n",
      "  validation ROC AUC:\t\t89.652 %\n",
      "Epoch 2 of 50 took 89.223s\n",
      "  training loss:\t\t0.490669\n",
      "  training accuracy:\t\t76.91 %\n",
      "  training ROC AUC:\t\t84.565 %\n",
      "  validation loss:\t\t0.443510\n",
      "  validation accuracy:\t\t82.480 %\n",
      "  validation ROC AUC:\t\t93.424 %\n",
      "Epoch 3 of 50 took 89.668s\n",
      "  training loss:\t\t0.429964\n",
      "  training accuracy:\t\t80.39 %\n",
      "  training ROC AUC:\t\t88.318 %\n",
      "  validation loss:\t\t0.496859\n",
      "  validation accuracy:\t\t85.640 %\n",
      "  validation ROC AUC:\t\t93.828 %\n",
      "Epoch 4 of 50 took 93.757s\n",
      "  training loss:\t\t0.394594\n",
      "  training accuracy:\t\t82.08 %\n",
      "  training ROC AUC:\t\t90.218 %\n",
      "  validation loss:\t\t0.421310\n",
      "  validation accuracy:\t\t80.920 %\n",
      "  validation ROC AUC:\t\t93.708 %\n",
      "Epoch 5 of 50 took 92.263s\n",
      "  training loss:\t\t0.370364\n",
      "  training accuracy:\t\t83.05 %\n",
      "  training ROC AUC:\t\t91.371 %\n",
      "  validation loss:\t\t0.364636\n",
      "  validation accuracy:\t\t84.980 %\n",
      "  validation ROC AUC:\t\t93.772 %\n",
      "Epoch 6 of 50 took 92.770s\n",
      "  training loss:\t\t0.359866\n",
      "  training accuracy:\t\t84.07 %\n",
      "  training ROC AUC:\t\t91.981 %\n",
      "  validation loss:\t\t0.370160\n",
      "  validation accuracy:\t\t86.560 %\n",
      "  validation ROC AUC:\t\t95.061 %\n",
      "Epoch 7 of 50 took 92.014s\n",
      "  training loss:\t\t0.349960\n",
      "  training accuracy:\t\t84.20 %\n",
      "  training ROC AUC:\t\t92.401 %\n",
      "  validation loss:\t\t0.385638\n",
      "  validation accuracy:\t\t86.980 %\n",
      "  validation ROC AUC:\t\t95.404 %\n",
      "Epoch 8 of 50 took 90.582s\n",
      "  training loss:\t\t0.335866\n",
      "  training accuracy:\t\t85.49 %\n",
      "  training ROC AUC:\t\t93.124 %\n",
      "  validation loss:\t\t0.372106\n",
      "  validation accuracy:\t\t87.420 %\n",
      "  validation ROC AUC:\t\t95.483 %\n",
      "Epoch 9 of 50 took 89.309s\n",
      "  training loss:\t\t0.327814\n",
      "  training accuracy:\t\t85.46 %\n",
      "  training ROC AUC:\t\t93.358 %\n",
      "  validation loss:\t\t0.372785\n",
      "  validation accuracy:\t\t86.760 %\n",
      "  validation ROC AUC:\t\t95.672 %\n",
      "Epoch 10 of 50 took 86.907s\n",
      "  training loss:\t\t0.318748\n",
      "  training accuracy:\t\t86.24 %\n",
      "  training ROC AUC:\t\t93.735 %\n",
      "  validation loss:\t\t0.397633\n",
      "  validation accuracy:\t\t88.200 %\n",
      "  validation ROC AUC:\t\t96.326 %\n",
      "Epoch 11 of 50 took 87.388s\n",
      "  training loss:\t\t0.310802\n",
      "  training accuracy:\t\t86.33 %\n",
      "  training ROC AUC:\t\t94.121 %\n",
      "  validation loss:\t\t0.371639\n",
      "  validation accuracy:\t\t86.700 %\n",
      "  validation ROC AUC:\t\t96.201 %\n",
      "Epoch 12 of 50 took 89.630s\n",
      "  training loss:\t\t0.296962\n",
      "  training accuracy:\t\t86.81 %\n",
      "  training ROC AUC:\t\t94.577 %\n",
      "  validation loss:\t\t0.377579\n",
      "  validation accuracy:\t\t89.220 %\n",
      "  validation ROC AUC:\t\t96.126 %\n",
      "Epoch 13 of 50 took 88.800s\n",
      "  training loss:\t\t0.294931\n",
      "  training accuracy:\t\t87.08 %\n",
      "  training ROC AUC:\t\t94.665 %\n",
      "  validation loss:\t\t0.340925\n",
      "  validation accuracy:\t\t90.180 %\n",
      "  validation ROC AUC:\t\t96.826 %\n",
      "Epoch 14 of 50 took 88.226s\n",
      "  training loss:\t\t0.282850\n",
      "  training accuracy:\t\t87.90 %\n",
      "  training ROC AUC:\t\t95.117 %\n",
      "  validation loss:\t\t0.314181\n",
      "  validation accuracy:\t\t90.540 %\n",
      "  validation ROC AUC:\t\t96.882 %\n",
      "Epoch 15 of 50 took 88.609s\n",
      "  training loss:\t\t0.282999\n",
      "  training accuracy:\t\t87.67 %\n",
      "  training ROC AUC:\t\t95.116 %\n",
      "  validation loss:\t\t0.376815\n",
      "  validation accuracy:\t\t85.940 %\n",
      "  validation ROC AUC:\t\t96.757 %\n",
      "Epoch 16 of 50 took 87.739s\n",
      "  training loss:\t\t0.279992\n",
      "  training accuracy:\t\t88.18 %\n",
      "  training ROC AUC:\t\t95.185 %\n",
      "  validation loss:\t\t0.373419\n",
      "  validation accuracy:\t\t89.720 %\n",
      "  validation ROC AUC:\t\t96.912 %\n",
      "Epoch 17 of 50 took 89.543s\n",
      "  training loss:\t\t0.268258\n",
      "  training accuracy:\t\t88.50 %\n",
      "  training ROC AUC:\t\t95.606 %\n",
      "  validation loss:\t\t0.389075\n",
      "  validation accuracy:\t\t83.840 %\n",
      "  validation ROC AUC:\t\t96.441 %\n",
      "Epoch 18 of 50 took 88.932s\n",
      "  training loss:\t\t0.266377\n",
      "  training accuracy:\t\t88.53 %\n",
      "  training ROC AUC:\t\t95.680 %\n",
      "  validation loss:\t\t0.387754\n",
      "  validation accuracy:\t\t90.000 %\n",
      "  validation ROC AUC:\t\t97.036 %\n",
      "Epoch 19 of 50 took 92.058s\n",
      "  training loss:\t\t0.260280\n",
      "  training accuracy:\t\t89.02 %\n",
      "  training ROC AUC:\t\t95.896 %\n",
      "  validation loss:\t\t0.353737\n",
      "  validation accuracy:\t\t85.540 %\n",
      "  validation ROC AUC:\t\t96.601 %\n",
      "Epoch 20 of 50 took 95.621s\n",
      "  training loss:\t\t0.254795\n",
      "  training accuracy:\t\t89.03 %\n",
      "  training ROC AUC:\t\t96.058 %\n",
      "  validation loss:\t\t0.325286\n",
      "  validation accuracy:\t\t89.160 %\n",
      "  validation ROC AUC:\t\t97.325 %\n",
      "Epoch 21 of 50 took 94.426s\n",
      "  training loss:\t\t0.249357\n",
      "  training accuracy:\t\t89.59 %\n",
      "  training ROC AUC:\t\t96.224 %\n",
      "  validation loss:\t\t0.295460\n",
      "  validation accuracy:\t\t90.140 %\n",
      "  validation ROC AUC:\t\t97.265 %\n",
      "Epoch 22 of 50 took 93.309s\n",
      "  training loss:\t\t0.250690\n",
      "  training accuracy:\t\t89.55 %\n",
      "  training ROC AUC:\t\t96.186 %\n",
      "  validation loss:\t\t0.364523\n",
      "  validation accuracy:\t\t83.500 %\n",
      "  validation ROC AUC:\t\t97.000 %\n",
      "Epoch 23 of 50 took 91.802s\n",
      "  training loss:\t\t0.244287\n",
      "  training accuracy:\t\t89.72 %\n",
      "  training ROC AUC:\t\t96.364 %\n",
      "  validation loss:\t\t0.320050\n",
      "  validation accuracy:\t\t91.540 %\n",
      "  validation ROC AUC:\t\t97.582 %\n",
      "Epoch 24 of 50 took 93.914s\n",
      "  training loss:\t\t0.241259\n",
      "  training accuracy:\t\t89.94 %\n",
      "  training ROC AUC:\t\t96.519 %\n",
      "  validation loss:\t\t0.259905\n",
      "  validation accuracy:\t\t91.020 %\n",
      "  validation ROC AUC:\t\t97.485 %\n",
      "Epoch 25 of 50 took 94.242s\n",
      "  training loss:\t\t0.237150\n",
      "  training accuracy:\t\t90.08 %\n",
      "  training ROC AUC:\t\t96.570 %\n",
      "  validation loss:\t\t0.329276\n",
      "  validation accuracy:\t\t87.800 %\n",
      "  validation ROC AUC:\t\t97.587 %\n",
      "Epoch 26 of 50 took 93.778s\n",
      "  training loss:\t\t0.235259\n",
      "  training accuracy:\t\t90.04 %\n",
      "  training ROC AUC:\t\t96.635 %\n",
      "  validation loss:\t\t0.287796\n",
      "  validation accuracy:\t\t88.980 %\n",
      "  validation ROC AUC:\t\t97.257 %\n",
      "Epoch 27 of 50 took 94.054s\n",
      "  training loss:\t\t0.230575\n",
      "  training accuracy:\t\t90.22 %\n",
      "  training ROC AUC:\t\t96.774 %\n",
      "  validation loss:\t\t0.298843\n",
      "  validation accuracy:\t\t91.600 %\n",
      "  validation ROC AUC:\t\t97.665 %\n",
      "Epoch 28 of 50 took 95.325s\n",
      "  training loss:\t\t0.229037\n",
      "  training accuracy:\t\t90.30 %\n",
      "  training ROC AUC:\t\t96.798 %\n",
      "  validation loss:\t\t0.291486\n",
      "  validation accuracy:\t\t90.760 %\n",
      "  validation ROC AUC:\t\t97.733 %\n",
      "Epoch 29 of 50 took 95.253s\n",
      "  training loss:\t\t0.221057\n",
      "  training accuracy:\t\t90.64 %\n",
      "  training ROC AUC:\t\t97.038 %\n",
      "  validation loss:\t\t0.270967\n",
      "  validation accuracy:\t\t87.420 %\n",
      "  validation ROC AUC:\t\t97.392 %\n",
      "Epoch 30 of 50 took 92.377s\n",
      "  training loss:\t\t0.226685\n",
      "  training accuracy:\t\t90.32 %\n",
      "  training ROC AUC:\t\t96.854 %\n",
      "  validation loss:\t\t0.264285\n",
      "  validation accuracy:\t\t91.540 %\n",
      "  validation ROC AUC:\t\t97.805 %\n",
      "Epoch 31 of 50 took 92.860s\n",
      "  training loss:\t\t0.223753\n",
      "  training accuracy:\t\t90.68 %\n",
      "  training ROC AUC:\t\t96.952 %\n",
      "  validation loss:\t\t0.292821\n",
      "  validation accuracy:\t\t90.540 %\n",
      "  validation ROC AUC:\t\t97.586 %\n",
      "Epoch 32 of 50 took 91.223s\n",
      "  training loss:\t\t0.218366\n",
      "  training accuracy:\t\t90.83 %\n",
      "  training ROC AUC:\t\t97.109 %\n",
      "  validation loss:\t\t0.346210\n",
      "  validation accuracy:\t\t81.700 %\n",
      "  validation ROC AUC:\t\t96.823 %\n",
      "Epoch 33 of 50 took 94.359s\n",
      "  training loss:\t\t0.216328\n",
      "  training accuracy:\t\t90.94 %\n",
      "  training ROC AUC:\t\t97.145 %\n",
      "  validation loss:\t\t0.259480\n",
      "  validation accuracy:\t\t92.300 %\n",
      "  validation ROC AUC:\t\t97.845 %\n",
      "Epoch 34 of 50 took 94.405s\n",
      "  training loss:\t\t0.213377\n",
      "  training accuracy:\t\t91.15 %\n",
      "  training ROC AUC:\t\t97.238 %\n",
      "  validation loss:\t\t0.289580\n",
      "  validation accuracy:\t\t92.200 %\n",
      "  validation ROC AUC:\t\t97.865 %\n",
      "Epoch 35 of 50 took 91.030s\n",
      "  training loss:\t\t0.216050\n",
      "  training accuracy:\t\t90.92 %\n",
      "  training ROC AUC:\t\t97.162 %\n",
      "  validation loss:\t\t0.282309\n",
      "  validation accuracy:\t\t92.180 %\n",
      "  validation ROC AUC:\t\t97.653 %\n",
      "Epoch 36 of 50 took 91.683s\n",
      "  training loss:\t\t0.212912\n",
      "  training accuracy:\t\t91.08 %\n",
      "  training ROC AUC:\t\t97.207 %\n",
      "  validation loss:\t\t0.220980\n",
      "  validation accuracy:\t\t90.980 %\n",
      "  validation ROC AUC:\t\t97.844 %\n",
      "Epoch 37 of 50 took 89.188s\n",
      "  training loss:\t\t0.211733\n",
      "  training accuracy:\t\t91.22 %\n",
      "  training ROC AUC:\t\t97.271 %\n",
      "  validation loss:\t\t0.268143\n",
      "  validation accuracy:\t\t92.720 %\n",
      "  validation ROC AUC:\t\t97.963 %\n",
      "Epoch 38 of 50 took 90.156s\n",
      "  training loss:\t\t0.211465\n",
      "  training accuracy:\t\t91.19 %\n",
      "  training ROC AUC:\t\t97.295 %\n",
      "  validation loss:\t\t0.265160\n",
      "  validation accuracy:\t\t92.440 %\n",
      "  validation ROC AUC:\t\t97.922 %\n",
      "Epoch 39 of 50 took 90.026s\n",
      "  training loss:\t\t0.207512\n",
      "  training accuracy:\t\t91.44 %\n",
      "  training ROC AUC:\t\t97.370 %\n",
      "  validation loss:\t\t0.283619\n",
      "  validation accuracy:\t\t91.220 %\n",
      "  validation ROC AUC:\t\t98.000 %\n",
      "Epoch 40 of 50 took 88.961s\n",
      "  training loss:\t\t0.210107\n",
      "  training accuracy:\t\t91.45 %\n",
      "  training ROC AUC:\t\t97.311 %\n",
      "  validation loss:\t\t0.259091\n",
      "  validation accuracy:\t\t89.580 %\n",
      "  validation ROC AUC:\t\t97.685 %\n",
      "Epoch 41 of 50 took 88.124s\n",
      "  training loss:\t\t0.205928\n",
      "  training accuracy:\t\t91.12 %\n",
      "  training ROC AUC:\t\t97.387 %\n",
      "  validation loss:\t\t0.327861\n",
      "  validation accuracy:\t\t92.360 %\n",
      "  validation ROC AUC:\t\t97.873 %\n",
      "Epoch 42 of 50 took 88.733s\n",
      "  training loss:\t\t0.202380\n",
      "  training accuracy:\t\t91.27 %\n",
      "  training ROC AUC:\t\t97.497 %\n",
      "  validation loss:\t\t0.219983\n",
      "  validation accuracy:\t\t91.840 %\n",
      "  validation ROC AUC:\t\t97.961 %\n",
      "Epoch 43 of 50 took 88.009s\n",
      "  training loss:\t\t0.203223\n",
      "  training accuracy:\t\t91.51 %\n",
      "  training ROC AUC:\t\t97.469 %\n",
      "  validation loss:\t\t0.267679\n",
      "  validation accuracy:\t\t90.380 %\n",
      "  validation ROC AUC:\t\t97.821 %\n",
      "Epoch 44 of 50 took 90.010s\n",
      "  training loss:\t\t0.200739\n",
      "  training accuracy:\t\t91.59 %\n",
      "  training ROC AUC:\t\t97.515 %\n",
      "  validation loss:\t\t0.258910\n",
      "  validation accuracy:\t\t92.220 %\n",
      "  validation ROC AUC:\t\t98.023 %\n",
      "Epoch 45 of 50 took 90.104s\n",
      "  training loss:\t\t0.199912\n",
      "  training accuracy:\t\t91.69 %\n",
      "  training ROC AUC:\t\t97.558 %\n",
      "  validation loss:\t\t0.229805\n",
      "  validation accuracy:\t\t92.400 %\n",
      "  validation ROC AUC:\t\t98.016 %\n",
      "Epoch 46 of 50 took 90.052s\n",
      "  training loss:\t\t0.198947\n",
      "  training accuracy:\t\t91.75 %\n",
      "  training ROC AUC:\t\t97.573 %\n",
      "  validation loss:\t\t0.227310\n",
      "  validation accuracy:\t\t92.180 %\n",
      "  validation ROC AUC:\t\t98.166 %\n",
      "Epoch 47 of 50 took 89.715s\n",
      "  training loss:\t\t0.196639\n",
      "  training accuracy:\t\t91.80 %\n",
      "  training ROC AUC:\t\t97.638 %\n",
      "  validation loss:\t\t0.208791\n",
      "  validation accuracy:\t\t92.380 %\n",
      "  validation ROC AUC:\t\t98.033 %\n",
      "Epoch 48 of 50 took 89.524s\n",
      "  training loss:\t\t0.194371\n",
      "  training accuracy:\t\t91.85 %\n",
      "  training ROC AUC:\t\t97.693 %\n",
      "  validation loss:\t\t0.253900\n",
      "  validation accuracy:\t\t91.920 %\n",
      "  validation ROC AUC:\t\t98.038 %\n",
      "Epoch 49 of 50 took 89.575s\n",
      "  training loss:\t\t0.198942\n",
      "  training accuracy:\t\t91.80 %\n",
      "  training ROC AUC:\t\t97.593 %\n",
      "  validation loss:\t\t0.272430\n",
      "  validation accuracy:\t\t90.460 %\n",
      "  validation ROC AUC:\t\t97.983 %\n",
      "Epoch 50 of 50 took 86.817s\n",
      "  training loss:\t\t0.198608\n",
      "  training accuracy:\t\t91.49 %\n",
      "  training ROC AUC:\t\t97.571 %\n",
      "  validation loss:\t\t0.255670\n",
      "  validation accuracy:\t\t89.620 %\n",
      "  validation ROC AUC:\t\t97.906 %\n"
     ]
    }
   ],
   "source": [
    "from collections import defaultdict\n",
    "from sklearn.metrics import roc_auc_score\n",
    "metrics = defaultdict(dict)\n",
    "\n",
    "import time\n",
    "num_epochs = 50\n",
    "batch_size = 50\n",
    "\n",
    "# We iterate over epochs:\n",
    "for epoch in range(num_epochs):\n",
    "    # In each epoch, we do a full pass over the training data:\n",
    "    train_err = 0\n",
    "    train_acc = 0\n",
    "    train_batches = 0\n",
    "    start_time = time.time()\n",
    "    y_pred_batches = []\n",
    "    y_ref_batches = []\n",
    "    for batch in iterate_minibatches(Xtr, Ytr, batch_size, shuffle=True):\n",
    "        batch_ce,batch_acc,pred_batch= train_fun(*batch)\n",
    "        train_err +=batch_ce\n",
    "        train_acc +=batch_acc\n",
    "        train_batches += 1\n",
    "        y_pred_batches.append(pred_batch)\n",
    "        y_ref_batches.append(batch[1])\n",
    "        \n",
    "    y_pred = np.concatenate(y_pred_batches)\n",
    "    y_ref = np.concatenate(y_ref_batches)\n",
    "    train_auc = roc_auc_score(y_ref,y_pred)\n",
    "\n",
    "    # And a full pass over the validation data:\n",
    "    val_err = 0\n",
    "    val_acc = 0\n",
    "    val_batches = 0\n",
    "    y_pred_batches = []\n",
    "    y_ref_batches = []\n",
    "    for batch in iterate_minibatches(Xts, Yts, batch_size, shuffle=False):\n",
    "        err, acc,pred_batch = eval_fun(*batch)\n",
    "        val_err += err\n",
    "        val_acc += acc\n",
    "        val_batches += 1\n",
    "        y_pred_batches.append(pred_batch)\n",
    "        y_ref_batches.append(batch[1])\n",
    "\n",
    "    y_pred = np.concatenate(y_pred_batches)\n",
    "    y_ref = np.concatenate(y_ref_batches)\n",
    "    val_auc = roc_auc_score(y_ref,y_pred)\n",
    "\n",
    "    metrics[\"acc_train\"][epoch] = train_acc/train_batches\n",
    "    metrics[\"auc_train\"][epoch] = train_auc\n",
    "    metrics[\"acc_test\"][epoch] = val_acc/val_batches\n",
    "    metrics[\"auc_test\"][epoch] = val_auc\n",
    "    \n",
    "    # Then we print the results for this epoch:\n",
    "    print(\"Epoch {} of {} took {:.3f}s\".format(\n",
    "        epoch + 1, num_epochs, time.time() - start_time))\n",
    "    print(\"  training loss:\\t\\t{:.6f}\".format(train_err / train_batches))\n",
    "    print(\"  training accuracy:\\t\\t{:.2f} %\".format(\n",
    "        train_acc / train_batches*100))\n",
    "    print(\"  training ROC AUC:\\t\\t{:.3f} %\".format(\n",
    "        train_auc*100))\n",
    "    print(\"  validation loss:\\t\\t{:.6f}\".format(val_err / val_batches))\n",
    "    print(\"  validation accuracy:\\t\\t{:.3f} %\".format(\n",
    "        val_acc / val_batches*100))\n",
    "    print(\"  validation ROC AUC:\\t\\t{:.3f} %\".format(\n",
    "        val_auc*100))\n",
    "\n"
   ]
  },
  {
   "cell_type": "code",
   "execution_count": 22,
   "metadata": {
    "collapsed": false
   },
   "outputs": [
    {
     "data": {
      "text/plain": [
       "<matplotlib.legend.Legend at 0x16f1fa10>"
      ]
     },
     "execution_count": 22,
     "metadata": {},
     "output_type": "execute_result"
    },
    {
     "data": {
      "image/png": "[encoded data removed]",
      "text/plain": [
       "<matplotlib.figure.Figure at 0x16f24f10>"
      ]
     },
     "metadata": {},
     "output_type": "display_data"
    }
   ],
   "source": [
    "for metric_name in metrics:\n",
    "    \n",
    "    plt.plot(*zip(*sorted(metrics[metric_name].items())),label = metric_name)\n",
    "plt.legend(loc='best')"
   ]
  },
  {
   "cell_type": "markdown",
   "metadata": {
    "collapsed": true
   },
   "source": [
    "# Evaluation"
   ]
  },
  {
   "cell_type": "code",
   "execution_count": null,
   "metadata": {
    "collapsed": false
   },
   "outputs": [],
   "source": [
    "val_err = 0\n",
    "val_acc = 0\n",
    "val_batches = 0\n",
    "y_pred_batches = []\n",
    "y_ref_batches = []\n",
    "\n",
    "for batch in iterate_minibatches(Xts, Yts, batch_size, shuffle=False):\n",
    "    err, acc,pred_batch = eval_fun(*batch)\n",
    "    val_err += err\n",
    "    val_acc += acc\n",
    "    val_batches += 1\n",
    "    y_pred_batches.append(pred_batch)\n",
    "    y_ref_batches.append(batch[1])\n",
    "\n",
    "y_pred = np.concatenate(y_pred_batches)\n",
    "y_ref = np.concatenate(y_ref_batches)\n",
    "val_auc = roc_auc_score(y_ref,y_pred)\n",
    "\n",
    "print(\"  validation loss:\\t\\t{:.6f}\".format(val_err / val_batches))\n",
    "print(\"  validation accuracy:\\t\\t{:.3f} %\".format(\n",
    "    val_acc*100 / val_batches))\n",
    "print(\"  validation ROC AUC:\\t\\t{:.3f} %\".format(\n",
    "    val_auc*100))\n"
   ]
  },
  {
   "cell_type": "code",
   "execution_count": null,
   "metadata": {
    "collapsed": true
   },
   "outputs": [],
   "source": []
  },
  {
   "cell_type": "code",
   "execution_count": null,
   "metadata": {
    "collapsed": true
   },
   "outputs": [],
   "source": []
  }
 ],
 "metadata": {
  "kernelspec": {
   "display_name": "Python 2",
   "language": "python",
   "name": "python2"
  },
  "language_info": {
   "codemirror_mode": {
    "name": "ipython",
    "version": 2
   },
   "file_extension": ".py",
   "mimetype": "text/x-python",
   "name": "python",
   "nbconvert_exporter": "python",
   "pygments_lexer": "ipython2",
   "version": "2.7.3"
  }
 },
 "nbformat": 4,
 "nbformat_minor": 0
}
