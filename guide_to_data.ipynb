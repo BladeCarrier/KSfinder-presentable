{
 "cells": [
  {
   "cell_type": "markdown",
   "metadata": {},
   "source": [
    "# Привет!\n",
    "\n",
    "\n",
    "Мя главная тетрадка этой бранчи и я расскажу тебе, откуда брать данные, и с чем их есть.\n",
    "\n",
    "\n",
    "* Архив с данными лежит тут https://yadi.sk/d/d8WOOuB0qR79M (6 gb чугуниевого трафика__!__)\n",
    "\n",
    "* \"картотека\" этого архива лежит в paths_and_targets.csv\n",
    "\n",
    "* Далее по тексту подразумевается, что архив распкован в ./data\n"
   ]
  },
  {
   "cell_type": "code",
   "execution_count": 3,
   "metadata": {
    "collapsed": false
   },
   "outputs": [
    {
     "name": "stdout",
     "output_type": "stream",
     "text": [
      "total 6.2G\r\n",
      "drwxr-xr-x 2 root root 2.6M Mar 23 14:52 data\r\n",
      "-rw-r--r-- 1 root root 1.8K Mar 23 16:42 guide_to_data.ipynb\r\n",
      "-rw-r--r-- 1 root root  11K Mar 23 14:54 in-the-making.ipynb\r\n",
      "-rw-r--r-- 1 root root 6.2G Mar 23 14:55 ks_data.tar.gz\r\n",
      "-rw-r--r-- 1 root root 682K Mar 23 14:38 paths_and_targets.csv\r\n",
      "-rw-r--r-- 1 root root   23 Mar 23 12:02 README.md\r\n"
     ]
    }
   ],
   "source": [
    "!ls -lh"
   ]
  },
  {
   "cell_type": "markdown",
   "metadata": {},
   "source": [
    "## Как устроены данные"
   ]
  },
  {
   "cell_type": "code",
   "execution_count": 7,
   "metadata": {
    "collapsed": false
   },
   "outputs": [],
   "source": [
    "import pandas as pd\n",
    "df_ref = pd.DataFrame.from_csv(\"paths_and_targets.csv\",index_col=None)"
   ]
  },
  {
   "cell_type": "code",
   "execution_count": 11,
   "metadata": {
    "collapsed": false
   },
   "outputs": [
    {
     "name": "stdout",
     "output_type": "stream",
     "text": [
      "(31704, 2)\n"
     ]
    },
    {
     "data": {
      "text/html": [
       "<div>\n",
       "<table border=\"1\" class=\"dataframe\">\n",
       "  <thead>\n",
       "    <tr style=\"text-align: right;\">\n",
       "      <th></th>\n",
       "      <th>X_filename</th>\n",
       "      <th>relevant_decay_count</th>\n",
       "    </tr>\n",
       "  </thead>\n",
       "  <tbody>\n",
       "    <tr>\n",
       "      <th>0</th>\n",
       "      <td>03695701_0000422457</td>\n",
       "      <td>1</td>\n",
       "    </tr>\n",
       "    <tr>\n",
       "      <th>1</th>\n",
       "      <td>03695711_0000432730</td>\n",
       "      <td>0</td>\n",
       "    </tr>\n",
       "    <tr>\n",
       "      <th>2</th>\n",
       "      <td>03696086_0000828569</td>\n",
       "      <td>0</td>\n",
       "    </tr>\n",
       "    <tr>\n",
       "      <th>3</th>\n",
       "      <td>03695422_0000127915</td>\n",
       "      <td>2</td>\n",
       "    </tr>\n",
       "    <tr>\n",
       "      <th>4</th>\n",
       "      <td>03695965_0000700522</td>\n",
       "      <td>0</td>\n",
       "    </tr>\n",
       "    <tr>\n",
       "      <th>5</th>\n",
       "      <td>03695477_0000185783</td>\n",
       "      <td>0</td>\n",
       "    </tr>\n",
       "    <tr>\n",
       "      <th>6</th>\n",
       "      <td>03695497_0000207308</td>\n",
       "      <td>0</td>\n",
       "    </tr>\n",
       "    <tr>\n",
       "      <th>7</th>\n",
       "      <td>03695491_0000200781</td>\n",
       "      <td>0</td>\n",
       "    </tr>\n",
       "    <tr>\n",
       "      <th>8</th>\n",
       "      <td>03695497_0000206921</td>\n",
       "      <td>1</td>\n",
       "    </tr>\n",
       "    <tr>\n",
       "      <th>9</th>\n",
       "      <td>03695903_0000635167</td>\n",
       "      <td>1</td>\n",
       "    </tr>\n",
       "  </tbody>\n",
       "</table>\n",
       "</div>"
      ],
      "text/plain": [
       "            X_filename  relevant_decay_count\n",
       "0  03695701_0000422457                     1\n",
       "1  03695711_0000432730                     0\n",
       "2  03696086_0000828569                     0\n",
       "3  03695422_0000127915                     2\n",
       "4  03695965_0000700522                     0\n",
       "5  03695477_0000185783                     0\n",
       "6  03695497_0000207308                     0\n",
       "7  03695491_0000200781                     0\n",
       "8  03695497_0000206921                     1\n",
       "9  03695903_0000635167                     1"
      ]
     },
     "execution_count": 11,
     "metadata": {},
     "output_type": "execute_result"
    }
   ],
   "source": [
    "# Колонки:\n",
    "# X_filename - идентификатор 1 события (сампла) и префикс имён файлов в главном архиве,\n",
    "# relevant_decay_count - количество \"интересных\" распадов в этом событии.\n",
    "print df_ref.shape\n",
    "df_ref[:10]"
   ]
  },
  {
   "cell_type": "code",
   "execution_count": 13,
   "metadata": {
    "collapsed": true
   },
   "outputs": [],
   "source": [
    "#Для примера возьмём третье (с нуля) событие в списке сверху \n",
    "event_id = \"03695422_0000127915\"\n"
   ]
  },
  {
   "cell_type": "markdown",
   "metadata": {},
   "source": [
    "## В большом архиве по каждому событию лежат:\n",
    "* Всегда - __{имя}.hits.csv__ - хиты (точки в 3D пространстве) - активировавшиеся участки детекторов\n",
    " * Колонки:\n",
    "     * X,Y,Z - активировавшаяся точка\n",
    "     * source - субтетектор, которому принадлежит эта активация"
   ]
  },
  {
   "cell_type": "code",
   "execution_count": 19,
   "metadata": {
    "collapsed": false
   },
   "outputs": [
    {
     "name": "stdout",
     "output_type": "stream",
     "text": [
      "(8688, 4)\n"
     ]
    },
    {
     "data": {
      "text/html": [
       "<div>\n",
       "<table border=\"1\" class=\"dataframe\">\n",
       "  <thead>\n",
       "    <tr style=\"text-align: right;\">\n",
       "      <th></th>\n",
       "      <th>X</th>\n",
       "      <th>Y</th>\n",
       "      <th>Z</th>\n",
       "      <th>source</th>\n",
       "    </tr>\n",
       "  </thead>\n",
       "  <tbody>\n",
       "    <tr>\n",
       "      <th>0</th>\n",
       "      <td>-3596.000</td>\n",
       "      <td>-1767.00000</td>\n",
       "      <td>12694.00</td>\n",
       "      <td>ECAL</td>\n",
       "    </tr>\n",
       "    <tr>\n",
       "      <th>500</th>\n",
       "      <td>1127.000</td>\n",
       "      <td>-91.00000</td>\n",
       "      <td>12700.00</td>\n",
       "      <td>ECAL</td>\n",
       "    </tr>\n",
       "    <tr>\n",
       "      <th>1000</th>\n",
       "      <td>-478.719</td>\n",
       "      <td>3.08414</td>\n",
       "      <td>2368.17</td>\n",
       "      <td>TT</td>\n",
       "    </tr>\n",
       "    <tr>\n",
       "      <th>1500</th>\n",
       "      <td>-266.204</td>\n",
       "      <td>1.62457</td>\n",
       "      <td>2636.01</td>\n",
       "      <td>TT</td>\n",
       "    </tr>\n",
       "    <tr>\n",
       "      <th>2000</th>\n",
       "      <td>869.265</td>\n",
       "      <td>0.00000</td>\n",
       "      <td>7870.12</td>\n",
       "      <td>OT</td>\n",
       "    </tr>\n",
       "    <tr>\n",
       "      <th>2500</th>\n",
       "      <td>2275.410</td>\n",
       "      <td>0.00000</td>\n",
       "      <td>7924.62</td>\n",
       "      <td>OT</td>\n",
       "    </tr>\n",
       "    <tr>\n",
       "      <th>3000</th>\n",
       "      <td>1171.870</td>\n",
       "      <td>0.00000</td>\n",
       "      <td>8038.96</td>\n",
       "      <td>OT</td>\n",
       "    </tr>\n",
       "    <tr>\n",
       "      <th>3500</th>\n",
       "      <td>668.248</td>\n",
       "      <td>0.00000</td>\n",
       "      <td>8544.38</td>\n",
       "      <td>OT</td>\n",
       "    </tr>\n",
       "    <tr>\n",
       "      <th>4000</th>\n",
       "      <td>-1069.760</td>\n",
       "      <td>0.00000</td>\n",
       "      <td>8662.18</td>\n",
       "      <td>OT</td>\n",
       "    </tr>\n",
       "    <tr>\n",
       "      <th>4500</th>\n",
       "      <td>-850.335</td>\n",
       "      <td>0.00000</td>\n",
       "      <td>8716.68</td>\n",
       "      <td>OT</td>\n",
       "    </tr>\n",
       "    <tr>\n",
       "      <th>5000</th>\n",
       "      <td>768.468</td>\n",
       "      <td>0.00000</td>\n",
       "      <td>9289.55</td>\n",
       "      <td>OT</td>\n",
       "    </tr>\n",
       "    <tr>\n",
       "      <th>5500</th>\n",
       "      <td>767.857</td>\n",
       "      <td>0.00000</td>\n",
       "      <td>9353.59</td>\n",
       "      <td>OT</td>\n",
       "    </tr>\n",
       "    <tr>\n",
       "      <th>6000</th>\n",
       "      <td>115.430</td>\n",
       "      <td>100.11800</td>\n",
       "      <td>7775.99</td>\n",
       "      <td>IT</td>\n",
       "    </tr>\n",
       "    <tr>\n",
       "      <th>6500</th>\n",
       "      <td>-478.503</td>\n",
       "      <td>-102.95300</td>\n",
       "      <td>9051.76</td>\n",
       "      <td>IT</td>\n",
       "    </tr>\n",
       "    <tr>\n",
       "      <th>7000</th>\n",
       "      <td>-945.000</td>\n",
       "      <td>-841.00000</td>\n",
       "      <td>11968.00</td>\n",
       "      <td>MUON</td>\n",
       "    </tr>\n",
       "    <tr>\n",
       "      <th>7500</th>\n",
       "      <td>-2902.000</td>\n",
       "      <td>4366.00000</td>\n",
       "      <td>18879.00</td>\n",
       "      <td>MUON</td>\n",
       "    </tr>\n",
       "    <tr>\n",
       "      <th>8000</th>\n",
       "      <td>922.000</td>\n",
       "      <td>503.00000</td>\n",
       "      <td>15228.00</td>\n",
       "      <td>MUON2</td>\n",
       "    </tr>\n",
       "    <tr>\n",
       "      <th>8500</th>\n",
       "      <td>16.000</td>\n",
       "      <td>-6.00000</td>\n",
       "      <td>66.00</td>\n",
       "      <td>VELOPHI1</td>\n",
       "    </tr>\n",
       "  </tbody>\n",
       "</table>\n",
       "</div>"
      ],
      "text/plain": [
       "             X           Y         Z    source\n",
       "0    -3596.000 -1767.00000  12694.00      ECAL\n",
       "500   1127.000   -91.00000  12700.00      ECAL\n",
       "1000  -478.719     3.08414   2368.17        TT\n",
       "1500  -266.204     1.62457   2636.01        TT\n",
       "2000   869.265     0.00000   7870.12        OT\n",
       "2500  2275.410     0.00000   7924.62        OT\n",
       "3000  1171.870     0.00000   8038.96        OT\n",
       "3500   668.248     0.00000   8544.38        OT\n",
       "4000 -1069.760     0.00000   8662.18        OT\n",
       "4500  -850.335     0.00000   8716.68        OT\n",
       "5000   768.468     0.00000   9289.55        OT\n",
       "5500   767.857     0.00000   9353.59        OT\n",
       "6000   115.430   100.11800   7775.99        IT\n",
       "6500  -478.503  -102.95300   9051.76        IT\n",
       "7000  -945.000  -841.00000  11968.00      MUON\n",
       "7500 -2902.000  4366.00000  18879.00      MUON\n",
       "8000   922.000   503.00000  15228.00     MUON2\n",
       "8500    16.000    -6.00000     66.00  VELOPHI1"
      ]
     },
     "execution_count": 19,
     "metadata": {},
     "output_type": "execute_result"
    }
   ],
   "source": [
    "df_hits = pd.DataFrame.from_csv(\"data/{}.hits.csv\".format(event_id))\n",
    "\n",
    "print df_hits.shape\n",
    "df_hits[::500]"
   ]
  },
  {
   "cell_type": "markdown",
   "metadata": {},
   "source": [
    "* если relevant_decay_count >0 - __{имя}.decays.csv__ - положения и некоторые параметры интересующих нас распадов\n",
    " * Колонки:\n",
    "     * decayX,decayY,decayZ - точка распада частицы\n",
    "     * children - (строка) перечисление кодов частиц, образовавшися из распада\n",
    "     * flightDistance - евклидово расстояние от точки рождения РАСПАВШЕЙСЯ частицы до точки распада (координаты выше)\n",
    " * Если relevant_decay_count события равен 0, то файла с распадами __не будет__"
   ]
  },
  {
   "cell_type": "code",
   "execution_count": 21,
   "metadata": {
    "collapsed": false
   },
   "outputs": [
    {
     "name": "stdout",
     "output_type": "stream",
     "text": [
      "(2, 5)\n"
     ]
    },
    {
     "data": {
      "text/html": [
       "<div>\n",
       "<table border=\"1\" class=\"dataframe\">\n",
       "  <thead>\n",
       "    <tr style=\"text-align: right;\">\n",
       "      <th></th>\n",
       "      <th>decayX</th>\n",
       "      <th>decayY</th>\n",
       "      <th>decayZ</th>\n",
       "      <th>children</th>\n",
       "      <th>flightDistance</th>\n",
       "    </tr>\n",
       "  </thead>\n",
       "  <tbody>\n",
       "    <tr>\n",
       "      <th>241407</th>\n",
       "      <td>-1.6257</td>\n",
       "      <td>3.7817</td>\n",
       "      <td>15096.1287</td>\n",
       "      <td>211&amp;-211</td>\n",
       "      <td>15213.961214</td>\n",
       "    </tr>\n",
       "    <tr>\n",
       "      <th>241411</th>\n",
       "      <td>-0.2027</td>\n",
       "      <td>10.9744</td>\n",
       "      <td>3586.0956</td>\n",
       "      <td>211&amp;-211</td>\n",
       "      <td>3587.931965</td>\n",
       "    </tr>\n",
       "  </tbody>\n",
       "</table>\n",
       "</div>"
      ],
      "text/plain": [
       "        decayX   decayY      decayZ  children  flightDistance\n",
       "241407 -1.6257   3.7817  15096.1287  211&-211    15213.961214\n",
       "241411 -0.2027  10.9744   3586.0956  211&-211     3587.931965"
      ]
     },
     "execution_count": 21,
     "metadata": {},
     "output_type": "execute_result"
    }
   ],
   "source": [
    "df_decays = pd.DataFrame.from_csv(\"data/{}.decays.csv\".format(event_id))\n",
    "\n",
    "print df_decays.shape\n",
    "df_decays"
   ]
  },
  {
   "cell_type": "markdown",
   "metadata": {},
   "source": [
    "# "
   ]
  }
 ],
 "metadata": {
  "kernelspec": {
   "display_name": "Python 2",
   "language": "python",
   "name": "python2"
  },
  "language_info": {
   "codemirror_mode": {
    "name": "ipython",
    "version": 2
   },
   "file_extension": ".py",
   "mimetype": "text/x-python",
   "name": "python",
   "nbconvert_exporter": "python",
   "pygments_lexer": "ipython2",
   "version": "2.7.6"
  }
 },
 "nbformat": 4,
 "nbformat_minor": 0
}
